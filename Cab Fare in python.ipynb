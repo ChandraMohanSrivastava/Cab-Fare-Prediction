{
 "cells": [
  {
   "cell_type": "code",
   "execution_count": 481,
   "metadata": {},
   "outputs": [],
   "source": [
    "import pandas as pd\n",
    "import os \n",
    "import numpy as np\n",
    "from fancyimpute import KNN\n",
    "import matplotlib.pyplot as pl\n",
    "from ggplot import *\n",
    "import seaborn as sns\n",
    "from math import radians,cos,sin,asin,sqrt\n",
    "import calendar\n",
    "from scipy.stats import chi2_contingency\n",
    "from sklearn.model_selection import train_test_split\n",
    "from sklearn.tree import DecisionTreeRegressor\n",
    "from sklearn.ensemble import RandomForestRegressor"
   ]
  },
  {
   "cell_type": "code",
   "execution_count": 2,
   "metadata": {},
   "outputs": [],
   "source": [
    "os.chdir(\"C:/Users/Mahesh/Desktop/Final Project\")\n"
   ]
  },
  {
   "cell_type": "code",
   "execution_count": 24,
   "metadata": {},
   "outputs": [],
   "source": [
    "train_cab = pd.read_csv(\"train_cab.csv\")\n",
    "\n"
   ]
  },
  {
   "cell_type": "markdown",
   "metadata": {},
   "source": [
    "The train_cab excel file contains the following variable along with the details :\n"
   ]
  },
  {
   "cell_type": "markdown",
   "metadata": {},
   "source": [
    "1.pickup_datetime - timestamp value indicating when the cab ride started."
   ]
  },
  {
   "cell_type": "markdown",
   "metadata": {},
   "source": [
    "2.pickup_longitude - float for longitude coordinate of where the cab ride started.\n"
   ]
  },
  {
   "cell_type": "markdown",
   "metadata": {},
   "source": [
    "3.pickup_latitude - float for latitude coordinate of where the cab ride started.\n",
    "    "
   ]
  },
  {
   "cell_type": "markdown",
   "metadata": {},
   "source": [
    "4.dropoff_longitude - float for longitude coordinate of where the cab ride ended.\n",
    "    "
   ]
  },
  {
   "cell_type": "markdown",
   "metadata": {},
   "source": [
    "5.dropoff_latitude - float for latitude coordinate of where the cab ride ended.\n",
    "    "
   ]
  },
  {
   "cell_type": "markdown",
   "metadata": {},
   "source": [
    "6.passenger_count - an integer indicating the number of passengers in the cab ride.\n"
   ]
  },
  {
   "cell_type": "code",
   "execution_count": 4,
   "metadata": {},
   "outputs": [
    {
     "data": {
      "text/plain": [
       "fare_amount           object\n",
       "pickup_datetime       object\n",
       "pickup_longitude     float64\n",
       "pickup_latitude      float64\n",
       "dropoff_longitude    float64\n",
       "dropoff_latitude     float64\n",
       "passenger_count      float64\n",
       "dtype: object"
      ]
     },
     "execution_count": 4,
     "metadata": {},
     "output_type": "execute_result"
    }
   ],
   "source": [
    "train_cab.dtypes\n"
   ]
  },
  {
   "cell_type": "markdown",
   "metadata": {},
   "source": [
    "Data Cleaning - Before performing any pre-processing techniques such as Missing Value Analysis or Feature Engineering , it is imperative that we get rid of the invalid values  "
   ]
  },
  {
   "cell_type": "markdown",
   "metadata": {},
   "source": [
    "In this case , we'll first deal with invalid passenger_count i.e number of passengers in a car and remove them "
   ]
  },
  {
   "cell_type": "code",
   "execution_count": 25,
   "metadata": {},
   "outputs": [
    {
     "data": {
      "image/png": "[encoded data removed]",
      "text/plain": [
       "<Figure size 792x576 with 1 Axes>"
      ]
     },
     "metadata": {},
     "output_type": "display_data"
    },
    {
     "data": {
      "text/plain": [
       "<ggplot: (158441075148)>"
      ]
     },
     "execution_count": 25,
     "metadata": {},
     "output_type": "execute_result"
    }
   ],
   "source": [
    "ggplot(train_cab , aes(x=\"passenger_count\")) + geom_bar( fill = \"red\") + theme_bw() +  xlab(\"Passengers\") + ylab(\"Count\")\n"
   ]
  },
  {
   "cell_type": "markdown",
   "metadata": {},
   "source": [
    "As we can see there's number of passengers present which are less than 1 , which is impossible.\n",
    "Hence, we need to remove them"
   ]
  },
  {
   "cell_type": "code",
   "execution_count": 26,
   "metadata": {
    "scrolled": true
   },
   "outputs": [
    {
     "data": {
      "text/html": [
       "<div>\n",
       "<style scoped>\n",
       "    .dataframe tbody tr th:only-of-type {\n",
       "        vertical-align: middle;\n",
       "    }\n",
       "\n",
       "    .dataframe tbody tr th {\n",
       "        vertical-align: top;\n",
       "    }\n",
       "\n",
       "    .dataframe thead th {\n",
       "        text-align: right;\n",
       "    }\n",
       "</style>\n",
       "<table border=\"1\" class=\"dataframe\">\n",
       "  <thead>\n",
       "    <tr style=\"text-align: right;\">\n",
       "      <th></th>\n",
       "      <th>fare_amount</th>\n",
       "      <th>pickup_datetime</th>\n",
       "      <th>pickup_longitude</th>\n",
       "      <th>pickup_latitude</th>\n",
       "      <th>dropoff_longitude</th>\n",
       "      <th>dropoff_latitude</th>\n",
       "      <th>passenger_count</th>\n",
       "    </tr>\n",
       "  </thead>\n",
       "  <tbody>\n",
       "    <tr>\n",
       "      <th>314</th>\n",
       "      <td>34</td>\n",
       "      <td>2015-06-02 23:16:15 UTC</td>\n",
       "      <td>-73.974899</td>\n",
       "      <td>40.751095</td>\n",
       "      <td>-73.908546</td>\n",
       "      <td>40.881878</td>\n",
       "      <td>0.00</td>\n",
       "    </tr>\n",
       "    <tr>\n",
       "      <th>566</th>\n",
       "      <td>4.9</td>\n",
       "      <td>2012-01-28 21:33:18 UTC</td>\n",
       "      <td>-73.955322</td>\n",
       "      <td>40.782840</td>\n",
       "      <td>-73.955797</td>\n",
       "      <td>40.773673</td>\n",
       "      <td>0.00</td>\n",
       "    </tr>\n",
       "    <tr>\n",
       "      <th>678</th>\n",
       "      <td>6.5</td>\n",
       "      <td>2012-02-27 07:24:20 UTC</td>\n",
       "      <td>-73.983397</td>\n",
       "      <td>40.738183</td>\n",
       "      <td>-73.971395</td>\n",
       "      <td>40.758023</td>\n",
       "      <td>0.00</td>\n",
       "    </tr>\n",
       "    <tr>\n",
       "      <th>1160</th>\n",
       "      <td>13.3</td>\n",
       "      <td>2011-05-25 23:58:48 UTC</td>\n",
       "      <td>-73.998360</td>\n",
       "      <td>40.740348</td>\n",
       "      <td>-73.946455</td>\n",
       "      <td>40.777348</td>\n",
       "      <td>0.00</td>\n",
       "    </tr>\n",
       "    <tr>\n",
       "      <th>1935</th>\n",
       "      <td>10.1</td>\n",
       "      <td>2011-10-23 11:09:28 UTC</td>\n",
       "      <td>-73.971400</td>\n",
       "      <td>40.795000</td>\n",
       "      <td>-73.967900</td>\n",
       "      <td>40.768600</td>\n",
       "      <td>0.00</td>\n",
       "    </tr>\n",
       "    <tr>\n",
       "      <th>2200</th>\n",
       "      <td>8.1</td>\n",
       "      <td>2011-05-23 16:54:19 UTC</td>\n",
       "      <td>-73.988008</td>\n",
       "      <td>40.748303</td>\n",
       "      <td>-74.005185</td>\n",
       "      <td>40.738733</td>\n",
       "      <td>0.00</td>\n",
       "    </tr>\n",
       "    <tr>\n",
       "      <th>2425</th>\n",
       "      <td>8.9</td>\n",
       "      <td>2011-11-25 22:47:33 UTC</td>\n",
       "      <td>-73.999900</td>\n",
       "      <td>40.738600</td>\n",
       "      <td>-73.971800</td>\n",
       "      <td>40.746300</td>\n",
       "      <td>0.00</td>\n",
       "    </tr>\n",
       "    <tr>\n",
       "      <th>3034</th>\n",
       "      <td>5.7</td>\n",
       "      <td>2011-03-06 12:03:14 UTC</td>\n",
       "      <td>-73.986557</td>\n",
       "      <td>40.745783</td>\n",
       "      <td>-73.994545</td>\n",
       "      <td>40.729995</td>\n",
       "      <td>0.00</td>\n",
       "    </tr>\n",
       "    <tr>\n",
       "      <th>3413</th>\n",
       "      <td>7.3</td>\n",
       "      <td>2011-02-28 06:39:16 UTC</td>\n",
       "      <td>-73.973413</td>\n",
       "      <td>40.743708</td>\n",
       "      <td>-73.985220</td>\n",
       "      <td>40.741583</td>\n",
       "      <td>0.00</td>\n",
       "    </tr>\n",
       "    <tr>\n",
       "      <th>3481</th>\n",
       "      <td>11.3</td>\n",
       "      <td>2011-11-30 17:23:02 UTC</td>\n",
       "      <td>-73.968100</td>\n",
       "      <td>40.762500</td>\n",
       "      <td>-73.984400</td>\n",
       "      <td>40.760900</td>\n",
       "      <td>0.00</td>\n",
       "    </tr>\n",
       "    <tr>\n",
       "      <th>3489</th>\n",
       "      <td>7.3</td>\n",
       "      <td>2011-10-18 08:18:18 UTC</td>\n",
       "      <td>-73.966100</td>\n",
       "      <td>40.794500</td>\n",
       "      <td>-73.960300</td>\n",
       "      <td>40.779800</td>\n",
       "      <td>0.00</td>\n",
       "    </tr>\n",
       "    <tr>\n",
       "      <th>3599</th>\n",
       "      <td>8.9</td>\n",
       "      <td>2011-03-06 18:24:50 UTC</td>\n",
       "      <td>-73.982657</td>\n",
       "      <td>40.746145</td>\n",
       "      <td>-74.005580</td>\n",
       "      <td>40.724402</td>\n",
       "      <td>0.00</td>\n",
       "    </tr>\n",
       "    <tr>\n",
       "      <th>4114</th>\n",
       "      <td>4.5</td>\n",
       "      <td>2011-07-22 05:51:00 UTC</td>\n",
       "      <td>-73.975500</td>\n",
       "      <td>40.760800</td>\n",
       "      <td>-73.990200</td>\n",
       "      <td>40.760000</td>\n",
       "      <td>0.00</td>\n",
       "    </tr>\n",
       "    <tr>\n",
       "      <th>4248</th>\n",
       "      <td>4.1</td>\n",
       "      <td>2012-02-15 11:19:50 UTC</td>\n",
       "      <td>-73.982112</td>\n",
       "      <td>40.721073</td>\n",
       "      <td>-73.992240</td>\n",
       "      <td>40.725313</td>\n",
       "      <td>0.00</td>\n",
       "    </tr>\n",
       "    <tr>\n",
       "      <th>4344</th>\n",
       "      <td>24.9</td>\n",
       "      <td>2011-05-19 13:28:17 UTC</td>\n",
       "      <td>-73.789230</td>\n",
       "      <td>40.646622</td>\n",
       "      <td>-73.725032</td>\n",
       "      <td>40.614140</td>\n",
       "      <td>0.00</td>\n",
       "    </tr>\n",
       "    <tr>\n",
       "      <th>4354</th>\n",
       "      <td>5.3</td>\n",
       "      <td>2012-01-15 12:06:43 UTC</td>\n",
       "      <td>-73.964400</td>\n",
       "      <td>40.767500</td>\n",
       "      <td>-73.981600</td>\n",
       "      <td>40.774000</td>\n",
       "      <td>0.00</td>\n",
       "    </tr>\n",
       "    <tr>\n",
       "      <th>5058</th>\n",
       "      <td>12.9</td>\n",
       "      <td>2011-11-05 18:29:30 UTC</td>\n",
       "      <td>-74.008900</td>\n",
       "      <td>40.709400</td>\n",
       "      <td>-73.985400</td>\n",
       "      <td>40.756200</td>\n",
       "      <td>0.00</td>\n",
       "    </tr>\n",
       "    <tr>\n",
       "      <th>5150</th>\n",
       "      <td>7.7</td>\n",
       "      <td>2011-11-07 22:07:24 UTC</td>\n",
       "      <td>-73.984900</td>\n",
       "      <td>40.675300</td>\n",
       "      <td>-74.010400</td>\n",
       "      <td>40.655200</td>\n",
       "      <td>0.00</td>\n",
       "    </tr>\n",
       "    <tr>\n",
       "      <th>5161</th>\n",
       "      <td>11.3</td>\n",
       "      <td>2011-12-20 06:59:57 UTC</td>\n",
       "      <td>-73.983700</td>\n",
       "      <td>40.775800</td>\n",
       "      <td>-73.985300</td>\n",
       "      <td>40.741300</td>\n",
       "      <td>0.00</td>\n",
       "    </tr>\n",
       "    <tr>\n",
       "      <th>5277</th>\n",
       "      <td>6.1</td>\n",
       "      <td>2012-04-12 09:35:22 UTC</td>\n",
       "      <td>-73.967003</td>\n",
       "      <td>40.772417</td>\n",
       "      <td>-73.968860</td>\n",
       "      <td>40.761147</td>\n",
       "      <td>0.00</td>\n",
       "    </tr>\n",
       "    <tr>\n",
       "      <th>5517</th>\n",
       "      <td>3.3</td>\n",
       "      <td>2012-07-02 16:11:55 UTC</td>\n",
       "      <td>-74.007110</td>\n",
       "      <td>40.743862</td>\n",
       "      <td>-74.003337</td>\n",
       "      <td>40.748877</td>\n",
       "      <td>0.00</td>\n",
       "    </tr>\n",
       "    <tr>\n",
       "      <th>5557</th>\n",
       "      <td>27.3</td>\n",
       "      <td>2011-02-08 13:31:18 UTC</td>\n",
       "      <td>-73.873318</td>\n",
       "      <td>40.773948</td>\n",
       "      <td>-74.010205</td>\n",
       "      <td>40.711158</td>\n",
       "      <td>0.00</td>\n",
       "    </tr>\n",
       "    <tr>\n",
       "      <th>5688</th>\n",
       "      <td>4.9</td>\n",
       "      <td>2011-09-07 21:50:40 UTC</td>\n",
       "      <td>-73.986700</td>\n",
       "      <td>40.761300</td>\n",
       "      <td>-73.982300</td>\n",
       "      <td>40.773900</td>\n",
       "      <td>0.00</td>\n",
       "    </tr>\n",
       "    <tr>\n",
       "      <th>5914</th>\n",
       "      <td>8.5</td>\n",
       "      <td>2011-12-19 22:44:42 UTC</td>\n",
       "      <td>-73.982000</td>\n",
       "      <td>40.755900</td>\n",
       "      <td>-73.955600</td>\n",
       "      <td>40.769600</td>\n",
       "      <td>0.00</td>\n",
       "    </tr>\n",
       "    <tr>\n",
       "      <th>6036</th>\n",
       "      <td>7.7</td>\n",
       "      <td>2011-02-26 12:41:03 UTC</td>\n",
       "      <td>-73.976715</td>\n",
       "      <td>40.775708</td>\n",
       "      <td>-73.972785</td>\n",
       "      <td>40.764467</td>\n",
       "      <td>0.00</td>\n",
       "    </tr>\n",
       "    <tr>\n",
       "      <th>6575</th>\n",
       "      <td>4.5</td>\n",
       "      <td>2012-04-19 19:44:48 UTC</td>\n",
       "      <td>-73.964598</td>\n",
       "      <td>40.807213</td>\n",
       "      <td>-73.970875</td>\n",
       "      <td>40.797955</td>\n",
       "      <td>0.00</td>\n",
       "    </tr>\n",
       "    <tr>\n",
       "      <th>6713</th>\n",
       "      <td>10.5</td>\n",
       "      <td>2012-03-06 15:35:37 UTC</td>\n",
       "      <td>-73.965115</td>\n",
       "      <td>40.766463</td>\n",
       "      <td>-73.997523</td>\n",
       "      <td>40.744878</td>\n",
       "      <td>0.00</td>\n",
       "    </tr>\n",
       "    <tr>\n",
       "      <th>6881</th>\n",
       "      <td>5.7</td>\n",
       "      <td>2011-06-14 10:12:16 UTC</td>\n",
       "      <td>-73.959000</td>\n",
       "      <td>40.781000</td>\n",
       "      <td>-73.950300</td>\n",
       "      <td>40.775400</td>\n",
       "      <td>0.00</td>\n",
       "    </tr>\n",
       "    <tr>\n",
       "      <th>7279</th>\n",
       "      <td>10.9</td>\n",
       "      <td>2012-04-18 18:44:15 UTC</td>\n",
       "      <td>-73.982930</td>\n",
       "      <td>40.722645</td>\n",
       "      <td>-73.971108</td>\n",
       "      <td>40.760172</td>\n",
       "      <td>0.00</td>\n",
       "    </tr>\n",
       "    <tr>\n",
       "      <th>7520</th>\n",
       "      <td>6.9</td>\n",
       "      <td>2011-06-08 13:11:10 UTC</td>\n",
       "      <td>-73.975100</td>\n",
       "      <td>40.755200</td>\n",
       "      <td>-73.980000</td>\n",
       "      <td>40.765900</td>\n",
       "      <td>0.00</td>\n",
       "    </tr>\n",
       "    <tr>\n",
       "      <th>7640</th>\n",
       "      <td>10.9</td>\n",
       "      <td>2012-01-21 16:17:50 UTC</td>\n",
       "      <td>-73.999505</td>\n",
       "      <td>40.725002</td>\n",
       "      <td>-73.973262</td>\n",
       "      <td>40.763290</td>\n",
       "      <td>0.00</td>\n",
       "    </tr>\n",
       "    <tr>\n",
       "      <th>7909</th>\n",
       "      <td>6.9</td>\n",
       "      <td>2011-03-12 17:03:23 UTC</td>\n",
       "      <td>-73.974793</td>\n",
       "      <td>40.759865</td>\n",
       "      <td>-73.955718</td>\n",
       "      <td>40.772732</td>\n",
       "      <td>0.00</td>\n",
       "    </tr>\n",
       "    <tr>\n",
       "      <th>8321</th>\n",
       "      <td>7.3</td>\n",
       "      <td>2012-02-25 19:19:41 UTC</td>\n",
       "      <td>-74.003725</td>\n",
       "      <td>40.742108</td>\n",
       "      <td>-73.988270</td>\n",
       "      <td>40.759308</td>\n",
       "      <td>0.00</td>\n",
       "    </tr>\n",
       "    <tr>\n",
       "      <th>8661</th>\n",
       "      <td>8.1</td>\n",
       "      <td>2012-01-13 13:47:57 UTC</td>\n",
       "      <td>-73.999700</td>\n",
       "      <td>40.721800</td>\n",
       "      <td>-74.005600</td>\n",
       "      <td>40.741100</td>\n",
       "      <td>0.00</td>\n",
       "    </tr>\n",
       "    <tr>\n",
       "      <th>8862</th>\n",
       "      <td>11.5</td>\n",
       "      <td>2013-05-17 07:15:00 UTC</td>\n",
       "      <td>-73.969835</td>\n",
       "      <td>40.753017</td>\n",
       "      <td>-73.998580</td>\n",
       "      <td>40.712927</td>\n",
       "      <td>0.12</td>\n",
       "    </tr>\n",
       "    <tr>\n",
       "      <th>8916</th>\n",
       "      <td>2.5</td>\n",
       "      <td>2011-09-13 18:45:31 UTC</td>\n",
       "      <td>-73.783300</td>\n",
       "      <td>40.648600</td>\n",
       "      <td>-73.783300</td>\n",
       "      <td>40.648600</td>\n",
       "      <td>0.00</td>\n",
       "    </tr>\n",
       "    <tr>\n",
       "      <th>8971</th>\n",
       "      <td>7.7</td>\n",
       "      <td>2011-10-22 20:50:34 UTC</td>\n",
       "      <td>-73.998600</td>\n",
       "      <td>40.761000</td>\n",
       "      <td>-73.977900</td>\n",
       "      <td>40.777200</td>\n",
       "      <td>0.00</td>\n",
       "    </tr>\n",
       "    <tr>\n",
       "      <th>9159</th>\n",
       "      <td>3.3</td>\n",
       "      <td>2011-06-04 10:38:47 UTC</td>\n",
       "      <td>-73.987300</td>\n",
       "      <td>40.729200</td>\n",
       "      <td>-73.994000</td>\n",
       "      <td>40.732100</td>\n",
       "      <td>0.00</td>\n",
       "    </tr>\n",
       "    <tr>\n",
       "      <th>9965</th>\n",
       "      <td>9.3</td>\n",
       "      <td>2012-01-04 22:04:14 UTC</td>\n",
       "      <td>-73.971000</td>\n",
       "      <td>40.754900</td>\n",
       "      <td>-74.004500</td>\n",
       "      <td>40.736100</td>\n",
       "      <td>0.00</td>\n",
       "    </tr>\n",
       "    <tr>\n",
       "      <th>10642</th>\n",
       "      <td>10.1</td>\n",
       "      <td>2012-03-10 18:21:16 UTC</td>\n",
       "      <td>-73.972272</td>\n",
       "      <td>40.754037</td>\n",
       "      <td>-73.994090</td>\n",
       "      <td>40.734440</td>\n",
       "      <td>0.00</td>\n",
       "    </tr>\n",
       "    <tr>\n",
       "      <th>10663</th>\n",
       "      <td>18.1</td>\n",
       "      <td>2011-05-06 13:38:48 UTC</td>\n",
       "      <td>-73.973818</td>\n",
       "      <td>40.789362</td>\n",
       "      <td>-73.942252</td>\n",
       "      <td>40.754120</td>\n",
       "      <td>0.00</td>\n",
       "    </tr>\n",
       "    <tr>\n",
       "      <th>10711</th>\n",
       "      <td>6.5</td>\n",
       "      <td>2012-03-31 20:16:01 UTC</td>\n",
       "      <td>-74.004323</td>\n",
       "      <td>40.724073</td>\n",
       "      <td>-74.006453</td>\n",
       "      <td>40.738420</td>\n",
       "      <td>0.00</td>\n",
       "    </tr>\n",
       "    <tr>\n",
       "      <th>11462</th>\n",
       "      <td>15.7</td>\n",
       "      <td>2011-10-20 23:09:45 UTC</td>\n",
       "      <td>-73.994800</td>\n",
       "      <td>40.750400</td>\n",
       "      <td>-73.959200</td>\n",
       "      <td>40.710600</td>\n",
       "      <td>0.00</td>\n",
       "    </tr>\n",
       "    <tr>\n",
       "      <th>11803</th>\n",
       "      <td>12.1</td>\n",
       "      <td>2011-06-21 08:58:36 UTC</td>\n",
       "      <td>-73.999000</td>\n",
       "      <td>40.724800</td>\n",
       "      <td>-73.980600</td>\n",
       "      <td>40.754900</td>\n",
       "      <td>0.00</td>\n",
       "    </tr>\n",
       "    <tr>\n",
       "      <th>12216</th>\n",
       "      <td>5.7</td>\n",
       "      <td>2012-03-27 16:06:09 UTC</td>\n",
       "      <td>-73.982017</td>\n",
       "      <td>40.756338</td>\n",
       "      <td>-73.980987</td>\n",
       "      <td>40.745442</td>\n",
       "      <td>0.00</td>\n",
       "    </tr>\n",
       "    <tr>\n",
       "      <th>12611</th>\n",
       "      <td>8.1</td>\n",
       "      <td>2011-07-22 23:13:58 UTC</td>\n",
       "      <td>-73.978000</td>\n",
       "      <td>40.752300</td>\n",
       "      <td>-73.991800</td>\n",
       "      <td>40.763900</td>\n",
       "      <td>0.00</td>\n",
       "    </tr>\n",
       "    <tr>\n",
       "      <th>13029</th>\n",
       "      <td>4.5</td>\n",
       "      <td>2012-02-01 21:18:24 UTC</td>\n",
       "      <td>-73.982117</td>\n",
       "      <td>40.770408</td>\n",
       "      <td>-73.980057</td>\n",
       "      <td>40.762155</td>\n",
       "      <td>0.00</td>\n",
       "    </tr>\n",
       "    <tr>\n",
       "      <th>13227</th>\n",
       "      <td>10.9</td>\n",
       "      <td>2011-04-22 18:13:12 UTC</td>\n",
       "      <td>-73.999512</td>\n",
       "      <td>40.722078</td>\n",
       "      <td>-73.989495</td>\n",
       "      <td>40.747422</td>\n",
       "      <td>0.00</td>\n",
       "    </tr>\n",
       "    <tr>\n",
       "      <th>13379</th>\n",
       "      <td>7.3</td>\n",
       "      <td>2012-03-14 07:20:10 UTC</td>\n",
       "      <td>-73.964512</td>\n",
       "      <td>40.771577</td>\n",
       "      <td>-73.945595</td>\n",
       "      <td>40.778032</td>\n",
       "      <td>0.00</td>\n",
       "    </tr>\n",
       "    <tr>\n",
       "      <th>13714</th>\n",
       "      <td>4.1</td>\n",
       "      <td>2011-12-15 07:05:33 UTC</td>\n",
       "      <td>-73.979400</td>\n",
       "      <td>40.731100</td>\n",
       "      <td>-73.981500</td>\n",
       "      <td>40.724800</td>\n",
       "      <td>0.00</td>\n",
       "    </tr>\n",
       "    <tr>\n",
       "      <th>13742</th>\n",
       "      <td>21.7</td>\n",
       "      <td>2011-04-29 12:51:14 UTC</td>\n",
       "      <td>-74.009472</td>\n",
       "      <td>40.702140</td>\n",
       "      <td>-73.959185</td>\n",
       "      <td>40.783245</td>\n",
       "      <td>0.00</td>\n",
       "    </tr>\n",
       "    <tr>\n",
       "      <th>14196</th>\n",
       "      <td>8.1</td>\n",
       "      <td>2011-10-06 23:31:04 UTC</td>\n",
       "      <td>-73.999400</td>\n",
       "      <td>40.743800</td>\n",
       "      <td>-73.990400</td>\n",
       "      <td>40.724800</td>\n",
       "      <td>0.00</td>\n",
       "    </tr>\n",
       "    <tr>\n",
       "      <th>14308</th>\n",
       "      <td>8.1</td>\n",
       "      <td>2011-11-11 12:03:38 UTC</td>\n",
       "      <td>0.000000</td>\n",
       "      <td>0.000000</td>\n",
       "      <td>-73.990000</td>\n",
       "      <td>40.755400</td>\n",
       "      <td>0.00</td>\n",
       "    </tr>\n",
       "    <tr>\n",
       "      <th>14872</th>\n",
       "      <td>3.3</td>\n",
       "      <td>2011-03-02 19:25:46 UTC</td>\n",
       "      <td>-73.948553</td>\n",
       "      <td>40.773972</td>\n",
       "      <td>-73.945098</td>\n",
       "      <td>40.778413</td>\n",
       "      <td>0.00</td>\n",
       "    </tr>\n",
       "    <tr>\n",
       "      <th>15286</th>\n",
       "      <td>4.9</td>\n",
       "      <td>2012-03-20 22:23:34 UTC</td>\n",
       "      <td>-73.971808</td>\n",
       "      <td>40.760143</td>\n",
       "      <td>-73.962027</td>\n",
       "      <td>40.767677</td>\n",
       "      <td>0.00</td>\n",
       "    </tr>\n",
       "    <tr>\n",
       "      <th>15514</th>\n",
       "      <td>6.5</td>\n",
       "      <td>2012-02-12 02:03:50 UTC</td>\n",
       "      <td>-73.999342</td>\n",
       "      <td>40.718872</td>\n",
       "      <td>-73.984112</td>\n",
       "      <td>40.725242</td>\n",
       "      <td>0.00</td>\n",
       "    </tr>\n",
       "    <tr>\n",
       "      <th>15554</th>\n",
       "      <td>6.5</td>\n",
       "      <td>2011-08-03 08:31:19 UTC</td>\n",
       "      <td>-73.991700</td>\n",
       "      <td>40.750100</td>\n",
       "      <td>-73.981000</td>\n",
       "      <td>40.750900</td>\n",
       "      <td>0.00</td>\n",
       "    </tr>\n",
       "    <tr>\n",
       "      <th>15919</th>\n",
       "      <td>16.5</td>\n",
       "      <td>2011-10-17 08:58:54 UTC</td>\n",
       "      <td>0.000000</td>\n",
       "      <td>0.000000</td>\n",
       "      <td>-73.999700</td>\n",
       "      <td>40.734500</td>\n",
       "      <td>0.00</td>\n",
       "    </tr>\n",
       "  </tbody>\n",
       "</table>\n",
       "</div>"
      ],
      "text/plain": [
       "      fare_amount          pickup_datetime  pickup_longitude  pickup_latitude  \\\n",
       "314            34  2015-06-02 23:16:15 UTC        -73.974899        40.751095   \n",
       "566           4.9  2012-01-28 21:33:18 UTC        -73.955322        40.782840   \n",
       "678           6.5  2012-02-27 07:24:20 UTC        -73.983397        40.738183   \n",
       "1160         13.3  2011-05-25 23:58:48 UTC        -73.998360        40.740348   \n",
       "1935         10.1  2011-10-23 11:09:28 UTC        -73.971400        40.795000   \n",
       "2200          8.1  2011-05-23 16:54:19 UTC        -73.988008        40.748303   \n",
       "2425          8.9  2011-11-25 22:47:33 UTC        -73.999900        40.738600   \n",
       "3034          5.7  2011-03-06 12:03:14 UTC        -73.986557        40.745783   \n",
       "3413          7.3  2011-02-28 06:39:16 UTC        -73.973413        40.743708   \n",
       "3481         11.3  2011-11-30 17:23:02 UTC        -73.968100        40.762500   \n",
       "3489          7.3  2011-10-18 08:18:18 UTC        -73.966100        40.794500   \n",
       "3599          8.9  2011-03-06 18:24:50 UTC        -73.982657        40.746145   \n",
       "4114          4.5  2011-07-22 05:51:00 UTC        -73.975500        40.760800   \n",
       "4248          4.1  2012-02-15 11:19:50 UTC        -73.982112        40.721073   \n",
       "4344         24.9  2011-05-19 13:28:17 UTC        -73.789230        40.646622   \n",
       "4354          5.3  2012-01-15 12:06:43 UTC        -73.964400        40.767500   \n",
       "5058         12.9  2011-11-05 18:29:30 UTC        -74.008900        40.709400   \n",
       "5150          7.7  2011-11-07 22:07:24 UTC        -73.984900        40.675300   \n",
       "5161         11.3  2011-12-20 06:59:57 UTC        -73.983700        40.775800   \n",
       "5277          6.1  2012-04-12 09:35:22 UTC        -73.967003        40.772417   \n",
       "5517          3.3  2012-07-02 16:11:55 UTC        -74.007110        40.743862   \n",
       "5557         27.3  2011-02-08 13:31:18 UTC        -73.873318        40.773948   \n",
       "5688          4.9  2011-09-07 21:50:40 UTC        -73.986700        40.761300   \n",
       "5914          8.5  2011-12-19 22:44:42 UTC        -73.982000        40.755900   \n",
       "6036          7.7  2011-02-26 12:41:03 UTC        -73.976715        40.775708   \n",
       "6575          4.5  2012-04-19 19:44:48 UTC        -73.964598        40.807213   \n",
       "6713         10.5  2012-03-06 15:35:37 UTC        -73.965115        40.766463   \n",
       "6881          5.7  2011-06-14 10:12:16 UTC        -73.959000        40.781000   \n",
       "7279         10.9  2012-04-18 18:44:15 UTC        -73.982930        40.722645   \n",
       "7520          6.9  2011-06-08 13:11:10 UTC        -73.975100        40.755200   \n",
       "7640         10.9  2012-01-21 16:17:50 UTC        -73.999505        40.725002   \n",
       "7909          6.9  2011-03-12 17:03:23 UTC        -73.974793        40.759865   \n",
       "8321          7.3  2012-02-25 19:19:41 UTC        -74.003725        40.742108   \n",
       "8661          8.1  2012-01-13 13:47:57 UTC        -73.999700        40.721800   \n",
       "8862         11.5  2013-05-17 07:15:00 UTC        -73.969835        40.753017   \n",
       "8916          2.5  2011-09-13 18:45:31 UTC        -73.783300        40.648600   \n",
       "8971          7.7  2011-10-22 20:50:34 UTC        -73.998600        40.761000   \n",
       "9159          3.3  2011-06-04 10:38:47 UTC        -73.987300        40.729200   \n",
       "9965          9.3  2012-01-04 22:04:14 UTC        -73.971000        40.754900   \n",
       "10642        10.1  2012-03-10 18:21:16 UTC        -73.972272        40.754037   \n",
       "10663        18.1  2011-05-06 13:38:48 UTC        -73.973818        40.789362   \n",
       "10711         6.5  2012-03-31 20:16:01 UTC        -74.004323        40.724073   \n",
       "11462        15.7  2011-10-20 23:09:45 UTC        -73.994800        40.750400   \n",
       "11803        12.1  2011-06-21 08:58:36 UTC        -73.999000        40.724800   \n",
       "12216         5.7  2012-03-27 16:06:09 UTC        -73.982017        40.756338   \n",
       "12611         8.1  2011-07-22 23:13:58 UTC        -73.978000        40.752300   \n",
       "13029         4.5  2012-02-01 21:18:24 UTC        -73.982117        40.770408   \n",
       "13227        10.9  2011-04-22 18:13:12 UTC        -73.999512        40.722078   \n",
       "13379         7.3  2012-03-14 07:20:10 UTC        -73.964512        40.771577   \n",
       "13714         4.1  2011-12-15 07:05:33 UTC        -73.979400        40.731100   \n",
       "13742        21.7  2011-04-29 12:51:14 UTC        -74.009472        40.702140   \n",
       "14196         8.1  2011-10-06 23:31:04 UTC        -73.999400        40.743800   \n",
       "14308         8.1  2011-11-11 12:03:38 UTC          0.000000         0.000000   \n",
       "14872         3.3  2011-03-02 19:25:46 UTC        -73.948553        40.773972   \n",
       "15286         4.9  2012-03-20 22:23:34 UTC        -73.971808        40.760143   \n",
       "15514         6.5  2012-02-12 02:03:50 UTC        -73.999342        40.718872   \n",
       "15554         6.5  2011-08-03 08:31:19 UTC        -73.991700        40.750100   \n",
       "15919        16.5  2011-10-17 08:58:54 UTC          0.000000         0.000000   \n",
       "\n",
       "       dropoff_longitude  dropoff_latitude  passenger_count  \n",
       "314           -73.908546         40.881878             0.00  \n",
       "566           -73.955797         40.773673             0.00  \n",
       "678           -73.971395         40.758023             0.00  \n",
       "1160          -73.946455         40.777348             0.00  \n",
       "1935          -73.967900         40.768600             0.00  \n",
       "2200          -74.005185         40.738733             0.00  \n",
       "2425          -73.971800         40.746300             0.00  \n",
       "3034          -73.994545         40.729995             0.00  \n",
       "3413          -73.985220         40.741583             0.00  \n",
       "3481          -73.984400         40.760900             0.00  \n",
       "3489          -73.960300         40.779800             0.00  \n",
       "3599          -74.005580         40.724402             0.00  \n",
       "4114          -73.990200         40.760000             0.00  \n",
       "4248          -73.992240         40.725313             0.00  \n",
       "4344          -73.725032         40.614140             0.00  \n",
       "4354          -73.981600         40.774000             0.00  \n",
       "5058          -73.985400         40.756200             0.00  \n",
       "5150          -74.010400         40.655200             0.00  \n",
       "5161          -73.985300         40.741300             0.00  \n",
       "5277          -73.968860         40.761147             0.00  \n",
       "5517          -74.003337         40.748877             0.00  \n",
       "5557          -74.010205         40.711158             0.00  \n",
       "5688          -73.982300         40.773900             0.00  \n",
       "5914          -73.955600         40.769600             0.00  \n",
       "6036          -73.972785         40.764467             0.00  \n",
       "6575          -73.970875         40.797955             0.00  \n",
       "6713          -73.997523         40.744878             0.00  \n",
       "6881          -73.950300         40.775400             0.00  \n",
       "7279          -73.971108         40.760172             0.00  \n",
       "7520          -73.980000         40.765900             0.00  \n",
       "7640          -73.973262         40.763290             0.00  \n",
       "7909          -73.955718         40.772732             0.00  \n",
       "8321          -73.988270         40.759308             0.00  \n",
       "8661          -74.005600         40.741100             0.00  \n",
       "8862          -73.998580         40.712927             0.12  \n",
       "8916          -73.783300         40.648600             0.00  \n",
       "8971          -73.977900         40.777200             0.00  \n",
       "9159          -73.994000         40.732100             0.00  \n",
       "9965          -74.004500         40.736100             0.00  \n",
       "10642         -73.994090         40.734440             0.00  \n",
       "10663         -73.942252         40.754120             0.00  \n",
       "10711         -74.006453         40.738420             0.00  \n",
       "11462         -73.959200         40.710600             0.00  \n",
       "11803         -73.980600         40.754900             0.00  \n",
       "12216         -73.980987         40.745442             0.00  \n",
       "12611         -73.991800         40.763900             0.00  \n",
       "13029         -73.980057         40.762155             0.00  \n",
       "13227         -73.989495         40.747422             0.00  \n",
       "13379         -73.945595         40.778032             0.00  \n",
       "13714         -73.981500         40.724800             0.00  \n",
       "13742         -73.959185         40.783245             0.00  \n",
       "14196         -73.990400         40.724800             0.00  \n",
       "14308         -73.990000         40.755400             0.00  \n",
       "14872         -73.945098         40.778413             0.00  \n",
       "15286         -73.962027         40.767677             0.00  \n",
       "15514         -73.984112         40.725242             0.00  \n",
       "15554         -73.981000         40.750900             0.00  \n",
       "15919         -73.999700         40.734500             0.00  "
      ]
     },
     "execution_count": 26,
     "metadata": {},
     "output_type": "execute_result"
    }
   ],
   "source": [
    "train_cab[train_cab['passenger_count'] < 1 ]"
   ]
  },
  {
   "cell_type": "code",
   "execution_count": 27,
   "metadata": {},
   "outputs": [
    {
     "data": {
      "text/plain": [
       "58"
      ]
     },
     "execution_count": 27,
     "metadata": {},
     "output_type": "execute_result"
    }
   ],
   "source": [
    "len(train_cab[train_cab['passenger_count'] < 1 ])"
   ]
  },
  {
   "cell_type": "code",
   "execution_count": 28,
   "metadata": {},
   "outputs": [],
   "source": [
    "train_cab = train_cab.drop(train_cab[train_cab['passenger_count'] < 1  ].index)"
   ]
  },
  {
   "cell_type": "code",
   "execution_count": 29,
   "metadata": {},
   "outputs": [
    {
     "data": {
      "text/plain": [
       "(16009, 7)"
      ]
     },
     "execution_count": 29,
     "metadata": {},
     "output_type": "execute_result"
    }
   ],
   "source": [
    "train_cab.shape\n",
    "#58 rows have been removed."
   ]
  },
  {
   "cell_type": "markdown",
   "metadata": {},
   "source": [
    "From the above graph , we can observe there's no negative values but the prsence of peculiar value still exists \n",
    "such as passenger_count with value = 1.3 and some greater than 6 - which needs to be removed.\n"
   ]
  },
  {
   "cell_type": "markdown",
   "metadata": {},
   "source": [
    "That is one of the underlying assumption - maximum passenger count in a cab is 6 - beyond that is dissmissed"
   ]
  },
  {
   "cell_type": "code",
   "execution_count": 30,
   "metadata": {
    "collapsed": true
   },
   "outputs": [
    {
     "data": {
      "text/html": [
       "<div>\n",
       "<style scoped>\n",
       "    .dataframe tbody tr th:only-of-type {\n",
       "        vertical-align: middle;\n",
       "    }\n",
       "\n",
       "    .dataframe tbody tr th {\n",
       "        vertical-align: top;\n",
       "    }\n",
       "\n",
       "    .dataframe thead th {\n",
       "        text-align: right;\n",
       "    }\n",
       "</style>\n",
       "<table border=\"1\" class=\"dataframe\">\n",
       "  <thead>\n",
       "    <tr style=\"text-align: right;\">\n",
       "      <th></th>\n",
       "      <th>fare_amount</th>\n",
       "      <th>pickup_datetime</th>\n",
       "      <th>pickup_longitude</th>\n",
       "      <th>pickup_latitude</th>\n",
       "      <th>dropoff_longitude</th>\n",
       "      <th>dropoff_latitude</th>\n",
       "      <th>passenger_count</th>\n",
       "    </tr>\n",
       "  </thead>\n",
       "  <tbody>\n",
       "    <tr>\n",
       "      <th>233</th>\n",
       "      <td>8.5</td>\n",
       "      <td>2011-07-24 01:14:35 UTC</td>\n",
       "      <td>0.000000</td>\n",
       "      <td>0.000000</td>\n",
       "      <td>0.000000</td>\n",
       "      <td>0.000000</td>\n",
       "      <td>236.0</td>\n",
       "    </tr>\n",
       "    <tr>\n",
       "      <th>263</th>\n",
       "      <td>4.9</td>\n",
       "      <td>2010-07-12 09:44:33 UTC</td>\n",
       "      <td>-73.983249</td>\n",
       "      <td>40.734655</td>\n",
       "      <td>-73.991278</td>\n",
       "      <td>40.738918</td>\n",
       "      <td>456.0</td>\n",
       "    </tr>\n",
       "    <tr>\n",
       "      <th>293</th>\n",
       "      <td>6.1</td>\n",
       "      <td>2011-01-18 23:48:00 UTC</td>\n",
       "      <td>-74.006642</td>\n",
       "      <td>40.738927</td>\n",
       "      <td>-74.010828</td>\n",
       "      <td>40.717907</td>\n",
       "      <td>5334.0</td>\n",
       "    </tr>\n",
       "    <tr>\n",
       "      <th>356</th>\n",
       "      <td>8.5</td>\n",
       "      <td>2013-06-18 10:27:05 UTC</td>\n",
       "      <td>-73.992108</td>\n",
       "      <td>40.764203</td>\n",
       "      <td>-73.973000</td>\n",
       "      <td>40.762695</td>\n",
       "      <td>535.0</td>\n",
       "    </tr>\n",
       "    <tr>\n",
       "      <th>386</th>\n",
       "      <td>8.1</td>\n",
       "      <td>2009-08-21 19:35:05 UTC</td>\n",
       "      <td>-73.960853</td>\n",
       "      <td>40.761557</td>\n",
       "      <td>-73.976335</td>\n",
       "      <td>40.748361</td>\n",
       "      <td>354.0</td>\n",
       "    </tr>\n",
       "    <tr>\n",
       "      <th>413</th>\n",
       "      <td>NaN</td>\n",
       "      <td>2013-09-12 11:32:00 UTC</td>\n",
       "      <td>-73.982060</td>\n",
       "      <td>40.772705</td>\n",
       "      <td>-73.956213</td>\n",
       "      <td>40.771777</td>\n",
       "      <td>55.0</td>\n",
       "    </tr>\n",
       "    <tr>\n",
       "      <th>971</th>\n",
       "      <td>10.1</td>\n",
       "      <td>2010-11-21 01:41:00 UTC</td>\n",
       "      <td>-74.004500</td>\n",
       "      <td>40.742143</td>\n",
       "      <td>-73.994330</td>\n",
       "      <td>40.720412</td>\n",
       "      <td>554.0</td>\n",
       "    </tr>\n",
       "    <tr>\n",
       "      <th>1007</th>\n",
       "      <td>3.7</td>\n",
       "      <td>2010-12-14 14:46:00 UTC</td>\n",
       "      <td>-73.969157</td>\n",
       "      <td>40.759000</td>\n",
       "      <td>-73.968763</td>\n",
       "      <td>40.764617</td>\n",
       "      <td>53.0</td>\n",
       "    </tr>\n",
       "    <tr>\n",
       "      <th>1043</th>\n",
       "      <td>5.7</td>\n",
       "      <td>2012-08-22 22:08:29 UTC</td>\n",
       "      <td>-73.973573</td>\n",
       "      <td>40.760184</td>\n",
       "      <td>-73.953564</td>\n",
       "      <td>40.767392</td>\n",
       "      <td>35.0</td>\n",
       "    </tr>\n",
       "    <tr>\n",
       "      <th>1107</th>\n",
       "      <td>4.9</td>\n",
       "      <td>2009-08-08 21:50:50 UTC</td>\n",
       "      <td>-73.988977</td>\n",
       "      <td>40.721068</td>\n",
       "      <td>-73.982368</td>\n",
       "      <td>40.732064</td>\n",
       "      <td>345.0</td>\n",
       "    </tr>\n",
       "    <tr>\n",
       "      <th>1146</th>\n",
       "      <td>8</td>\n",
       "      <td>2014-03-27 08:05:01 UTC</td>\n",
       "      <td>-73.991098</td>\n",
       "      <td>40.770655</td>\n",
       "      <td>-73.976933</td>\n",
       "      <td>40.790070</td>\n",
       "      <td>5345.0</td>\n",
       "    </tr>\n",
       "    <tr>\n",
       "      <th>1200</th>\n",
       "      <td>9.7</td>\n",
       "      <td>2011-08-16 09:29:00 UTC</td>\n",
       "      <td>-73.980487</td>\n",
       "      <td>40.741610</td>\n",
       "      <td>-73.980617</td>\n",
       "      <td>40.746868</td>\n",
       "      <td>536.0</td>\n",
       "    </tr>\n",
       "    <tr>\n",
       "      <th>1242</th>\n",
       "      <td>5.3</td>\n",
       "      <td>2011-10-16 00:22:00 UTC</td>\n",
       "      <td>-73.981095</td>\n",
       "      <td>40.738160</td>\n",
       "      <td>-73.990587</td>\n",
       "      <td>40.740105</td>\n",
       "      <td>43.0</td>\n",
       "    </tr>\n",
       "    <tr>\n",
       "      <th>8406</th>\n",
       "      <td>6.9</td>\n",
       "      <td>2010-08-25 11:41:00 UTC</td>\n",
       "      <td>0.000000</td>\n",
       "      <td>0.000000</td>\n",
       "      <td>0.000000</td>\n",
       "      <td>0.000000</td>\n",
       "      <td>53.0</td>\n",
       "    </tr>\n",
       "    <tr>\n",
       "      <th>8445</th>\n",
       "      <td>5.7</td>\n",
       "      <td>2009-03-28 22:00:00 UTC</td>\n",
       "      <td>-73.982413</td>\n",
       "      <td>40.751320</td>\n",
       "      <td>-73.971292</td>\n",
       "      <td>40.748502</td>\n",
       "      <td>58.0</td>\n",
       "    </tr>\n",
       "    <tr>\n",
       "      <th>8506</th>\n",
       "      <td>11.3</td>\n",
       "      <td>2010-05-23 20:06:37 UTC</td>\n",
       "      <td>-73.985424</td>\n",
       "      <td>40.738468</td>\n",
       "      <td>-74.001698</td>\n",
       "      <td>40.707758</td>\n",
       "      <td>537.0</td>\n",
       "    </tr>\n",
       "    <tr>\n",
       "      <th>8571</th>\n",
       "      <td>12.5</td>\n",
       "      <td>2011-12-03 03:21:00 UTC</td>\n",
       "      <td>-73.993718</td>\n",
       "      <td>40.762039</td>\n",
       "      <td>-73.977527</td>\n",
       "      <td>40.734024</td>\n",
       "      <td>87.0</td>\n",
       "    </tr>\n",
       "    <tr>\n",
       "      <th>8631</th>\n",
       "      <td>20</td>\n",
       "      <td>2012-12-10 22:28:00 UTC</td>\n",
       "      <td>-73.955445</td>\n",
       "      <td>40.670232</td>\n",
       "      <td>-74.004795</td>\n",
       "      <td>40.731477</td>\n",
       "      <td>43.0</td>\n",
       "    </tr>\n",
       "    <tr>\n",
       "      <th>8715</th>\n",
       "      <td>4.5</td>\n",
       "      <td>2009-09-04 09:14:03 UTC</td>\n",
       "      <td>-73.977518</td>\n",
       "      <td>40.758480</td>\n",
       "      <td>-73.983252</td>\n",
       "      <td>40.749837</td>\n",
       "      <td>531.2</td>\n",
       "    </tr>\n",
       "    <tr>\n",
       "      <th>8985</th>\n",
       "      <td>8.5</td>\n",
       "      <td>2015-01-14 15:10:21 UTC</td>\n",
       "      <td>-73.955444</td>\n",
       "      <td>40.787605</td>\n",
       "      <td>-73.965561</td>\n",
       "      <td>40.798691</td>\n",
       "      <td>557.0</td>\n",
       "    </tr>\n",
       "  </tbody>\n",
       "</table>\n",
       "</div>"
      ],
      "text/plain": [
       "     fare_amount          pickup_datetime  pickup_longitude  pickup_latitude  \\\n",
       "233          8.5  2011-07-24 01:14:35 UTC          0.000000         0.000000   \n",
       "263          4.9  2010-07-12 09:44:33 UTC        -73.983249        40.734655   \n",
       "293          6.1  2011-01-18 23:48:00 UTC        -74.006642        40.738927   \n",
       "356          8.5  2013-06-18 10:27:05 UTC        -73.992108        40.764203   \n",
       "386          8.1  2009-08-21 19:35:05 UTC        -73.960853        40.761557   \n",
       "413          NaN  2013-09-12 11:32:00 UTC        -73.982060        40.772705   \n",
       "971         10.1  2010-11-21 01:41:00 UTC        -74.004500        40.742143   \n",
       "1007         3.7  2010-12-14 14:46:00 UTC        -73.969157        40.759000   \n",
       "1043         5.7  2012-08-22 22:08:29 UTC        -73.973573        40.760184   \n",
       "1107         4.9  2009-08-08 21:50:50 UTC        -73.988977        40.721068   \n",
       "1146           8  2014-03-27 08:05:01 UTC        -73.991098        40.770655   \n",
       "1200         9.7  2011-08-16 09:29:00 UTC        -73.980487        40.741610   \n",
       "1242         5.3  2011-10-16 00:22:00 UTC        -73.981095        40.738160   \n",
       "8406         6.9  2010-08-25 11:41:00 UTC          0.000000         0.000000   \n",
       "8445         5.7  2009-03-28 22:00:00 UTC        -73.982413        40.751320   \n",
       "8506        11.3  2010-05-23 20:06:37 UTC        -73.985424        40.738468   \n",
       "8571        12.5  2011-12-03 03:21:00 UTC        -73.993718        40.762039   \n",
       "8631          20  2012-12-10 22:28:00 UTC        -73.955445        40.670232   \n",
       "8715         4.5  2009-09-04 09:14:03 UTC        -73.977518        40.758480   \n",
       "8985         8.5  2015-01-14 15:10:21 UTC        -73.955444        40.787605   \n",
       "\n",
       "      dropoff_longitude  dropoff_latitude  passenger_count  \n",
       "233            0.000000          0.000000            236.0  \n",
       "263          -73.991278         40.738918            456.0  \n",
       "293          -74.010828         40.717907           5334.0  \n",
       "356          -73.973000         40.762695            535.0  \n",
       "386          -73.976335         40.748361            354.0  \n",
       "413          -73.956213         40.771777             55.0  \n",
       "971          -73.994330         40.720412            554.0  \n",
       "1007         -73.968763         40.764617             53.0  \n",
       "1043         -73.953564         40.767392             35.0  \n",
       "1107         -73.982368         40.732064            345.0  \n",
       "1146         -73.976933         40.790070           5345.0  \n",
       "1200         -73.980617         40.746868            536.0  \n",
       "1242         -73.990587         40.740105             43.0  \n",
       "8406           0.000000          0.000000             53.0  \n",
       "8445         -73.971292         40.748502             58.0  \n",
       "8506         -74.001698         40.707758            537.0  \n",
       "8571         -73.977527         40.734024             87.0  \n",
       "8631         -74.004795         40.731477             43.0  \n",
       "8715         -73.983252         40.749837            531.2  \n",
       "8985         -73.965561         40.798691            557.0  "
      ]
     },
     "execution_count": 30,
     "metadata": {},
     "output_type": "execute_result"
    }
   ],
   "source": [
    "(train_cab[train_cab['passenger_count'] > 6 ])"
   ]
  },
  {
   "cell_type": "code",
   "execution_count": 31,
   "metadata": {
    "scrolled": true
   },
   "outputs": [
    {
     "name": "stdout",
     "output_type": "stream",
     "text": [
      "20\n",
      "Total number of Passenger count greater than 6 = 20\n",
      "Total number of rows present before removing Passenger count exceeding 6 =16009\n",
      "Total number of rows present after removing Passenger count exceeding 6 is 15989\n"
     ]
    }
   ],
   "source": [
    "print(len(train_cab[train_cab['passenger_count'] > 6 ]))\n",
    "print(\"Total number of Passenger count greater than 6 = {}\".format(len(train_cab[train_cab['passenger_count'] > 6 ])))\n",
    "print(\"Total number of rows present before removing Passenger count exceeding 6 ={}\".format(train_cab.shape[0]))\n",
    "train_cab = train_cab.drop(train_cab[train_cab['passenger_count'] > 6 ].index)\n",
    "print(\"Total number of rows present after removing Passenger count exceeding 6 is {}\".format(train_cab.shape[0]))\n"
   ]
  },
  {
   "cell_type": "markdown",
   "metadata": {},
   "source": [
    "In total , 78 variables gets removed due to invalid passenger count"
   ]
  },
  {
   "cell_type": "code",
   "execution_count": 32,
   "metadata": {
    "collapsed": true
   },
   "outputs": [
    {
     "data": {
      "text/html": [
       "<div>\n",
       "<style scoped>\n",
       "    .dataframe tbody tr th:only-of-type {\n",
       "        vertical-align: middle;\n",
       "    }\n",
       "\n",
       "    .dataframe tbody tr th {\n",
       "        vertical-align: top;\n",
       "    }\n",
       "\n",
       "    .dataframe thead th {\n",
       "        text-align: right;\n",
       "    }\n",
       "</style>\n",
       "<table border=\"1\" class=\"dataframe\">\n",
       "  <thead>\n",
       "    <tr style=\"text-align: right;\">\n",
       "      <th></th>\n",
       "      <th>fare_amount</th>\n",
       "      <th>pickup_datetime</th>\n",
       "      <th>pickup_longitude</th>\n",
       "      <th>pickup_latitude</th>\n",
       "      <th>dropoff_longitude</th>\n",
       "      <th>dropoff_latitude</th>\n",
       "      <th>passenger_count</th>\n",
       "    </tr>\n",
       "  </thead>\n",
       "  <tbody>\n",
       "    <tr>\n",
       "      <th>0</th>\n",
       "      <td>4.5</td>\n",
       "      <td>2009-06-15 17:26:21 UTC</td>\n",
       "      <td>-73.844311</td>\n",
       "      <td>40.721319</td>\n",
       "      <td>-73.841610</td>\n",
       "      <td>40.712278</td>\n",
       "      <td>1.0</td>\n",
       "    </tr>\n",
       "    <tr>\n",
       "      <th>1</th>\n",
       "      <td>16.9</td>\n",
       "      <td>2010-01-05 16:52:16 UTC</td>\n",
       "      <td>-74.016048</td>\n",
       "      <td>40.711303</td>\n",
       "      <td>-73.979268</td>\n",
       "      <td>40.782004</td>\n",
       "      <td>1.0</td>\n",
       "    </tr>\n",
       "    <tr>\n",
       "      <th>2</th>\n",
       "      <td>5.7</td>\n",
       "      <td>2011-08-18 00:35:00 UTC</td>\n",
       "      <td>-73.982738</td>\n",
       "      <td>40.761270</td>\n",
       "      <td>-73.991242</td>\n",
       "      <td>40.750562</td>\n",
       "      <td>2.0</td>\n",
       "    </tr>\n",
       "    <tr>\n",
       "      <th>3</th>\n",
       "      <td>7.7</td>\n",
       "      <td>2012-04-21 04:30:42 UTC</td>\n",
       "      <td>-73.987130</td>\n",
       "      <td>40.733143</td>\n",
       "      <td>-73.991567</td>\n",
       "      <td>40.758092</td>\n",
       "      <td>1.0</td>\n",
       "    </tr>\n",
       "    <tr>\n",
       "      <th>4</th>\n",
       "      <td>5.3</td>\n",
       "      <td>2010-03-09 07:51:00 UTC</td>\n",
       "      <td>-73.968095</td>\n",
       "      <td>40.768008</td>\n",
       "      <td>-73.956655</td>\n",
       "      <td>40.783762</td>\n",
       "      <td>1.0</td>\n",
       "    </tr>\n",
       "  </tbody>\n",
       "</table>\n",
       "</div>"
      ],
      "text/plain": [
       "  fare_amount          pickup_datetime  pickup_longitude  pickup_latitude  \\\n",
       "0         4.5  2009-06-15 17:26:21 UTC        -73.844311        40.721319   \n",
       "1        16.9  2010-01-05 16:52:16 UTC        -74.016048        40.711303   \n",
       "2         5.7  2011-08-18 00:35:00 UTC        -73.982738        40.761270   \n",
       "3         7.7  2012-04-21 04:30:42 UTC        -73.987130        40.733143   \n",
       "4         5.3  2010-03-09 07:51:00 UTC        -73.968095        40.768008   \n",
       "\n",
       "   dropoff_longitude  dropoff_latitude  passenger_count  \n",
       "0         -73.841610         40.712278              1.0  \n",
       "1         -73.979268         40.782004              1.0  \n",
       "2         -73.991242         40.750562              2.0  \n",
       "3         -73.991567         40.758092              1.0  \n",
       "4         -73.956655         40.783762              1.0  "
      ]
     },
     "execution_count": 32,
     "metadata": {},
     "output_type": "execute_result"
    }
   ],
   "source": [
    "df = train_cab.copy()\n",
    "df.shape\n",
    "#Creating a copy \n",
    "train_cab.head(5)"
   ]
  },
  {
   "cell_type": "markdown",
   "metadata": {},
   "source": [
    "Dealing with latitudes and longitudes \n"
   ]
  },
  {
   "cell_type": "markdown",
   "metadata": {},
   "source": [
    "The latitude valid values are between -90 and 90 , the boundaries being inclusive\n",
    "The longitude valid values are bewtween -180 and 180 , the boundaries being inclusive as well."
   ]
  },
  {
   "cell_type": "code",
   "execution_count": 33,
   "metadata": {},
   "outputs": [
    {
     "name": "stdout",
     "output_type": "stream",
     "text": [
      "pickup_longitude above 180=0\n",
      "pickup_longitude below -180=0\n",
      "pickup_latitude above 90=1\n",
      "pickup_latitude below -90=0\n",
      "dropoff_longitude above 180=0\n",
      "dropoff_longitude below -180=0\n",
      "dropoff_latitude below -90=0\n",
      "dropoff_latitude above 90=0\n"
     ]
    }
   ],
   "source": [
    "print('pickup_longitude above 180={}'.format(sum(train_cab['pickup_longitude']>180)))\n",
    "print('pickup_longitude below -180={}'.format(sum(train_cab['pickup_longitude']<-180)))\n",
    "print('pickup_latitude above 90={}'.format(sum(train_cab['pickup_latitude']>90)))\n",
    "print('pickup_latitude below -90={}'.format(sum(train_cab['pickup_latitude']<-90)))\n",
    "print('dropoff_longitude above 180={}'.format(sum(train_cab['dropoff_longitude']>180)))\n",
    "print('dropoff_longitude below -180={}'.format(sum(train_cab['dropoff_longitude']<-180)))\n",
    "print('dropoff_latitude below -90={}'.format(sum(train_cab['dropoff_latitude']<-90)))\n",
    "print('dropoff_latitude above 90={}'.format(sum(train_cab['dropoff_latitude']>90)))"
   ]
  },
  {
   "cell_type": "code",
   "execution_count": 34,
   "metadata": {},
   "outputs": [
    {
     "name": "stdout",
     "output_type": "stream",
     "text": [
      "Total number of rows present after removing invalid latitude is 15988\n"
     ]
    }
   ],
   "source": [
    "train_cab = train_cab.drop(train_cab[train_cab['pickup_latitude'] > 90 ].index)\n",
    "print(\"Total number of rows present after removing invalid latitude is {}\".format(train_cab.shape[0]))\n"
   ]
  },
  {
   "cell_type": "code",
   "execution_count": 35,
   "metadata": {},
   "outputs": [],
   "source": [
    "df = train_cab.copy()"
   ]
  },
  {
   "cell_type": "markdown",
   "metadata": {},
   "source": [
    "We need to calculate Distance based off of longitudes and longitude in kilometers with the help of Haversine formula."
   ]
  },
  {
   "cell_type": "code",
   "execution_count": 36,
   "metadata": {},
   "outputs": [],
   "source": [
    "distance_new= []\n",
    "for i in range(0, len(train_cab ) ):\n",
    "    #pck_lat,drp_lat = np.radians(train_cab['pickup_longitude'].iloc[i]) ,np.radians(train_cab['dropoff_longitude'].iloc[i]) \n",
    "    lon1, lat1  = map(radians, [ train_cab['pickup_longitude'].iloc[i], train_cab['pickup_latitude'].iloc[i]])\n",
    "    lon2 , lat2 = map(radians, [train_cab['dropoff_longitude'].iloc[i], train_cab['dropoff_latitude'].iloc[i] ] ) \n",
    "    dlon = lon2 - lon1 \n",
    "    dlat = lat2 - lat1 \n",
    "    a = sin(dlat/2)**2 + cos(lat1) * cos(lat2) * sin(dlon/2)**2\n",
    "    c = 2 * asin(sqrt(a)) \n",
    "    distance_new.append(6371*c)\n"
   ]
  },
  {
   "cell_type": "code",
   "execution_count": 37,
   "metadata": {
    "collapsed": true
   },
   "outputs": [
    {
     "data": {
      "text/html": [
       "<div>\n",
       "<style scoped>\n",
       "    .dataframe tbody tr th:only-of-type {\n",
       "        vertical-align: middle;\n",
       "    }\n",
       "\n",
       "    .dataframe tbody tr th {\n",
       "        vertical-align: top;\n",
       "    }\n",
       "\n",
       "    .dataframe thead th {\n",
       "        text-align: right;\n",
       "    }\n",
       "</style>\n",
       "<table border=\"1\" class=\"dataframe\">\n",
       "  <thead>\n",
       "    <tr style=\"text-align: right;\">\n",
       "      <th></th>\n",
       "      <th>fare_amount</th>\n",
       "      <th>pickup_datetime</th>\n",
       "      <th>pickup_longitude</th>\n",
       "      <th>pickup_latitude</th>\n",
       "      <th>dropoff_longitude</th>\n",
       "      <th>dropoff_latitude</th>\n",
       "      <th>passenger_count</th>\n",
       "      <th>Distance</th>\n",
       "    </tr>\n",
       "  </thead>\n",
       "  <tbody>\n",
       "    <tr>\n",
       "      <th>0</th>\n",
       "      <td>4.5</td>\n",
       "      <td>2009-06-15 17:26:21 UTC</td>\n",
       "      <td>-73.844311</td>\n",
       "      <td>40.721319</td>\n",
       "      <td>-73.841610</td>\n",
       "      <td>40.712278</td>\n",
       "      <td>1.0</td>\n",
       "      <td>1.030764</td>\n",
       "    </tr>\n",
       "    <tr>\n",
       "      <th>1</th>\n",
       "      <td>16.9</td>\n",
       "      <td>2010-01-05 16:52:16 UTC</td>\n",
       "      <td>-74.016048</td>\n",
       "      <td>40.711303</td>\n",
       "      <td>-73.979268</td>\n",
       "      <td>40.782004</td>\n",
       "      <td>1.0</td>\n",
       "      <td>8.450134</td>\n",
       "    </tr>\n",
       "    <tr>\n",
       "      <th>2</th>\n",
       "      <td>5.7</td>\n",
       "      <td>2011-08-18 00:35:00 UTC</td>\n",
       "      <td>-73.982738</td>\n",
       "      <td>40.761270</td>\n",
       "      <td>-73.991242</td>\n",
       "      <td>40.750562</td>\n",
       "      <td>2.0</td>\n",
       "      <td>1.389525</td>\n",
       "    </tr>\n",
       "    <tr>\n",
       "      <th>3</th>\n",
       "      <td>7.7</td>\n",
       "      <td>2012-04-21 04:30:42 UTC</td>\n",
       "      <td>-73.987130</td>\n",
       "      <td>40.733143</td>\n",
       "      <td>-73.991567</td>\n",
       "      <td>40.758092</td>\n",
       "      <td>1.0</td>\n",
       "      <td>2.799270</td>\n",
       "    </tr>\n",
       "    <tr>\n",
       "      <th>4</th>\n",
       "      <td>5.3</td>\n",
       "      <td>2010-03-09 07:51:00 UTC</td>\n",
       "      <td>-73.968095</td>\n",
       "      <td>40.768008</td>\n",
       "      <td>-73.956655</td>\n",
       "      <td>40.783762</td>\n",
       "      <td>1.0</td>\n",
       "      <td>1.999157</td>\n",
       "    </tr>\n",
       "  </tbody>\n",
       "</table>\n",
       "</div>"
      ],
      "text/plain": [
       "  fare_amount          pickup_datetime  pickup_longitude  pickup_latitude  \\\n",
       "0         4.5  2009-06-15 17:26:21 UTC        -73.844311        40.721319   \n",
       "1        16.9  2010-01-05 16:52:16 UTC        -74.016048        40.711303   \n",
       "2         5.7  2011-08-18 00:35:00 UTC        -73.982738        40.761270   \n",
       "3         7.7  2012-04-21 04:30:42 UTC        -73.987130        40.733143   \n",
       "4         5.3  2010-03-09 07:51:00 UTC        -73.968095        40.768008   \n",
       "\n",
       "   dropoff_longitude  dropoff_latitude  passenger_count  Distance  \n",
       "0         -73.841610         40.712278              1.0  1.030764  \n",
       "1         -73.979268         40.782004              1.0  8.450134  \n",
       "2         -73.991242         40.750562              2.0  1.389525  \n",
       "3         -73.991567         40.758092              1.0  2.799270  \n",
       "4         -73.956655         40.783762              1.0  1.999157  "
      ]
     },
     "execution_count": 37,
     "metadata": {},
     "output_type": "execute_result"
    }
   ],
   "source": [
    "train_cab['Distance'] = distance_new\n",
    "train_cab.head(5)"
   ]
  },
  {
   "cell_type": "code",
   "execution_count": 17,
   "metadata": {
    "collapsed": true
   },
   "outputs": [
    {
     "data": {
      "text/html": [
       "<div>\n",
       "<style scoped>\n",
       "    .dataframe tbody tr th:only-of-type {\n",
       "        vertical-align: middle;\n",
       "    }\n",
       "\n",
       "    .dataframe tbody tr th {\n",
       "        vertical-align: top;\n",
       "    }\n",
       "\n",
       "    .dataframe thead th {\n",
       "        text-align: right;\n",
       "    }\n",
       "</style>\n",
       "<table border=\"1\" class=\"dataframe\">\n",
       "  <thead>\n",
       "    <tr style=\"text-align: right;\">\n",
       "      <th></th>\n",
       "      <th>fare_amount</th>\n",
       "      <th>pickup_datetime</th>\n",
       "      <th>pickup_longitude</th>\n",
       "      <th>pickup_latitude</th>\n",
       "      <th>dropoff_longitude</th>\n",
       "      <th>dropoff_latitude</th>\n",
       "      <th>passenger_count</th>\n",
       "      <th>Distance</th>\n",
       "    </tr>\n",
       "  </thead>\n",
       "  <tbody>\n",
       "    <tr>\n",
       "      <th>11</th>\n",
       "      <td>5.5</td>\n",
       "      <td>2012-12-24 11:24:00 UTC</td>\n",
       "      <td>0.000000</td>\n",
       "      <td>0.000000</td>\n",
       "      <td>0.000000</td>\n",
       "      <td>0.000000</td>\n",
       "      <td>3.0</td>\n",
       "      <td>0.0</td>\n",
       "    </tr>\n",
       "    <tr>\n",
       "      <th>15</th>\n",
       "      <td>5</td>\n",
       "      <td>2013-11-23 12:57:00 UTC</td>\n",
       "      <td>0.000000</td>\n",
       "      <td>0.000000</td>\n",
       "      <td>0.000000</td>\n",
       "      <td>0.000000</td>\n",
       "      <td>1.0</td>\n",
       "      <td>0.0</td>\n",
       "    </tr>\n",
       "    <tr>\n",
       "      <th>26</th>\n",
       "      <td>NaN</td>\n",
       "      <td>2011-02-07 20:01:00 UTC</td>\n",
       "      <td>0.000000</td>\n",
       "      <td>0.000000</td>\n",
       "      <td>0.000000</td>\n",
       "      <td>0.000000</td>\n",
       "      <td>1.0</td>\n",
       "      <td>0.0</td>\n",
       "    </tr>\n",
       "    <tr>\n",
       "      <th>105</th>\n",
       "      <td>52</td>\n",
       "      <td>2009-03-25 00:08:52 UTC</td>\n",
       "      <td>-74.035839</td>\n",
       "      <td>40.747320</td>\n",
       "      <td>-74.035839</td>\n",
       "      <td>40.747320</td>\n",
       "      <td>1.0</td>\n",
       "      <td>0.0</td>\n",
       "    </tr>\n",
       "    <tr>\n",
       "      <th>124</th>\n",
       "      <td>8</td>\n",
       "      <td>2013-01-17 17:22:00 UTC</td>\n",
       "      <td>0.000000</td>\n",
       "      <td>0.000000</td>\n",
       "      <td>0.000000</td>\n",
       "      <td>0.000000</td>\n",
       "      <td>2.0</td>\n",
       "      <td>0.0</td>\n",
       "    </tr>\n",
       "    <tr>\n",
       "      <th>191</th>\n",
       "      <td>6.5</td>\n",
       "      <td>2014-01-08 21:55:58 UTC</td>\n",
       "      <td>-73.998488</td>\n",
       "      <td>40.726303</td>\n",
       "      <td>-73.998488</td>\n",
       "      <td>40.726303</td>\n",
       "      <td>1.0</td>\n",
       "      <td>0.0</td>\n",
       "    </tr>\n",
       "    <tr>\n",
       "      <th>192</th>\n",
       "      <td>3.7</td>\n",
       "      <td>2010-09-05 17:08:00 UTC</td>\n",
       "      <td>0.000000</td>\n",
       "      <td>0.000000</td>\n",
       "      <td>0.000000</td>\n",
       "      <td>0.000000</td>\n",
       "      <td>5.0</td>\n",
       "      <td>0.0</td>\n",
       "    </tr>\n",
       "    <tr>\n",
       "      <th>270</th>\n",
       "      <td>7.5</td>\n",
       "      <td>2012-08-25 01:53:42 UTC</td>\n",
       "      <td>-73.995892</td>\n",
       "      <td>40.746454</td>\n",
       "      <td>-73.995892</td>\n",
       "      <td>40.746454</td>\n",
       "      <td>1.0</td>\n",
       "      <td>0.0</td>\n",
       "    </tr>\n",
       "    <tr>\n",
       "      <th>273</th>\n",
       "      <td>8.1</td>\n",
       "      <td>2009-10-30 18:13:00 UTC</td>\n",
       "      <td>0.000000</td>\n",
       "      <td>0.000000</td>\n",
       "      <td>0.000000</td>\n",
       "      <td>0.000000</td>\n",
       "      <td>4.0</td>\n",
       "      <td>0.0</td>\n",
       "    </tr>\n",
       "    <tr>\n",
       "      <th>290</th>\n",
       "      <td>6.9</td>\n",
       "      <td>2009-12-14 12:33:00 UTC</td>\n",
       "      <td>-73.982432</td>\n",
       "      <td>40.745747</td>\n",
       "      <td>-73.982432</td>\n",
       "      <td>40.745747</td>\n",
       "      <td>1.0</td>\n",
       "      <td>0.0</td>\n",
       "    </tr>\n",
       "    <tr>\n",
       "      <th>357</th>\n",
       "      <td>8.5</td>\n",
       "      <td>2013-07-04 16:41:27 UTC</td>\n",
       "      <td>0.000000</td>\n",
       "      <td>0.000000</td>\n",
       "      <td>0.000000</td>\n",
       "      <td>0.000000</td>\n",
       "      <td>1.0</td>\n",
       "      <td>0.0</td>\n",
       "    </tr>\n",
       "    <tr>\n",
       "      <th>376</th>\n",
       "      <td>2.5</td>\n",
       "      <td>2014-05-29 05:57:22 UTC</td>\n",
       "      <td>0.000000</td>\n",
       "      <td>0.000000</td>\n",
       "      <td>0.000000</td>\n",
       "      <td>0.000000</td>\n",
       "      <td>1.0</td>\n",
       "      <td>0.0</td>\n",
       "    </tr>\n",
       "    <tr>\n",
       "      <th>387</th>\n",
       "      <td>13</td>\n",
       "      <td>2012-11-15 08:39:00 UTC</td>\n",
       "      <td>0.000000</td>\n",
       "      <td>0.000000</td>\n",
       "      <td>0.000000</td>\n",
       "      <td>0.000000</td>\n",
       "      <td>1.0</td>\n",
       "      <td>0.0</td>\n",
       "    </tr>\n",
       "    <tr>\n",
       "      <th>396</th>\n",
       "      <td>12</td>\n",
       "      <td>2014-03-12 18:12:44 UTC</td>\n",
       "      <td>-73.844904</td>\n",
       "      <td>40.736318</td>\n",
       "      <td>-73.844904</td>\n",
       "      <td>40.736318</td>\n",
       "      <td>1.0</td>\n",
       "      <td>0.0</td>\n",
       "    </tr>\n",
       "    <tr>\n",
       "      <th>498</th>\n",
       "      <td>NaN</td>\n",
       "      <td>2009-03-16 04:47:17 UTC</td>\n",
       "      <td>0.000000</td>\n",
       "      <td>0.000000</td>\n",
       "      <td>0.000000</td>\n",
       "      <td>0.000000</td>\n",
       "      <td>1.0</td>\n",
       "      <td>0.0</td>\n",
       "    </tr>\n",
       "    <tr>\n",
       "      <th>503</th>\n",
       "      <td>2.5</td>\n",
       "      <td>2010-01-19 01:10:00 UTC</td>\n",
       "      <td>-73.998720</td>\n",
       "      <td>40.624708</td>\n",
       "      <td>-73.998720</td>\n",
       "      <td>40.624708</td>\n",
       "      <td>1.0</td>\n",
       "      <td>0.0</td>\n",
       "    </tr>\n",
       "    <tr>\n",
       "      <th>540</th>\n",
       "      <td>16</td>\n",
       "      <td>2013-10-29 01:09:14 UTC</td>\n",
       "      <td>0.000000</td>\n",
       "      <td>0.000000</td>\n",
       "      <td>0.000000</td>\n",
       "      <td>0.000000</td>\n",
       "      <td>1.0</td>\n",
       "      <td>0.0</td>\n",
       "    </tr>\n",
       "    <tr>\n",
       "      <th>542</th>\n",
       "      <td>4.5</td>\n",
       "      <td>2009-12-29 14:23:00 UTC</td>\n",
       "      <td>0.000000</td>\n",
       "      <td>0.000000</td>\n",
       "      <td>0.000000</td>\n",
       "      <td>0.000000</td>\n",
       "      <td>1.0</td>\n",
       "      <td>0.0</td>\n",
       "    </tr>\n",
       "    <tr>\n",
       "      <th>568</th>\n",
       "      <td>6.5</td>\n",
       "      <td>2014-10-08 06:49:18 UTC</td>\n",
       "      <td>0.000000</td>\n",
       "      <td>0.000000</td>\n",
       "      <td>0.000000</td>\n",
       "      <td>0.000000</td>\n",
       "      <td>1.0</td>\n",
       "      <td>0.0</td>\n",
       "    </tr>\n",
       "    <tr>\n",
       "      <th>657</th>\n",
       "      <td>2.5</td>\n",
       "      <td>2009-08-25 01:50:21 UTC</td>\n",
       "      <td>-73.986410</td>\n",
       "      <td>40.763350</td>\n",
       "      <td>-73.986410</td>\n",
       "      <td>40.763350</td>\n",
       "      <td>1.0</td>\n",
       "      <td>0.0</td>\n",
       "    </tr>\n",
       "    <tr>\n",
       "      <th>660</th>\n",
       "      <td>13.3</td>\n",
       "      <td>2010-08-18 03:46:00 UTC</td>\n",
       "      <td>0.000000</td>\n",
       "      <td>0.000000</td>\n",
       "      <td>0.000000</td>\n",
       "      <td>0.000000</td>\n",
       "      <td>5.0</td>\n",
       "      <td>0.0</td>\n",
       "    </tr>\n",
       "    <tr>\n",
       "      <th>728</th>\n",
       "      <td>11.7</td>\n",
       "      <td>2010-02-13 01:52:11 UTC</td>\n",
       "      <td>0.000000</td>\n",
       "      <td>0.000000</td>\n",
       "      <td>0.000000</td>\n",
       "      <td>0.000000</td>\n",
       "      <td>1.0</td>\n",
       "      <td>0.0</td>\n",
       "    </tr>\n",
       "    <tr>\n",
       "      <th>737</th>\n",
       "      <td>57.33</td>\n",
       "      <td>2014-08-11 19:37:00 UTC</td>\n",
       "      <td>-73.776477</td>\n",
       "      <td>40.646290</td>\n",
       "      <td>-73.776477</td>\n",
       "      <td>40.646290</td>\n",
       "      <td>2.0</td>\n",
       "      <td>0.0</td>\n",
       "    </tr>\n",
       "    <tr>\n",
       "      <th>799</th>\n",
       "      <td>3</td>\n",
       "      <td>2013-12-08 23:39:00 UTC</td>\n",
       "      <td>0.000000</td>\n",
       "      <td>0.000000</td>\n",
       "      <td>0.000000</td>\n",
       "      <td>0.000000</td>\n",
       "      <td>5.0</td>\n",
       "      <td>0.0</td>\n",
       "    </tr>\n",
       "    <tr>\n",
       "      <th>808</th>\n",
       "      <td>6.1</td>\n",
       "      <td>2010-10-22 02:24:53 UTC</td>\n",
       "      <td>-73.984433</td>\n",
       "      <td>40.771084</td>\n",
       "      <td>-73.984433</td>\n",
       "      <td>40.771084</td>\n",
       "      <td>1.0</td>\n",
       "      <td>0.0</td>\n",
       "    </tr>\n",
       "    <tr>\n",
       "      <th>843</th>\n",
       "      <td>5.5</td>\n",
       "      <td>2014-07-19 04:42:00 UTC</td>\n",
       "      <td>-73.990532</td>\n",
       "      <td>40.719085</td>\n",
       "      <td>-73.990532</td>\n",
       "      <td>40.719085</td>\n",
       "      <td>1.0</td>\n",
       "      <td>0.0</td>\n",
       "    </tr>\n",
       "    <tr>\n",
       "      <th>872</th>\n",
       "      <td>8.5</td>\n",
       "      <td>2011-09-25 02:07:00 UTC</td>\n",
       "      <td>0.000000</td>\n",
       "      <td>0.000000</td>\n",
       "      <td>0.000000</td>\n",
       "      <td>0.000000</td>\n",
       "      <td>1.0</td>\n",
       "      <td>0.0</td>\n",
       "    </tr>\n",
       "    <tr>\n",
       "      <th>881</th>\n",
       "      <td>8.5</td>\n",
       "      <td>2011-07-19 23:43:12 UTC</td>\n",
       "      <td>0.000000</td>\n",
       "      <td>0.000000</td>\n",
       "      <td>0.000000</td>\n",
       "      <td>0.000000</td>\n",
       "      <td>1.0</td>\n",
       "      <td>0.0</td>\n",
       "    </tr>\n",
       "    <tr>\n",
       "      <th>887</th>\n",
       "      <td>12</td>\n",
       "      <td>2014-09-26 19:41:41 UTC</td>\n",
       "      <td>0.000000</td>\n",
       "      <td>0.000000</td>\n",
       "      <td>0.000000</td>\n",
       "      <td>0.000000</td>\n",
       "      <td>1.0</td>\n",
       "      <td>0.0</td>\n",
       "    </tr>\n",
       "    <tr>\n",
       "      <th>958</th>\n",
       "      <td>2.5</td>\n",
       "      <td>2011-02-22 14:09:00 UTC</td>\n",
       "      <td>0.000000</td>\n",
       "      <td>0.000000</td>\n",
       "      <td>0.000000</td>\n",
       "      <td>0.000000</td>\n",
       "      <td>5.0</td>\n",
       "      <td>0.0</td>\n",
       "    </tr>\n",
       "    <tr>\n",
       "      <th>...</th>\n",
       "      <td>...</td>\n",
       "      <td>...</td>\n",
       "      <td>...</td>\n",
       "      <td>...</td>\n",
       "      <td>...</td>\n",
       "      <td>...</td>\n",
       "      <td>...</td>\n",
       "      <td>...</td>\n",
       "    </tr>\n",
       "    <tr>\n",
       "      <th>15012</th>\n",
       "      <td>6.7</td>\n",
       "      <td>2009-01-14 19:43:33 UTC</td>\n",
       "      <td>0.000000</td>\n",
       "      <td>0.000000</td>\n",
       "      <td>0.000000</td>\n",
       "      <td>0.000000</td>\n",
       "      <td>1.0</td>\n",
       "      <td>0.0</td>\n",
       "    </tr>\n",
       "    <tr>\n",
       "      <th>15021</th>\n",
       "      <td>3</td>\n",
       "      <td>2015-06-19 10:19:41 UTC</td>\n",
       "      <td>-73.863091</td>\n",
       "      <td>40.769539</td>\n",
       "      <td>-73.863091</td>\n",
       "      <td>40.769539</td>\n",
       "      <td>1.0</td>\n",
       "      <td>0.0</td>\n",
       "    </tr>\n",
       "    <tr>\n",
       "      <th>15024</th>\n",
       "      <td>6.1</td>\n",
       "      <td>2011-11-15 09:54:00 UTC</td>\n",
       "      <td>0.000000</td>\n",
       "      <td>0.000000</td>\n",
       "      <td>0.000000</td>\n",
       "      <td>0.000000</td>\n",
       "      <td>2.0</td>\n",
       "      <td>0.0</td>\n",
       "    </tr>\n",
       "    <tr>\n",
       "      <th>15027</th>\n",
       "      <td>8</td>\n",
       "      <td>2013-12-22 09:51:38 UTC</td>\n",
       "      <td>0.000000</td>\n",
       "      <td>0.000000</td>\n",
       "      <td>0.000000</td>\n",
       "      <td>0.000000</td>\n",
       "      <td>1.0</td>\n",
       "      <td>0.0</td>\n",
       "    </tr>\n",
       "    <tr>\n",
       "      <th>15044</th>\n",
       "      <td>49.15</td>\n",
       "      <td>2009-02-05 10:53:00 UTC</td>\n",
       "      <td>0.000000</td>\n",
       "      <td>0.000000</td>\n",
       "      <td>0.000000</td>\n",
       "      <td>0.000000</td>\n",
       "      <td>4.0</td>\n",
       "      <td>0.0</td>\n",
       "    </tr>\n",
       "    <tr>\n",
       "      <th>15203</th>\n",
       "      <td>3.5</td>\n",
       "      <td>2014-04-09 21:27:16 UTC</td>\n",
       "      <td>0.000000</td>\n",
       "      <td>0.000000</td>\n",
       "      <td>0.000000</td>\n",
       "      <td>0.000000</td>\n",
       "      <td>1.0</td>\n",
       "      <td>0.0</td>\n",
       "    </tr>\n",
       "    <tr>\n",
       "      <th>15230</th>\n",
       "      <td>4.5</td>\n",
       "      <td>2011-06-10 07:11:05 UTC</td>\n",
       "      <td>-74.002935</td>\n",
       "      <td>40.738790</td>\n",
       "      <td>-74.002935</td>\n",
       "      <td>40.738790</td>\n",
       "      <td>1.0</td>\n",
       "      <td>0.0</td>\n",
       "    </tr>\n",
       "    <tr>\n",
       "      <th>15252</th>\n",
       "      <td>11.3</td>\n",
       "      <td>2011-10-08 19:18:00 UTC</td>\n",
       "      <td>0.000000</td>\n",
       "      <td>0.000000</td>\n",
       "      <td>0.000000</td>\n",
       "      <td>0.000000</td>\n",
       "      <td>3.0</td>\n",
       "      <td>0.0</td>\n",
       "    </tr>\n",
       "    <tr>\n",
       "      <th>15371</th>\n",
       "      <td>6</td>\n",
       "      <td>2013-03-29 03:04:00 UTC</td>\n",
       "      <td>-73.980940</td>\n",
       "      <td>40.741792</td>\n",
       "      <td>-73.980940</td>\n",
       "      <td>40.741792</td>\n",
       "      <td>1.0</td>\n",
       "      <td>0.0</td>\n",
       "    </tr>\n",
       "    <tr>\n",
       "      <th>15379</th>\n",
       "      <td>5.5</td>\n",
       "      <td>2014-06-03 00:12:00 UTC</td>\n",
       "      <td>0.000000</td>\n",
       "      <td>0.000000</td>\n",
       "      <td>0.000000</td>\n",
       "      <td>0.000000</td>\n",
       "      <td>5.0</td>\n",
       "      <td>0.0</td>\n",
       "    </tr>\n",
       "    <tr>\n",
       "      <th>15381</th>\n",
       "      <td>4.9</td>\n",
       "      <td>2010-12-24 00:49:26 UTC</td>\n",
       "      <td>0.000000</td>\n",
       "      <td>0.000000</td>\n",
       "      <td>0.000000</td>\n",
       "      <td>0.000000</td>\n",
       "      <td>4.0</td>\n",
       "      <td>0.0</td>\n",
       "    </tr>\n",
       "    <tr>\n",
       "      <th>15393</th>\n",
       "      <td>8.7</td>\n",
       "      <td>2009-04-03 19:13:40 UTC</td>\n",
       "      <td>-73.990492</td>\n",
       "      <td>40.746886</td>\n",
       "      <td>-73.990492</td>\n",
       "      <td>40.746886</td>\n",
       "      <td>1.0</td>\n",
       "      <td>0.0</td>\n",
       "    </tr>\n",
       "    <tr>\n",
       "      <th>15402</th>\n",
       "      <td>13.5</td>\n",
       "      <td>2014-05-17 11:59:00 UTC</td>\n",
       "      <td>0.000000</td>\n",
       "      <td>0.000000</td>\n",
       "      <td>0.000000</td>\n",
       "      <td>0.000000</td>\n",
       "      <td>1.0</td>\n",
       "      <td>0.0</td>\n",
       "    </tr>\n",
       "    <tr>\n",
       "      <th>15418</th>\n",
       "      <td>7</td>\n",
       "      <td>2014-12-12 20:01:00 UTC</td>\n",
       "      <td>0.000000</td>\n",
       "      <td>0.000000</td>\n",
       "      <td>0.000000</td>\n",
       "      <td>0.000000</td>\n",
       "      <td>2.0</td>\n",
       "      <td>0.0</td>\n",
       "    </tr>\n",
       "    <tr>\n",
       "      <th>15524</th>\n",
       "      <td>5</td>\n",
       "      <td>2014-10-04 21:38:28 UTC</td>\n",
       "      <td>-73.918058</td>\n",
       "      <td>40.777991</td>\n",
       "      <td>-73.918058</td>\n",
       "      <td>40.777991</td>\n",
       "      <td>2.0</td>\n",
       "      <td>0.0</td>\n",
       "    </tr>\n",
       "    <tr>\n",
       "      <th>15642</th>\n",
       "      <td>4.5</td>\n",
       "      <td>2012-02-06 20:28:00 UTC</td>\n",
       "      <td>-73.997977</td>\n",
       "      <td>40.740987</td>\n",
       "      <td>-73.997977</td>\n",
       "      <td>40.740987</td>\n",
       "      <td>1.0</td>\n",
       "      <td>0.0</td>\n",
       "    </tr>\n",
       "    <tr>\n",
       "      <th>15648</th>\n",
       "      <td>31.6</td>\n",
       "      <td>2010-05-03 22:37:54 UTC</td>\n",
       "      <td>0.000000</td>\n",
       "      <td>0.000000</td>\n",
       "      <td>0.000000</td>\n",
       "      <td>0.000000</td>\n",
       "      <td>1.0</td>\n",
       "      <td>0.0</td>\n",
       "    </tr>\n",
       "    <tr>\n",
       "      <th>15665</th>\n",
       "      <td>11.3</td>\n",
       "      <td>2012-07-01 21:47:30 UTC</td>\n",
       "      <td>0.000000</td>\n",
       "      <td>0.000000</td>\n",
       "      <td>0.000000</td>\n",
       "      <td>0.000000</td>\n",
       "      <td>1.0</td>\n",
       "      <td>0.0</td>\n",
       "    </tr>\n",
       "    <tr>\n",
       "      <th>15738</th>\n",
       "      <td>8.5</td>\n",
       "      <td>2012-05-11 07:28:00 UTC</td>\n",
       "      <td>-73.937762</td>\n",
       "      <td>40.758157</td>\n",
       "      <td>-73.937762</td>\n",
       "      <td>40.758157</td>\n",
       "      <td>1.0</td>\n",
       "      <td>0.0</td>\n",
       "    </tr>\n",
       "    <tr>\n",
       "      <th>15764</th>\n",
       "      <td>12.9</td>\n",
       "      <td>2011-08-12 14:35:00 UTC</td>\n",
       "      <td>0.000000</td>\n",
       "      <td>0.000000</td>\n",
       "      <td>0.000000</td>\n",
       "      <td>0.000000</td>\n",
       "      <td>1.0</td>\n",
       "      <td>0.0</td>\n",
       "    </tr>\n",
       "    <tr>\n",
       "      <th>15769</th>\n",
       "      <td>17</td>\n",
       "      <td>2012-12-21 20:35:18 UTC</td>\n",
       "      <td>-74.003743</td>\n",
       "      <td>40.756404</td>\n",
       "      <td>-74.003743</td>\n",
       "      <td>40.756404</td>\n",
       "      <td>1.0</td>\n",
       "      <td>0.0</td>\n",
       "    </tr>\n",
       "    <tr>\n",
       "      <th>15869</th>\n",
       "      <td>6.9</td>\n",
       "      <td>2009-07-22 00:02:37 UTC</td>\n",
       "      <td>-73.941874</td>\n",
       "      <td>40.748985</td>\n",
       "      <td>-73.941874</td>\n",
       "      <td>40.748985</td>\n",
       "      <td>1.0</td>\n",
       "      <td>0.0</td>\n",
       "    </tr>\n",
       "    <tr>\n",
       "      <th>15906</th>\n",
       "      <td>12.5</td>\n",
       "      <td>2011-11-20 12:58:00 UTC</td>\n",
       "      <td>-73.928838</td>\n",
       "      <td>40.616788</td>\n",
       "      <td>-73.928838</td>\n",
       "      <td>40.616788</td>\n",
       "      <td>2.0</td>\n",
       "      <td>0.0</td>\n",
       "    </tr>\n",
       "    <tr>\n",
       "      <th>15911</th>\n",
       "      <td>5.7</td>\n",
       "      <td>2011-04-07 07:54:53 UTC</td>\n",
       "      <td>0.000000</td>\n",
       "      <td>0.000000</td>\n",
       "      <td>0.000000</td>\n",
       "      <td>0.000000</td>\n",
       "      <td>1.0</td>\n",
       "      <td>0.0</td>\n",
       "    </tr>\n",
       "    <tr>\n",
       "      <th>15920</th>\n",
       "      <td>8.1</td>\n",
       "      <td>2012-05-18 04:44:00 UTC</td>\n",
       "      <td>0.000000</td>\n",
       "      <td>0.000000</td>\n",
       "      <td>0.000000</td>\n",
       "      <td>0.000000</td>\n",
       "      <td>1.0</td>\n",
       "      <td>0.0</td>\n",
       "    </tr>\n",
       "    <tr>\n",
       "      <th>15929</th>\n",
       "      <td>10.9</td>\n",
       "      <td>2010-05-18 20:34:00 UTC</td>\n",
       "      <td>0.000000</td>\n",
       "      <td>0.000000</td>\n",
       "      <td>0.000000</td>\n",
       "      <td>0.000000</td>\n",
       "      <td>5.0</td>\n",
       "      <td>0.0</td>\n",
       "    </tr>\n",
       "    <tr>\n",
       "      <th>15937</th>\n",
       "      <td>3.3</td>\n",
       "      <td>2009-10-01 20:32:00 UTC</td>\n",
       "      <td>0.000000</td>\n",
       "      <td>0.000000</td>\n",
       "      <td>0.000000</td>\n",
       "      <td>0.000000</td>\n",
       "      <td>3.0</td>\n",
       "      <td>0.0</td>\n",
       "    </tr>\n",
       "    <tr>\n",
       "      <th>16014</th>\n",
       "      <td>10.9</td>\n",
       "      <td>2011-03-04 14:05:00 UTC</td>\n",
       "      <td>0.000000</td>\n",
       "      <td>0.000000</td>\n",
       "      <td>0.000000</td>\n",
       "      <td>0.000000</td>\n",
       "      <td>2.0</td>\n",
       "      <td>0.0</td>\n",
       "    </tr>\n",
       "    <tr>\n",
       "      <th>16022</th>\n",
       "      <td>5.5</td>\n",
       "      <td>2013-04-10 12:24:00 UTC</td>\n",
       "      <td>-73.984123</td>\n",
       "      <td>40.760387</td>\n",
       "      <td>-73.984123</td>\n",
       "      <td>40.760387</td>\n",
       "      <td>6.0</td>\n",
       "      <td>0.0</td>\n",
       "    </tr>\n",
       "    <tr>\n",
       "      <th>16056</th>\n",
       "      <td>38.3</td>\n",
       "      <td>2012-12-17 14:59:16 UTC</td>\n",
       "      <td>0.000000</td>\n",
       "      <td>0.000000</td>\n",
       "      <td>0.000000</td>\n",
       "      <td>0.000000</td>\n",
       "      <td>1.0</td>\n",
       "      <td>0.0</td>\n",
       "    </tr>\n",
       "  </tbody>\n",
       "</table>\n",
       "<p>456 rows × 8 columns</p>\n",
       "</div>"
      ],
      "text/plain": [
       "      fare_amount          pickup_datetime  pickup_longitude  pickup_latitude  \\\n",
       "11            5.5  2012-12-24 11:24:00 UTC          0.000000         0.000000   \n",
       "15              5  2013-11-23 12:57:00 UTC          0.000000         0.000000   \n",
       "26            NaN  2011-02-07 20:01:00 UTC          0.000000         0.000000   \n",
       "105            52  2009-03-25 00:08:52 UTC        -74.035839        40.747320   \n",
       "124             8  2013-01-17 17:22:00 UTC          0.000000         0.000000   \n",
       "191           6.5  2014-01-08 21:55:58 UTC        -73.998488        40.726303   \n",
       "192           3.7  2010-09-05 17:08:00 UTC          0.000000         0.000000   \n",
       "270           7.5  2012-08-25 01:53:42 UTC        -73.995892        40.746454   \n",
       "273           8.1  2009-10-30 18:13:00 UTC          0.000000         0.000000   \n",
       "290           6.9  2009-12-14 12:33:00 UTC        -73.982432        40.745747   \n",
       "357           8.5  2013-07-04 16:41:27 UTC          0.000000         0.000000   \n",
       "376           2.5  2014-05-29 05:57:22 UTC          0.000000         0.000000   \n",
       "387            13  2012-11-15 08:39:00 UTC          0.000000         0.000000   \n",
       "396            12  2014-03-12 18:12:44 UTC        -73.844904        40.736318   \n",
       "498           NaN  2009-03-16 04:47:17 UTC          0.000000         0.000000   \n",
       "503           2.5  2010-01-19 01:10:00 UTC        -73.998720        40.624708   \n",
       "540            16  2013-10-29 01:09:14 UTC          0.000000         0.000000   \n",
       "542           4.5  2009-12-29 14:23:00 UTC          0.000000         0.000000   \n",
       "568           6.5  2014-10-08 06:49:18 UTC          0.000000         0.000000   \n",
       "657           2.5  2009-08-25 01:50:21 UTC        -73.986410        40.763350   \n",
       "660          13.3  2010-08-18 03:46:00 UTC          0.000000         0.000000   \n",
       "728          11.7  2010-02-13 01:52:11 UTC          0.000000         0.000000   \n",
       "737         57.33  2014-08-11 19:37:00 UTC        -73.776477        40.646290   \n",
       "799             3  2013-12-08 23:39:00 UTC          0.000000         0.000000   \n",
       "808           6.1  2010-10-22 02:24:53 UTC        -73.984433        40.771084   \n",
       "843           5.5  2014-07-19 04:42:00 UTC        -73.990532        40.719085   \n",
       "872           8.5  2011-09-25 02:07:00 UTC          0.000000         0.000000   \n",
       "881           8.5  2011-07-19 23:43:12 UTC          0.000000         0.000000   \n",
       "887            12  2014-09-26 19:41:41 UTC          0.000000         0.000000   \n",
       "958           2.5  2011-02-22 14:09:00 UTC          0.000000         0.000000   \n",
       "...           ...                      ...               ...              ...   \n",
       "15012         6.7  2009-01-14 19:43:33 UTC          0.000000         0.000000   \n",
       "15021           3  2015-06-19 10:19:41 UTC        -73.863091        40.769539   \n",
       "15024         6.1  2011-11-15 09:54:00 UTC          0.000000         0.000000   \n",
       "15027           8  2013-12-22 09:51:38 UTC          0.000000         0.000000   \n",
       "15044       49.15  2009-02-05 10:53:00 UTC          0.000000         0.000000   \n",
       "15203         3.5  2014-04-09 21:27:16 UTC          0.000000         0.000000   \n",
       "15230         4.5  2011-06-10 07:11:05 UTC        -74.002935        40.738790   \n",
       "15252        11.3  2011-10-08 19:18:00 UTC          0.000000         0.000000   \n",
       "15371           6  2013-03-29 03:04:00 UTC        -73.980940        40.741792   \n",
       "15379         5.5  2014-06-03 00:12:00 UTC          0.000000         0.000000   \n",
       "15381         4.9  2010-12-24 00:49:26 UTC          0.000000         0.000000   \n",
       "15393         8.7  2009-04-03 19:13:40 UTC        -73.990492        40.746886   \n",
       "15402        13.5  2014-05-17 11:59:00 UTC          0.000000         0.000000   \n",
       "15418           7  2014-12-12 20:01:00 UTC          0.000000         0.000000   \n",
       "15524           5  2014-10-04 21:38:28 UTC        -73.918058        40.777991   \n",
       "15642         4.5  2012-02-06 20:28:00 UTC        -73.997977        40.740987   \n",
       "15648        31.6  2010-05-03 22:37:54 UTC          0.000000         0.000000   \n",
       "15665        11.3  2012-07-01 21:47:30 UTC          0.000000         0.000000   \n",
       "15738         8.5  2012-05-11 07:28:00 UTC        -73.937762        40.758157   \n",
       "15764        12.9  2011-08-12 14:35:00 UTC          0.000000         0.000000   \n",
       "15769          17  2012-12-21 20:35:18 UTC        -74.003743        40.756404   \n",
       "15869         6.9  2009-07-22 00:02:37 UTC        -73.941874        40.748985   \n",
       "15906        12.5  2011-11-20 12:58:00 UTC        -73.928838        40.616788   \n",
       "15911         5.7  2011-04-07 07:54:53 UTC          0.000000         0.000000   \n",
       "15920         8.1  2012-05-18 04:44:00 UTC          0.000000         0.000000   \n",
       "15929        10.9  2010-05-18 20:34:00 UTC          0.000000         0.000000   \n",
       "15937         3.3  2009-10-01 20:32:00 UTC          0.000000         0.000000   \n",
       "16014        10.9  2011-03-04 14:05:00 UTC          0.000000         0.000000   \n",
       "16022         5.5  2013-04-10 12:24:00 UTC        -73.984123        40.760387   \n",
       "16056        38.3  2012-12-17 14:59:16 UTC          0.000000         0.000000   \n",
       "\n",
       "       dropoff_longitude  dropoff_latitude  passenger_count  Distance  \n",
       "11              0.000000          0.000000              3.0       0.0  \n",
       "15              0.000000          0.000000              1.0       0.0  \n",
       "26              0.000000          0.000000              1.0       0.0  \n",
       "105           -74.035839         40.747320              1.0       0.0  \n",
       "124             0.000000          0.000000              2.0       0.0  \n",
       "191           -73.998488         40.726303              1.0       0.0  \n",
       "192             0.000000          0.000000              5.0       0.0  \n",
       "270           -73.995892         40.746454              1.0       0.0  \n",
       "273             0.000000          0.000000              4.0       0.0  \n",
       "290           -73.982432         40.745747              1.0       0.0  \n",
       "357             0.000000          0.000000              1.0       0.0  \n",
       "376             0.000000          0.000000              1.0       0.0  \n",
       "387             0.000000          0.000000              1.0       0.0  \n",
       "396           -73.844904         40.736318              1.0       0.0  \n",
       "498             0.000000          0.000000              1.0       0.0  \n",
       "503           -73.998720         40.624708              1.0       0.0  \n",
       "540             0.000000          0.000000              1.0       0.0  \n",
       "542             0.000000          0.000000              1.0       0.0  \n",
       "568             0.000000          0.000000              1.0       0.0  \n",
       "657           -73.986410         40.763350              1.0       0.0  \n",
       "660             0.000000          0.000000              5.0       0.0  \n",
       "728             0.000000          0.000000              1.0       0.0  \n",
       "737           -73.776477         40.646290              2.0       0.0  \n",
       "799             0.000000          0.000000              5.0       0.0  \n",
       "808           -73.984433         40.771084              1.0       0.0  \n",
       "843           -73.990532         40.719085              1.0       0.0  \n",
       "872             0.000000          0.000000              1.0       0.0  \n",
       "881             0.000000          0.000000              1.0       0.0  \n",
       "887             0.000000          0.000000              1.0       0.0  \n",
       "958             0.000000          0.000000              5.0       0.0  \n",
       "...                  ...               ...              ...       ...  \n",
       "15012           0.000000          0.000000              1.0       0.0  \n",
       "15021         -73.863091         40.769539              1.0       0.0  \n",
       "15024           0.000000          0.000000              2.0       0.0  \n",
       "15027           0.000000          0.000000              1.0       0.0  \n",
       "15044           0.000000          0.000000              4.0       0.0  \n",
       "15203           0.000000          0.000000              1.0       0.0  \n",
       "15230         -74.002935         40.738790              1.0       0.0  \n",
       "15252           0.000000          0.000000              3.0       0.0  \n",
       "15371         -73.980940         40.741792              1.0       0.0  \n",
       "15379           0.000000          0.000000              5.0       0.0  \n",
       "15381           0.000000          0.000000              4.0       0.0  \n",
       "15393         -73.990492         40.746886              1.0       0.0  \n",
       "15402           0.000000          0.000000              1.0       0.0  \n",
       "15418           0.000000          0.000000              2.0       0.0  \n",
       "15524         -73.918058         40.777991              2.0       0.0  \n",
       "15642         -73.997977         40.740987              1.0       0.0  \n",
       "15648           0.000000          0.000000              1.0       0.0  \n",
       "15665           0.000000          0.000000              1.0       0.0  \n",
       "15738         -73.937762         40.758157              1.0       0.0  \n",
       "15764           0.000000          0.000000              1.0       0.0  \n",
       "15769         -74.003743         40.756404              1.0       0.0  \n",
       "15869         -73.941874         40.748985              1.0       0.0  \n",
       "15906         -73.928838         40.616788              2.0       0.0  \n",
       "15911           0.000000          0.000000              1.0       0.0  \n",
       "15920           0.000000          0.000000              1.0       0.0  \n",
       "15929           0.000000          0.000000              5.0       0.0  \n",
       "15937           0.000000          0.000000              3.0       0.0  \n",
       "16014           0.000000          0.000000              2.0       0.0  \n",
       "16022         -73.984123         40.760387              6.0       0.0  \n",
       "16056           0.000000          0.000000              1.0       0.0  \n",
       "\n",
       "[456 rows x 8 columns]"
      ]
     },
     "execution_count": 17,
     "metadata": {},
     "output_type": "execute_result"
    }
   ],
   "source": [
    "train_cab[train_cab['Distance'] == 0 ]\n"
   ]
  },
  {
   "cell_type": "code",
   "execution_count": 18,
   "metadata": {},
   "outputs": [
    {
     "data": {
      "text/plain": [
       "456"
      ]
     },
     "execution_count": 18,
     "metadata": {},
     "output_type": "execute_result"
    }
   ],
   "source": [
    "len(train_cab[train_cab['Distance'] == 0])"
   ]
  },
  {
   "cell_type": "markdown",
   "metadata": {},
   "source": [
    "Removal of rows where Distance is equal to 0 "
   ]
  },
  {
   "cell_type": "code",
   "execution_count": 38,
   "metadata": {},
   "outputs": [
    {
     "name": "stdout",
     "output_type": "stream",
     "text": [
      "Before removing 0 distance , the rows present were 15988\n",
      "After removing 0 distance , the rows present equals 15532\n"
     ]
    }
   ],
   "source": [
    "print(\"Before removing 0 distance , the rows present were {}\".format(train_cab.shape[0]))\n",
    "train_cab = train_cab.drop(train_cab[train_cab['Distance'] == 0].index)\n",
    "print(\"After removing 0 distance , the rows present equals {}\".format(train_cab.shape[0]))\n"
   ]
  },
  {
   "cell_type": "markdown",
   "metadata": {},
   "source": [
    "Now onto the removal of latitudes and longitudes where they equal 0"
   ]
  },
  {
   "cell_type": "code",
   "execution_count": 39,
   "metadata": {},
   "outputs": [
    {
     "name": "stdout",
     "output_type": "stream",
     "text": [
      "pickup_longitude equal to 0=10\n",
      "pickup_latitude equal to 0=10\n",
      "dropoff_longitude equal to 0=11\n",
      "dropoff_latitude equal to 0=9\n"
     ]
    }
   ],
   "source": [
    "for i in ['pickup_longitude','pickup_latitude','dropoff_longitude','dropoff_latitude']:\n",
    "    print(i,'equal to 0={}'.format(sum(train_cab[i]==0)))"
   ]
  },
  {
   "cell_type": "code",
   "execution_count": 40,
   "metadata": {},
   "outputs": [],
   "source": [
    "df = train_cab.copy()"
   ]
  },
  {
   "cell_type": "code",
   "execution_count": 41,
   "metadata": {},
   "outputs": [],
   "source": [
    "for i in ['pickup_longitude','pickup_latitude','dropoff_longitude','dropoff_latitude']:\n",
    "    train_cab = train_cab.drop(train_cab[train_cab[i]==0].index)"
   ]
  },
  {
   "cell_type": "code",
   "execution_count": 42,
   "metadata": {},
   "outputs": [
    {
     "name": "stdout",
     "output_type": "stream",
     "text": [
      "pickup_longitude equal to 0=0\n",
      "pickup_latitude equal to 0=0\n",
      "dropoff_longitude equal to 0=0\n",
      "dropoff_latitude equal to 0=0\n"
     ]
    }
   ],
   "source": [
    "for i in ['pickup_longitude','pickup_latitude','dropoff_longitude','dropoff_latitude']:\n",
    "    print(i,'equal to 0={}'.format(sum(train_cab[i]==0)))"
   ]
  },
  {
   "cell_type": "markdown",
   "metadata": {},
   "source": [
    "Successful removal of zero's latitudes and longitudes \n"
   ]
  },
  {
   "cell_type": "code",
   "execution_count": 43,
   "metadata": {},
   "outputs": [
    {
     "data": {
      "text/plain": [
       "(15511, 8)"
      ]
     },
     "execution_count": 43,
     "metadata": {},
     "output_type": "execute_result"
    }
   ],
   "source": [
    "train_cab.shape"
   ]
  },
  {
   "cell_type": "markdown",
   "metadata": {},
   "source": [
    "The number of rows further went down from 15532 to 15511"
   ]
  },
  {
   "cell_type": "markdown",
   "metadata": {},
   "source": [
    "Now onto the fare_amount"
   ]
  },
  {
   "cell_type": "code",
   "execution_count": 44,
   "metadata": {},
   "outputs": [
    {
     "data": {
      "text/plain": [
       "dtype('O')"
      ]
     },
     "execution_count": 44,
     "metadata": {},
     "output_type": "execute_result"
    }
   ],
   "source": [
    "train_cab['fare_amount'].dtypes # Object type which needs to get converted to integer "
   ]
  },
  {
   "cell_type": "code",
   "execution_count": 45,
   "metadata": {},
   "outputs": [
    {
     "ename": "ValueError",
     "evalue": "Unable to parse string \"430-\" at position 1076",
     "output_type": "error",
     "traceback": [
      "\u001b[1;31m---------------------------------------------------------------------------\u001b[0m",
      "\u001b[1;31mValueError\u001b[0m                                Traceback (most recent call last)",
      "\u001b[1;32mpandas/_libs/lib.pyx\u001b[0m in \u001b[0;36mpandas._libs.lib.maybe_convert_numeric\u001b[1;34m()\u001b[0m\n",
      "\u001b[1;31mValueError\u001b[0m: Unable to parse string \"430-\"",
      "\nDuring handling of the above exception, another exception occurred:\n",
      "\u001b[1;31mValueError\u001b[0m                                Traceback (most recent call last)",
      "\u001b[1;32m<ipython-input-45-791ed60fa3c8>\u001b[0m in \u001b[0;36m<module>\u001b[1;34m\u001b[0m\n\u001b[1;32m----> 1\u001b[1;33m \u001b[0mtrain_cab\u001b[0m\u001b[1;33m[\u001b[0m\u001b[1;34m'fare_amount'\u001b[0m\u001b[1;33m]\u001b[0m \u001b[1;33m=\u001b[0m \u001b[0mpd\u001b[0m\u001b[1;33m.\u001b[0m\u001b[0mto_numeric\u001b[0m\u001b[1;33m(\u001b[0m\u001b[0mtrain_cab\u001b[0m\u001b[1;33m[\u001b[0m\u001b[1;34m'fare_amount'\u001b[0m\u001b[1;33m]\u001b[0m\u001b[1;33m)\u001b[0m\u001b[1;33m\u001b[0m\u001b[1;33m\u001b[0m\u001b[0m\n\u001b[0m",
      "\u001b[1;32m~\\Anaconda3\\lib\\site-packages\\pandas\\core\\tools\\numeric.py\u001b[0m in \u001b[0;36mto_numeric\u001b[1;34m(arg, errors, downcast)\u001b[0m\n\u001b[0;32m    133\u001b[0m             \u001b[0mcoerce_numeric\u001b[0m \u001b[1;33m=\u001b[0m \u001b[1;32mFalse\u001b[0m \u001b[1;32mif\u001b[0m \u001b[0merrors\u001b[0m \u001b[1;32min\u001b[0m \u001b[1;33m(\u001b[0m\u001b[1;34m'ignore'\u001b[0m\u001b[1;33m,\u001b[0m \u001b[1;34m'raise'\u001b[0m\u001b[1;33m)\u001b[0m \u001b[1;32melse\u001b[0m \u001b[1;32mTrue\u001b[0m\u001b[1;33m\u001b[0m\u001b[1;33m\u001b[0m\u001b[0m\n\u001b[0;32m    134\u001b[0m             values = lib.maybe_convert_numeric(values, set(),\n\u001b[1;32m--> 135\u001b[1;33m                                                coerce_numeric=coerce_numeric)\n\u001b[0m\u001b[0;32m    136\u001b[0m \u001b[1;33m\u001b[0m\u001b[0m\n\u001b[0;32m    137\u001b[0m     \u001b[1;32mexcept\u001b[0m \u001b[0mException\u001b[0m\u001b[1;33m:\u001b[0m\u001b[1;33m\u001b[0m\u001b[1;33m\u001b[0m\u001b[0m\n",
      "\u001b[1;32mpandas/_libs/lib.pyx\u001b[0m in \u001b[0;36mpandas._libs.lib.maybe_convert_numeric\u001b[1;34m()\u001b[0m\n",
      "\u001b[1;31mValueError\u001b[0m: Unable to parse string \"430-\" at position 1076"
     ]
    }
   ],
   "source": [
    "train_cab['fare_amount'] = pd.to_numeric(train_cab['fare_amount'])"
   ]
  },
  {
   "cell_type": "code",
   "execution_count": 46,
   "metadata": {},
   "outputs": [
    {
     "data": {
      "text/plain": [
       "fare_amount                             430-\n",
       "pickup_datetime      2009-09-22 19:01:01 UTC\n",
       "pickup_longitude                    -73.9796\n",
       "pickup_latitude                      40.7713\n",
       "dropoff_longitude                   -73.9758\n",
       "dropoff_latitude                      40.782\n",
       "passenger_count                            1\n",
       "Distance                             1.22653\n",
       "Name: 1123, dtype: object"
      ]
     },
     "execution_count": 46,
     "metadata": {},
     "output_type": "execute_result"
    }
   ],
   "source": [
    "train_cab.iloc[1076,:]"
   ]
  },
  {
   "cell_type": "markdown",
   "metadata": {},
   "source": [
    "The above row needs to get removed as it's of invalid format."
   ]
  },
  {
   "cell_type": "code",
   "execution_count": 47,
   "metadata": {},
   "outputs": [],
   "source": [
    "train_cab = train_cab.drop(train_cab.index[1076])"
   ]
  },
  {
   "cell_type": "code",
   "execution_count": 48,
   "metadata": {},
   "outputs": [],
   "source": [
    "train_cab['fare_amount'] = pd.to_numeric(train_cab['fare_amount'])"
   ]
  },
  {
   "cell_type": "code",
   "execution_count": 49,
   "metadata": {
    "collapsed": true
   },
   "outputs": [
    {
     "data": {
      "text/html": [
       "<div>\n",
       "<style scoped>\n",
       "    .dataframe tbody tr th:only-of-type {\n",
       "        vertical-align: middle;\n",
       "    }\n",
       "\n",
       "    .dataframe tbody tr th {\n",
       "        vertical-align: top;\n",
       "    }\n",
       "\n",
       "    .dataframe thead th {\n",
       "        text-align: right;\n",
       "    }\n",
       "</style>\n",
       "<table border=\"1\" class=\"dataframe\">\n",
       "  <thead>\n",
       "    <tr style=\"text-align: right;\">\n",
       "      <th></th>\n",
       "      <th>fare_amount</th>\n",
       "      <th>pickup_datetime</th>\n",
       "      <th>pickup_longitude</th>\n",
       "      <th>pickup_latitude</th>\n",
       "      <th>dropoff_longitude</th>\n",
       "      <th>dropoff_latitude</th>\n",
       "      <th>passenger_count</th>\n",
       "      <th>Distance</th>\n",
       "    </tr>\n",
       "  </thead>\n",
       "  <tbody>\n",
       "    <tr>\n",
       "      <th>0</th>\n",
       "      <td>4.5</td>\n",
       "      <td>2009-06-15 17:26:21 UTC</td>\n",
       "      <td>-73.844311</td>\n",
       "      <td>40.721319</td>\n",
       "      <td>-73.841610</td>\n",
       "      <td>40.712278</td>\n",
       "      <td>1.0</td>\n",
       "      <td>1.030764</td>\n",
       "    </tr>\n",
       "    <tr>\n",
       "      <th>1</th>\n",
       "      <td>16.9</td>\n",
       "      <td>2010-01-05 16:52:16 UTC</td>\n",
       "      <td>-74.016048</td>\n",
       "      <td>40.711303</td>\n",
       "      <td>-73.979268</td>\n",
       "      <td>40.782004</td>\n",
       "      <td>1.0</td>\n",
       "      <td>8.450134</td>\n",
       "    </tr>\n",
       "    <tr>\n",
       "      <th>2</th>\n",
       "      <td>5.7</td>\n",
       "      <td>2011-08-18 00:35:00 UTC</td>\n",
       "      <td>-73.982738</td>\n",
       "      <td>40.761270</td>\n",
       "      <td>-73.991242</td>\n",
       "      <td>40.750562</td>\n",
       "      <td>2.0</td>\n",
       "      <td>1.389525</td>\n",
       "    </tr>\n",
       "    <tr>\n",
       "      <th>3</th>\n",
       "      <td>7.7</td>\n",
       "      <td>2012-04-21 04:30:42 UTC</td>\n",
       "      <td>-73.987130</td>\n",
       "      <td>40.733143</td>\n",
       "      <td>-73.991567</td>\n",
       "      <td>40.758092</td>\n",
       "      <td>1.0</td>\n",
       "      <td>2.799270</td>\n",
       "    </tr>\n",
       "    <tr>\n",
       "      <th>4</th>\n",
       "      <td>5.3</td>\n",
       "      <td>2010-03-09 07:51:00 UTC</td>\n",
       "      <td>-73.968095</td>\n",
       "      <td>40.768008</td>\n",
       "      <td>-73.956655</td>\n",
       "      <td>40.783762</td>\n",
       "      <td>1.0</td>\n",
       "      <td>1.999157</td>\n",
       "    </tr>\n",
       "  </tbody>\n",
       "</table>\n",
       "</div>"
      ],
      "text/plain": [
       "   fare_amount          pickup_datetime  pickup_longitude  pickup_latitude  \\\n",
       "0          4.5  2009-06-15 17:26:21 UTC        -73.844311        40.721319   \n",
       "1         16.9  2010-01-05 16:52:16 UTC        -74.016048        40.711303   \n",
       "2          5.7  2011-08-18 00:35:00 UTC        -73.982738        40.761270   \n",
       "3          7.7  2012-04-21 04:30:42 UTC        -73.987130        40.733143   \n",
       "4          5.3  2010-03-09 07:51:00 UTC        -73.968095        40.768008   \n",
       "\n",
       "   dropoff_longitude  dropoff_latitude  passenger_count  Distance  \n",
       "0         -73.841610         40.712278              1.0  1.030764  \n",
       "1         -73.979268         40.782004              1.0  8.450134  \n",
       "2         -73.991242         40.750562              2.0  1.389525  \n",
       "3         -73.991567         40.758092              1.0  2.799270  \n",
       "4         -73.956655         40.783762              1.0  1.999157  "
      ]
     },
     "execution_count": 49,
     "metadata": {},
     "output_type": "execute_result"
    }
   ],
   "source": [
    "train_cab.head(5)"
   ]
  },
  {
   "cell_type": "code",
   "execution_count": 50,
   "metadata": {},
   "outputs": [],
   "source": [
    "%matplotlib inline"
   ]
  },
  {
   "cell_type": "code",
   "execution_count": 51,
   "metadata": {},
   "outputs": [
    {
     "data": {
      "image/png": "[encoded data removed]",
      "text/plain": [
       "<Figure size 432x288 with 1 Axes>"
      ]
     },
     "metadata": {
      "needs_background": "light"
     },
     "output_type": "display_data"
    }
   ],
   "source": [
    "bin_edges =  [0,5,10,15,20,25,30,35,40,45,50,55,60,65,70,75,80,85,90,95,100,200,300,350]      #[0,1,2,3,4,5,6,7,8,9,10,11,12,13,14,15,16,17,18,19,20,25,30,35,40,45,50,55,60,65,70,80,100,200,300,]\n",
    "pl.hist(train_cab['fare_amount'] , bins = bin_edges)\n",
    "pl.xlabel(\"Fare_Amount\")\n",
    "pl.ylabel(\"Frequency\")\n",
    "pl.show()"
   ]
  },
  {
   "cell_type": "code",
   "execution_count": 52,
   "metadata": {},
   "outputs": [
    {
     "data": {
      "image/png": "[encoded data removed]",
      "text/plain": [
       "<Figure size 432x288 with 1 Axes>"
      ]
     },
     "metadata": {
      "needs_background": "light"
     },
     "output_type": "display_data"
    }
   ],
   "source": [
    "#ggplot(train_cab , aes(x=\"Distance\" , y = \"fare_amount\")) + geom_point()\n",
    "\n",
    "\n",
    "pl.scatter(train_cab['Distance'] , train_cab['fare_amount'] , alpha = 0.5)\n",
    "pl.xlabel(\"Distance\")\n",
    "pl.ylabel(\"Fare\")\n",
    "pl.show()"
   ]
  },
  {
   "cell_type": "markdown",
   "metadata": {},
   "source": [
    "From the above scatterplot we can observe some peculiar observations : \n",
    "2 Observations where the distance exceeds 1000 km yet the fare remains very bare minimum.\n",
    "It's better to remove these observations as its meaningless \n",
    "The other is the one with very high fare_amount yet minimal distance"
   ]
  },
  {
   "cell_type": "code",
   "execution_count": 53,
   "metadata": {},
   "outputs": [
    {
     "data": {
      "text/html": [
       "<div>\n",
       "<style scoped>\n",
       "    .dataframe tbody tr th:only-of-type {\n",
       "        vertical-align: middle;\n",
       "    }\n",
       "\n",
       "    .dataframe tbody tr th {\n",
       "        vertical-align: top;\n",
       "    }\n",
       "\n",
       "    .dataframe thead th {\n",
       "        text-align: right;\n",
       "    }\n",
       "</style>\n",
       "<table border=\"1\" class=\"dataframe\">\n",
       "  <thead>\n",
       "    <tr style=\"text-align: right;\">\n",
       "      <th></th>\n",
       "      <th>fare_amount</th>\n",
       "      <th>pickup_datetime</th>\n",
       "      <th>pickup_longitude</th>\n",
       "      <th>pickup_latitude</th>\n",
       "      <th>dropoff_longitude</th>\n",
       "      <th>dropoff_latitude</th>\n",
       "      <th>passenger_count</th>\n",
       "      <th>Distance</th>\n",
       "    </tr>\n",
       "  </thead>\n",
       "  <tbody>\n",
       "    <tr>\n",
       "      <th>5864</th>\n",
       "      <td>8.5</td>\n",
       "      <td>2012-03-04 01:35:00 UTC</td>\n",
       "      <td>-73.99503</td>\n",
       "      <td>40.744945</td>\n",
       "      <td>-7.986640</td>\n",
       "      <td>40.729937</td>\n",
       "      <td>1.0</td>\n",
       "      <td>5420.988959</td>\n",
       "    </tr>\n",
       "    <tr>\n",
       "      <th>7014</th>\n",
       "      <td>4.5</td>\n",
       "      <td>2011-06-18 04:03:00 UTC</td>\n",
       "      <td>-73.98898</td>\n",
       "      <td>40.721697</td>\n",
       "      <td>-74.001073</td>\n",
       "      <td>0.728087</td>\n",
       "      <td>3.0</td>\n",
       "      <td>4447.086698</td>\n",
       "    </tr>\n",
       "  </tbody>\n",
       "</table>\n",
       "</div>"
      ],
      "text/plain": [
       "      fare_amount          pickup_datetime  pickup_longitude  pickup_latitude  \\\n",
       "5864          8.5  2012-03-04 01:35:00 UTC         -73.99503        40.744945   \n",
       "7014          4.5  2011-06-18 04:03:00 UTC         -73.98898        40.721697   \n",
       "\n",
       "      dropoff_longitude  dropoff_latitude  passenger_count     Distance  \n",
       "5864          -7.986640         40.729937              1.0  5420.988959  \n",
       "7014         -74.001073          0.728087              3.0  4447.086698  "
      ]
     },
     "execution_count": 53,
     "metadata": {},
     "output_type": "execute_result"
    }
   ],
   "source": [
    "train_cab[train_cab['Distance'] > 1000 ]"
   ]
  },
  {
   "cell_type": "code",
   "execution_count": 54,
   "metadata": {},
   "outputs": [
    {
     "data": {
      "text/plain": [
       "(15510, 8)"
      ]
     },
     "execution_count": 54,
     "metadata": {},
     "output_type": "execute_result"
    }
   ],
   "source": [
    "train_cab.shape"
   ]
  },
  {
   "cell_type": "code",
   "execution_count": 55,
   "metadata": {},
   "outputs": [],
   "source": [
    "train_cab = train_cab.drop(train_cab[train_cab['Distance'] > 1000 ].index)"
   ]
  },
  {
   "cell_type": "code",
   "execution_count": 56,
   "metadata": {},
   "outputs": [
    {
     "data": {
      "text/plain": [
       "(15508, 8)"
      ]
     },
     "execution_count": 56,
     "metadata": {},
     "output_type": "execute_result"
    }
   ],
   "source": [
    "train_cab.shape # Successful removal of two outliers"
   ]
  },
  {
   "cell_type": "code",
   "execution_count": 57,
   "metadata": {},
   "outputs": [
    {
     "data": {
      "text/html": [
       "<div>\n",
       "<style scoped>\n",
       "    .dataframe tbody tr th:only-of-type {\n",
       "        vertical-align: middle;\n",
       "    }\n",
       "\n",
       "    .dataframe tbody tr th {\n",
       "        vertical-align: top;\n",
       "    }\n",
       "\n",
       "    .dataframe thead th {\n",
       "        text-align: right;\n",
       "    }\n",
       "</style>\n",
       "<table border=\"1\" class=\"dataframe\">\n",
       "  <thead>\n",
       "    <tr style=\"text-align: right;\">\n",
       "      <th></th>\n",
       "      <th>fare_amount</th>\n",
       "      <th>pickup_datetime</th>\n",
       "      <th>pickup_longitude</th>\n",
       "      <th>pickup_latitude</th>\n",
       "      <th>dropoff_longitude</th>\n",
       "      <th>dropoff_latitude</th>\n",
       "      <th>passenger_count</th>\n",
       "      <th>Distance</th>\n",
       "    </tr>\n",
       "  </thead>\n",
       "  <tbody>\n",
       "    <tr>\n",
       "      <th>1015</th>\n",
       "      <td>54343.0</td>\n",
       "      <td>2015-02-27 17:03:50 UTC</td>\n",
       "      <td>-74.003319</td>\n",
       "      <td>40.727455</td>\n",
       "      <td>-73.964470</td>\n",
       "      <td>40.764378</td>\n",
       "      <td>1.0</td>\n",
       "      <td>5.250392</td>\n",
       "    </tr>\n",
       "    <tr>\n",
       "      <th>1072</th>\n",
       "      <td>4343.0</td>\n",
       "      <td>2012-01-15 20:42:04 UTC</td>\n",
       "      <td>-73.976309</td>\n",
       "      <td>40.751634</td>\n",
       "      <td>-74.014854</td>\n",
       "      <td>40.709044</td>\n",
       "      <td>1.0</td>\n",
       "      <td>5.742518</td>\n",
       "    </tr>\n",
       "  </tbody>\n",
       "</table>\n",
       "</div>"
      ],
      "text/plain": [
       "      fare_amount          pickup_datetime  pickup_longitude  pickup_latitude  \\\n",
       "1015      54343.0  2015-02-27 17:03:50 UTC        -74.003319        40.727455   \n",
       "1072       4343.0  2012-01-15 20:42:04 UTC        -73.976309        40.751634   \n",
       "\n",
       "      dropoff_longitude  dropoff_latitude  passenger_count  Distance  \n",
       "1015         -73.964470         40.764378              1.0  5.250392  \n",
       "1072         -74.014854         40.709044              1.0  5.742518  "
      ]
     },
     "execution_count": 57,
     "metadata": {},
     "output_type": "execute_result"
    }
   ],
   "source": [
    "train_cab[train_cab['fare_amount'] > 1000 ]"
   ]
  },
  {
   "cell_type": "markdown",
   "metadata": {},
   "source": [
    "Better to remove the above 2 observations as the passenger count is 1 , distance is less but the fare_amount seems massively out of proportion"
   ]
  },
  {
   "cell_type": "code",
   "execution_count": 58,
   "metadata": {},
   "outputs": [
    {
     "name": "stdout",
     "output_type": "stream",
     "text": [
      "Before removal , number of rows is 15508\n",
      "Before removal , number of rows present 15506\n"
     ]
    }
   ],
   "source": [
    "print(\"Before removal , number of rows is {}\".format(train_cab.shape[0]))\n",
    "train_cab = train_cab.drop(train_cab[train_cab['fare_amount'] > 1000 ].index)\n",
    "print(\"Before removal , number of rows present {}\".format(train_cab.shape[0]))"
   ]
  },
  {
   "cell_type": "code",
   "execution_count": 59,
   "metadata": {},
   "outputs": [],
   "source": [
    "df = train_cab.copy()"
   ]
  },
  {
   "cell_type": "markdown",
   "metadata": {},
   "source": [
    "Missing Value Analysis : Now once the data has been cleaned , it is important to look into the amount of missing values present in the data set and come up with ways of imputing it.\n"
   ]
  },
  {
   "cell_type": "code",
   "execution_count": 60,
   "metadata": {},
   "outputs": [
    {
     "name": "stdout",
     "output_type": "stream",
     "text": [
      "               index   0\n",
      "0        fare_amount  21\n",
      "1    pickup_datetime   0\n",
      "2   pickup_longitude   0\n",
      "3    pickup_latitude   0\n",
      "4  dropoff_longitude   0\n",
      "5   dropoff_latitude   0\n",
      "6    passenger_count  55\n",
      "7           Distance   0\n"
     ]
    },
    {
     "data": {
      "text/html": [
       "<div>\n",
       "<style scoped>\n",
       "    .dataframe tbody tr th:only-of-type {\n",
       "        vertical-align: middle;\n",
       "    }\n",
       "\n",
       "    .dataframe tbody tr th {\n",
       "        vertical-align: top;\n",
       "    }\n",
       "\n",
       "    .dataframe thead th {\n",
       "        text-align: right;\n",
       "    }\n",
       "</style>\n",
       "<table border=\"1\" class=\"dataframe\">\n",
       "  <thead>\n",
       "    <tr style=\"text-align: right;\">\n",
       "      <th></th>\n",
       "      <th>Variables</th>\n",
       "      <th>Missing_percentage</th>\n",
       "    </tr>\n",
       "  </thead>\n",
       "  <tbody>\n",
       "    <tr>\n",
       "      <th>0</th>\n",
       "      <td>fare_amount</td>\n",
       "      <td>21</td>\n",
       "    </tr>\n",
       "    <tr>\n",
       "      <th>1</th>\n",
       "      <td>pickup_datetime</td>\n",
       "      <td>0</td>\n",
       "    </tr>\n",
       "    <tr>\n",
       "      <th>2</th>\n",
       "      <td>pickup_longitude</td>\n",
       "      <td>0</td>\n",
       "    </tr>\n",
       "    <tr>\n",
       "      <th>3</th>\n",
       "      <td>pickup_latitude</td>\n",
       "      <td>0</td>\n",
       "    </tr>\n",
       "    <tr>\n",
       "      <th>4</th>\n",
       "      <td>dropoff_longitude</td>\n",
       "      <td>0</td>\n",
       "    </tr>\n",
       "    <tr>\n",
       "      <th>5</th>\n",
       "      <td>dropoff_latitude</td>\n",
       "      <td>0</td>\n",
       "    </tr>\n",
       "    <tr>\n",
       "      <th>6</th>\n",
       "      <td>passenger_count</td>\n",
       "      <td>55</td>\n",
       "    </tr>\n",
       "    <tr>\n",
       "      <th>7</th>\n",
       "      <td>Distance</td>\n",
       "      <td>0</td>\n",
       "    </tr>\n",
       "  </tbody>\n",
       "</table>\n",
       "</div>"
      ],
      "text/plain": [
       "           Variables  Missing_percentage\n",
       "0        fare_amount                  21\n",
       "1    pickup_datetime                   0\n",
       "2   pickup_longitude                   0\n",
       "3    pickup_latitude                   0\n",
       "4  dropoff_longitude                   0\n",
       "5   dropoff_latitude                   0\n",
       "6    passenger_count                  55\n",
       "7           Distance                   0"
      ]
     },
     "execution_count": 60,
     "metadata": {},
     "output_type": "execute_result"
    }
   ],
   "source": [
    "missing_val = pd.DataFrame(train_cab.isnull().sum())\n",
    "missing_val = missing_val.reset_index()\n",
    "print(missing_val)\n",
    "missing_val = missing_val.rename(columns = {'index': 'Variables', 0: 'Missing_percentage'})\n",
    "missing_val"
   ]
  },
  {
   "cell_type": "code",
   "execution_count": 61,
   "metadata": {
    "collapsed": true
   },
   "outputs": [
    {
     "name": "stdout",
     "output_type": "stream",
     "text": [
      "           Variables  Missing_percentage\n",
      "0    passenger_count            0.354701\n",
      "1        fare_amount            0.135431\n",
      "2    pickup_datetime            0.000000\n",
      "3   pickup_longitude            0.000000\n",
      "4    pickup_latitude            0.000000\n",
      "5  dropoff_longitude            0.000000\n",
      "6   dropoff_latitude            0.000000\n",
      "7           Distance            0.000000\n"
     ]
    }
   ],
   "source": [
    "missing_val['Missing_percentage'] = (missing_val['Missing_percentage']/len(train_cab))*100\n",
    "missing_val\n",
    "#descending order\n",
    "missing_val = missing_val.sort_values('Missing_percentage', ascending = False).reset_index(drop = True)\n",
    "print(missing_val)\n",
    "\n"
   ]
  },
  {
   "cell_type": "code",
   "execution_count": 269,
   "metadata": {},
   "outputs": [
    {
     "data": {
      "text/plain": [
       "fare_amount                              NaN\n",
       "pickup_datetime      2015-03-01 02:08:36 UTC\n",
       "pickup_longitude                    -73.9864\n",
       "pickup_latitude                      40.7224\n",
       "dropoff_longitude                   -73.9915\n",
       "dropoff_latitude                     40.7352\n",
       "passenger_count                            1\n",
       "Distance                             1.49159\n",
       "Name: 732, dtype: object"
      ]
     },
     "execution_count": 269,
     "metadata": {},
     "output_type": "execute_result"
    }
   ],
   "source": [
    "#train_cab['fare_amount'].iloc[700] = 7.0 \n",
    "train_cab['fare_amount'].iloc[700] = np.nan\n",
    "train_cab.iloc[700]"
   ]
  },
  {
   "cell_type": "markdown",
   "metadata": {},
   "source": [
    "Values can be imputed with trial and error method via following ways: 1.Mean 2.Median and 3.KNN."
   ]
  },
  {
   "cell_type": "markdown",
   "metadata": {},
   "source": [
    "Choosing a random variable and replacing it with N.A "
   ]
  },
  {
   "cell_type": "markdown",
   "metadata": {},
   "source": [
    "Actual Value = 7.0"
   ]
  },
  {
   "cell_type": "markdown",
   "metadata": {},
   "source": [
    "Mean imputed value = 11.364500774993536"
   ]
  },
  {
   "cell_type": "markdown",
   "metadata": {},
   "source": [
    "Mean iMPUTED value = 8.5"
   ]
  },
  {
   "cell_type": "markdown",
   "metadata": {},
   "source": [
    "KNN Imputed Value = 6.07"
   ]
  },
  {
   "cell_type": "markdown",
   "metadata": {},
   "source": [
    "As the value with KNN is closest to the actual value , KNN method is used for imputing the values."
   ]
  },
  {
   "cell_type": "code",
   "execution_count": 270,
   "metadata": {},
   "outputs": [],
   "source": [
    "train_cab = train_cab.fillna(train_cab.mean())"
   ]
  },
  {
   "cell_type": "code",
   "execution_count": 274,
   "metadata": {},
   "outputs": [
    {
     "data": {
      "text/plain": [
       "11.364500774993536"
      ]
     },
     "execution_count": 274,
     "metadata": {},
     "output_type": "execute_result"
    }
   ],
   "source": [
    "train_cab['fare_amount'].iloc[700] # Mean infused value "
   ]
  },
  {
   "cell_type": "code",
   "execution_count": 275,
   "metadata": {},
   "outputs": [],
   "source": [
    "train_cab = df.copy()\n"
   ]
  },
  {
   "cell_type": "code",
   "execution_count": 279,
   "metadata": {},
   "outputs": [],
   "source": [
    "#train_cab['fare_amount'].iloc[700]\n",
    "train_cab['fare_amount'].iloc[700] = np.nan\n"
   ]
  },
  {
   "cell_type": "code",
   "execution_count": 281,
   "metadata": {},
   "outputs": [],
   "source": [
    "train_cab = train_cab.fillna(train_cab.median())"
   ]
  },
  {
   "cell_type": "code",
   "execution_count": 282,
   "metadata": {},
   "outputs": [
    {
     "data": {
      "text/plain": [
       "8.5"
      ]
     },
     "execution_count": 282,
     "metadata": {},
     "output_type": "execute_result"
    }
   ],
   "source": [
    "train_cab['fare_amount'].iloc[700] # Median infused value"
   ]
  },
  {
   "cell_type": "code",
   "execution_count": 293,
   "metadata": {},
   "outputs": [],
   "source": [
    "train_cab = df.copy()"
   ]
  },
  {
   "cell_type": "markdown",
   "metadata": {},
   "source": [
    "Before performing KNN Imputation , it is imperative to change the type of pickup_datetime from string to datetype"
   ]
  },
  {
   "cell_type": "code",
   "execution_count": 62,
   "metadata": {
    "collapsed": true
   },
   "outputs": [
    {
     "ename": "ValueError",
     "evalue": "time data '43' does not match format '%Y-%m-%d %H:%M:%S UTC' (match)",
     "output_type": "error",
     "traceback": [
      "\u001b[1;31m---------------------------------------------------------------------------\u001b[0m",
      "\u001b[1;31mTypeError\u001b[0m                                 Traceback (most recent call last)",
      "\u001b[1;32m~\\Anaconda3\\lib\\site-packages\\pandas\\core\\tools\\datetimes.py\u001b[0m in \u001b[0;36m_convert_listlike_datetimes\u001b[1;34m(arg, box, format, name, tz, unit, errors, infer_datetime_format, dayfirst, yearfirst, exact)\u001b[0m\n\u001b[0;32m    290\u001b[0m             \u001b[1;32mtry\u001b[0m\u001b[1;33m:\u001b[0m\u001b[1;33m\u001b[0m\u001b[1;33m\u001b[0m\u001b[0m\n\u001b[1;32m--> 291\u001b[1;33m                 \u001b[0mvalues\u001b[0m\u001b[1;33m,\u001b[0m \u001b[0mtz\u001b[0m \u001b[1;33m=\u001b[0m \u001b[0mconversion\u001b[0m\u001b[1;33m.\u001b[0m\u001b[0mdatetime_to_datetime64\u001b[0m\u001b[1;33m(\u001b[0m\u001b[0marg\u001b[0m\u001b[1;33m)\u001b[0m\u001b[1;33m\u001b[0m\u001b[1;33m\u001b[0m\u001b[0m\n\u001b[0m\u001b[0;32m    292\u001b[0m                 \u001b[1;32mreturn\u001b[0m \u001b[0mDatetimeIndex\u001b[0m\u001b[1;33m.\u001b[0m\u001b[0m_simple_new\u001b[0m\u001b[1;33m(\u001b[0m\u001b[0mvalues\u001b[0m\u001b[1;33m,\u001b[0m \u001b[0mname\u001b[0m\u001b[1;33m=\u001b[0m\u001b[0mname\u001b[0m\u001b[1;33m,\u001b[0m \u001b[0mtz\u001b[0m\u001b[1;33m=\u001b[0m\u001b[0mtz\u001b[0m\u001b[1;33m)\u001b[0m\u001b[1;33m\u001b[0m\u001b[1;33m\u001b[0m\u001b[0m\n",
      "\u001b[1;32mpandas/_libs/tslibs/conversion.pyx\u001b[0m in \u001b[0;36mpandas._libs.tslibs.conversion.datetime_to_datetime64\u001b[1;34m()\u001b[0m\n",
      "\u001b[1;31mTypeError\u001b[0m: Unrecognized value type: <class 'str'>",
      "\nDuring handling of the above exception, another exception occurred:\n",
      "\u001b[1;31mValueError\u001b[0m                                Traceback (most recent call last)",
      "\u001b[1;32m<ipython-input-62-5bf306e668ec>\u001b[0m in \u001b[0;36m<module>\u001b[1;34m\u001b[0m\n\u001b[1;32m----> 1\u001b[1;33m \u001b[0mtrain_cab\u001b[0m\u001b[1;33m[\u001b[0m\u001b[1;34m'pickup_datetime'\u001b[0m\u001b[1;33m]\u001b[0m \u001b[1;33m=\u001b[0m \u001b[0mpd\u001b[0m\u001b[1;33m.\u001b[0m\u001b[0mto_datetime\u001b[0m\u001b[1;33m(\u001b[0m \u001b[0mtrain_cab\u001b[0m\u001b[1;33m[\u001b[0m\u001b[1;34m'pickup_datetime'\u001b[0m\u001b[1;33m]\u001b[0m\u001b[1;33m,\u001b[0m\u001b[0mformat\u001b[0m \u001b[1;33m=\u001b[0m\u001b[1;34m\"%Y-%m-%d %H:%M:%S UTC\"\u001b[0m\u001b[1;33m)\u001b[0m\u001b[1;33m\u001b[0m\u001b[1;33m\u001b[0m\u001b[0m\n\u001b[0m\u001b[0;32m      2\u001b[0m \u001b[1;31m#Error is due to index 1327\u001b[0m\u001b[1;33m\u001b[0m\u001b[1;33m\u001b[0m\u001b[1;33m\u001b[0m\u001b[0m\n",
      "\u001b[1;32m~\\Anaconda3\\lib\\site-packages\\pandas\\core\\tools\\datetimes.py\u001b[0m in \u001b[0;36mto_datetime\u001b[1;34m(arg, errors, dayfirst, yearfirst, utc, box, format, exact, unit, infer_datetime_format, origin, cache)\u001b[0m\n\u001b[0;32m    590\u001b[0m         \u001b[1;32melse\u001b[0m\u001b[1;33m:\u001b[0m\u001b[1;33m\u001b[0m\u001b[1;33m\u001b[0m\u001b[0m\n\u001b[0;32m    591\u001b[0m             \u001b[1;32mfrom\u001b[0m \u001b[0mpandas\u001b[0m \u001b[1;32mimport\u001b[0m \u001b[0mSeries\u001b[0m\u001b[1;33m\u001b[0m\u001b[1;33m\u001b[0m\u001b[0m\n\u001b[1;32m--> 592\u001b[1;33m             \u001b[0mvalues\u001b[0m \u001b[1;33m=\u001b[0m \u001b[0mconvert_listlike\u001b[0m\u001b[1;33m(\u001b[0m\u001b[0marg\u001b[0m\u001b[1;33m.\u001b[0m\u001b[0m_values\u001b[0m\u001b[1;33m,\u001b[0m \u001b[1;32mTrue\u001b[0m\u001b[1;33m,\u001b[0m \u001b[0mformat\u001b[0m\u001b[1;33m)\u001b[0m\u001b[1;33m\u001b[0m\u001b[1;33m\u001b[0m\u001b[0m\n\u001b[0m\u001b[0;32m    593\u001b[0m             \u001b[0mresult\u001b[0m \u001b[1;33m=\u001b[0m \u001b[0mSeries\u001b[0m\u001b[1;33m(\u001b[0m\u001b[0mvalues\u001b[0m\u001b[1;33m,\u001b[0m \u001b[0mindex\u001b[0m\u001b[1;33m=\u001b[0m\u001b[0marg\u001b[0m\u001b[1;33m.\u001b[0m\u001b[0mindex\u001b[0m\u001b[1;33m,\u001b[0m \u001b[0mname\u001b[0m\u001b[1;33m=\u001b[0m\u001b[0marg\u001b[0m\u001b[1;33m.\u001b[0m\u001b[0mname\u001b[0m\u001b[1;33m)\u001b[0m\u001b[1;33m\u001b[0m\u001b[1;33m\u001b[0m\u001b[0m\n\u001b[0;32m    594\u001b[0m     \u001b[1;32melif\u001b[0m \u001b[0misinstance\u001b[0m\u001b[1;33m(\u001b[0m\u001b[0marg\u001b[0m\u001b[1;33m,\u001b[0m \u001b[1;33m(\u001b[0m\u001b[0mABCDataFrame\u001b[0m\u001b[1;33m,\u001b[0m \u001b[0mcompat\u001b[0m\u001b[1;33m.\u001b[0m\u001b[0mMutableMapping\u001b[0m\u001b[1;33m)\u001b[0m\u001b[1;33m)\u001b[0m\u001b[1;33m:\u001b[0m\u001b[1;33m\u001b[0m\u001b[1;33m\u001b[0m\u001b[0m\n",
      "\u001b[1;32m~\\Anaconda3\\lib\\site-packages\\pandas\\core\\tools\\datetimes.py\u001b[0m in \u001b[0;36m_convert_listlike_datetimes\u001b[1;34m(arg, box, format, name, tz, unit, errors, infer_datetime_format, dayfirst, yearfirst, exact)\u001b[0m\n\u001b[0;32m    292\u001b[0m                 \u001b[1;32mreturn\u001b[0m \u001b[0mDatetimeIndex\u001b[0m\u001b[1;33m.\u001b[0m\u001b[0m_simple_new\u001b[0m\u001b[1;33m(\u001b[0m\u001b[0mvalues\u001b[0m\u001b[1;33m,\u001b[0m \u001b[0mname\u001b[0m\u001b[1;33m=\u001b[0m\u001b[0mname\u001b[0m\u001b[1;33m,\u001b[0m \u001b[0mtz\u001b[0m\u001b[1;33m=\u001b[0m\u001b[0mtz\u001b[0m\u001b[1;33m)\u001b[0m\u001b[1;33m\u001b[0m\u001b[1;33m\u001b[0m\u001b[0m\n\u001b[0;32m    293\u001b[0m             \u001b[1;32mexcept\u001b[0m \u001b[1;33m(\u001b[0m\u001b[0mValueError\u001b[0m\u001b[1;33m,\u001b[0m \u001b[0mTypeError\u001b[0m\u001b[1;33m)\u001b[0m\u001b[1;33m:\u001b[0m\u001b[1;33m\u001b[0m\u001b[1;33m\u001b[0m\u001b[0m\n\u001b[1;32m--> 294\u001b[1;33m                 \u001b[1;32mraise\u001b[0m \u001b[0me\u001b[0m\u001b[1;33m\u001b[0m\u001b[1;33m\u001b[0m\u001b[0m\n\u001b[0m\u001b[0;32m    295\u001b[0m \u001b[1;33m\u001b[0m\u001b[0m\n\u001b[0;32m    296\u001b[0m     \u001b[1;32mif\u001b[0m \u001b[0mresult\u001b[0m \u001b[1;32mis\u001b[0m \u001b[1;32mNone\u001b[0m\u001b[1;33m:\u001b[0m\u001b[1;33m\u001b[0m\u001b[1;33m\u001b[0m\u001b[0m\n",
      "\u001b[1;32m~\\Anaconda3\\lib\\site-packages\\pandas\\core\\tools\\datetimes.py\u001b[0m in \u001b[0;36m_convert_listlike_datetimes\u001b[1;34m(arg, box, format, name, tz, unit, errors, infer_datetime_format, dayfirst, yearfirst, exact)\u001b[0m\n\u001b[0;32m    259\u001b[0m                 \u001b[1;32mtry\u001b[0m\u001b[1;33m:\u001b[0m\u001b[1;33m\u001b[0m\u001b[1;33m\u001b[0m\u001b[0m\n\u001b[0;32m    260\u001b[0m                     result, timezones = array_strptime(\n\u001b[1;32m--> 261\u001b[1;33m                         arg, format, exact=exact, errors=errors)\n\u001b[0m\u001b[0;32m    262\u001b[0m                     \u001b[1;32mif\u001b[0m \u001b[1;34m'%Z'\u001b[0m \u001b[1;32min\u001b[0m \u001b[0mformat\u001b[0m \u001b[1;32mor\u001b[0m \u001b[1;34m'%z'\u001b[0m \u001b[1;32min\u001b[0m \u001b[0mformat\u001b[0m\u001b[1;33m:\u001b[0m\u001b[1;33m\u001b[0m\u001b[1;33m\u001b[0m\u001b[0m\n\u001b[0;32m    263\u001b[0m                         return _return_parsed_timezone_results(\n",
      "\u001b[1;32mpandas/_libs/tslibs/strptime.pyx\u001b[0m in \u001b[0;36mpandas._libs.tslibs.strptime.array_strptime\u001b[1;34m()\u001b[0m\n",
      "\u001b[1;31mValueError\u001b[0m: time data '43' does not match format '%Y-%m-%d %H:%M:%S UTC' (match)"
     ]
    }
   ],
   "source": [
    "train_cab['pickup_datetime'] = pd.to_datetime( train_cab['pickup_datetime'],format =\"%Y-%m-%d %H:%M:%S UTC\")\n",
    "#Error is due to index 1327"
   ]
  },
  {
   "cell_type": "code",
   "execution_count": 63,
   "metadata": {},
   "outputs": [
    {
     "data": {
      "text/html": [
       "<div>\n",
       "<style scoped>\n",
       "    .dataframe tbody tr th:only-of-type {\n",
       "        vertical-align: middle;\n",
       "    }\n",
       "\n",
       "    .dataframe tbody tr th {\n",
       "        vertical-align: top;\n",
       "    }\n",
       "\n",
       "    .dataframe thead th {\n",
       "        text-align: right;\n",
       "    }\n",
       "</style>\n",
       "<table border=\"1\" class=\"dataframe\">\n",
       "  <thead>\n",
       "    <tr style=\"text-align: right;\">\n",
       "      <th></th>\n",
       "      <th>fare_amount</th>\n",
       "      <th>pickup_datetime</th>\n",
       "      <th>pickup_longitude</th>\n",
       "      <th>pickup_latitude</th>\n",
       "      <th>dropoff_longitude</th>\n",
       "      <th>dropoff_latitude</th>\n",
       "      <th>passenger_count</th>\n",
       "      <th>Distance</th>\n",
       "    </tr>\n",
       "  </thead>\n",
       "  <tbody>\n",
       "    <tr>\n",
       "      <th>1327</th>\n",
       "      <td>11.5</td>\n",
       "      <td>43</td>\n",
       "      <td>-73.981947</td>\n",
       "      <td>40.7282</td>\n",
       "      <td>-73.988582</td>\n",
       "      <td>40.759202</td>\n",
       "      <td>1.0</td>\n",
       "      <td>3.492289</td>\n",
       "    </tr>\n",
       "  </tbody>\n",
       "</table>\n",
       "</div>"
      ],
      "text/plain": [
       "      fare_amount pickup_datetime  pickup_longitude  pickup_latitude  \\\n",
       "1327         11.5              43        -73.981947          40.7282   \n",
       "\n",
       "      dropoff_longitude  dropoff_latitude  passenger_count  Distance  \n",
       "1327         -73.988582         40.759202              1.0  3.492289  "
      ]
     },
     "execution_count": 63,
     "metadata": {},
     "output_type": "execute_result"
    }
   ],
   "source": [
    "train_cab[train_cab['pickup_datetime'] ==\"43\"]"
   ]
  },
  {
   "cell_type": "code",
   "execution_count": 64,
   "metadata": {},
   "outputs": [],
   "source": [
    "train_cab = train_cab.drop(train_cab[train_cab['pickup_datetime'] == \"43\"].index)"
   ]
  },
  {
   "cell_type": "code",
   "execution_count": 65,
   "metadata": {},
   "outputs": [],
   "source": [
    "train_cab['pickup_datetime'] = pd.to_datetime( train_cab['pickup_datetime'],format =\"%Y-%m-%d %H:%M:%S UTC\")\n"
   ]
  },
  {
   "cell_type": "code",
   "execution_count": 66,
   "metadata": {},
   "outputs": [],
   "source": [
    "df = train_cab.copy() # creating a copy\n"
   ]
  },
  {
   "cell_type": "code",
   "execution_count": null,
   "metadata": {},
   "outputs": [],
   "source": []
  },
  {
   "cell_type": "markdown",
   "metadata": {},
   "source": [
    "Before performing KNN Imputation , it is imperative to seperate the datetime object from the dataframe as it cannot be processed via KNN\n"
   ]
  },
  {
   "cell_type": "code",
   "execution_count": 69,
   "metadata": {},
   "outputs": [],
   "source": [
    "datetime = pd.DataFrame(train_cab['pickup_datetime'])\n"
   ]
  },
  {
   "cell_type": "code",
   "execution_count": 70,
   "metadata": {},
   "outputs": [],
   "source": [
    "train_cab = train_cab.drop(columns = \"pickup_datetime\") #Removing the datetime in order to facilitate the KNN imputation\n"
   ]
  },
  {
   "cell_type": "code",
   "execution_count": 312,
   "metadata": {},
   "outputs": [],
   "source": [
    "train_cab = pd.DataFrame(train_cab)"
   ]
  },
  {
   "cell_type": "code",
   "execution_count": 326,
   "metadata": {},
   "outputs": [],
   "source": [
    "train_cab['fare_amount'].iloc[700] = np.nan\n"
   ]
  },
  {
   "cell_type": "code",
   "execution_count": 327,
   "metadata": {},
   "outputs": [
    {
     "name": "stdout",
     "output_type": "stream",
     "text": [
      "Imputing row 1/15505 with 0 missing, elapsed time: 904.065\n",
      "Imputing row 101/15505 with 0 missing, elapsed time: 930.925\n",
      "Imputing row 201/15505 with 0 missing, elapsed time: 940.831\n",
      "Imputing row 301/15505 with 0 missing, elapsed time: 946.273\n",
      "Imputing row 401/15505 with 0 missing, elapsed time: 947.796\n",
      "Imputing row 501/15505 with 0 missing, elapsed time: 952.086\n",
      "Imputing row 601/15505 with 0 missing, elapsed time: 956.384\n",
      "Imputing row 701/15505 with 1 missing, elapsed time: 961.559\n",
      "Imputing row 801/15505 with 0 missing, elapsed time: 963.455\n",
      "Imputing row 901/15505 with 0 missing, elapsed time: 964.881\n",
      "Imputing row 1001/15505 with 0 missing, elapsed time: 965.136\n",
      "Imputing row 1101/15505 with 0 missing, elapsed time: 965.138\n",
      "Imputing row 1201/15505 with 0 missing, elapsed time: 965.139\n",
      "Imputing row 1301/15505 with 0 missing, elapsed time: 965.221\n",
      "Imputing row 1401/15505 with 0 missing, elapsed time: 965.519\n",
      "Imputing row 1501/15505 with 0 missing, elapsed time: 965.521\n",
      "Imputing row 1601/15505 with 0 missing, elapsed time: 965.877\n",
      "Imputing row 1701/15505 with 0 missing, elapsed time: 966.173\n",
      "Imputing row 1801/15505 with 0 missing, elapsed time: 966.577\n",
      "Imputing row 1901/15505 with 1 missing, elapsed time: 966.656\n",
      "Imputing row 2001/15505 with 0 missing, elapsed time: 967.203\n",
      "Imputing row 2101/15505 with 0 missing, elapsed time: 967.344\n",
      "Imputing row 2201/15505 with 0 missing, elapsed time: 967.571\n",
      "Imputing row 2301/15505 with 0 missing, elapsed time: 967.865\n",
      "Imputing row 2401/15505 with 0 missing, elapsed time: 968.198\n",
      "Imputing row 2501/15505 with 0 missing, elapsed time: 968.199\n",
      "Imputing row 2601/15505 with 0 missing, elapsed time: 968.200\n",
      "Imputing row 2701/15505 with 0 missing, elapsed time: 968.272\n",
      "Imputing row 2801/15505 with 0 missing, elapsed time: 968.274\n",
      "Imputing row 2901/15505 with 0 missing, elapsed time: 968.275\n",
      "Imputing row 3001/15505 with 0 missing, elapsed time: 968.276\n",
      "Imputing row 3101/15505 with 0 missing, elapsed time: 968.277\n",
      "Imputing row 3201/15505 with 0 missing, elapsed time: 968.279\n",
      "Imputing row 3301/15505 with 0 missing, elapsed time: 968.280\n",
      "Imputing row 3401/15505 with 0 missing, elapsed time: 968.283\n",
      "Imputing row 3501/15505 with 0 missing, elapsed time: 968.284\n",
      "Imputing row 3601/15505 with 0 missing, elapsed time: 968.286\n",
      "Imputing row 3701/15505 with 0 missing, elapsed time: 968.287\n",
      "Imputing row 3801/15505 with 0 missing, elapsed time: 968.289\n",
      "Imputing row 3901/15505 with 0 missing, elapsed time: 968.290\n",
      "Imputing row 4001/15505 with 0 missing, elapsed time: 968.293\n",
      "Imputing row 4101/15505 with 0 missing, elapsed time: 968.296\n",
      "Imputing row 4201/15505 with 0 missing, elapsed time: 968.297\n",
      "Imputing row 4301/15505 with 0 missing, elapsed time: 968.299\n",
      "Imputing row 4401/15505 with 0 missing, elapsed time: 968.300\n",
      "Imputing row 4501/15505 with 0 missing, elapsed time: 968.305\n",
      "Imputing row 4601/15505 with 0 missing, elapsed time: 968.306\n",
      "Imputing row 4701/15505 with 0 missing, elapsed time: 968.307\n",
      "Imputing row 4801/15505 with 0 missing, elapsed time: 968.308\n",
      "Imputing row 4901/15505 with 0 missing, elapsed time: 968.309\n",
      "Imputing row 5001/15505 with 0 missing, elapsed time: 968.310\n",
      "Imputing row 5101/15505 with 0 missing, elapsed time: 968.310\n",
      "Imputing row 5201/15505 with 0 missing, elapsed time: 968.311\n",
      "Imputing row 5301/15505 with 0 missing, elapsed time: 968.312\n",
      "Imputing row 5401/15505 with 0 missing, elapsed time: 968.312\n",
      "Imputing row 5501/15505 with 0 missing, elapsed time: 968.313\n",
      "Imputing row 5601/15505 with 0 missing, elapsed time: 968.314\n",
      "Imputing row 5701/15505 with 0 missing, elapsed time: 968.396\n",
      "Imputing row 5801/15505 with 0 missing, elapsed time: 968.566\n",
      "Imputing row 5901/15505 with 0 missing, elapsed time: 968.567\n",
      "Imputing row 6001/15505 with 0 missing, elapsed time: 968.569\n",
      "Imputing row 6101/15505 with 0 missing, elapsed time: 968.570\n",
      "Imputing row 6201/15505 with 0 missing, elapsed time: 968.571\n",
      "Imputing row 6301/15505 with 0 missing, elapsed time: 968.572\n",
      "Imputing row 6401/15505 with 0 missing, elapsed time: 968.574\n",
      "Imputing row 6501/15505 with 0 missing, elapsed time: 968.575\n",
      "Imputing row 6601/15505 with 0 missing, elapsed time: 968.576\n",
      "Imputing row 6701/15505 with 0 missing, elapsed time: 968.578\n",
      "Imputing row 6801/15505 with 0 missing, elapsed time: 968.578\n",
      "Imputing row 6901/15505 with 0 missing, elapsed time: 968.580\n",
      "Imputing row 7001/15505 with 0 missing, elapsed time: 968.581\n",
      "Imputing row 7101/15505 with 0 missing, elapsed time: 968.652\n",
      "Imputing row 7201/15505 with 0 missing, elapsed time: 968.668\n",
      "Imputing row 7301/15505 with 0 missing, elapsed time: 968.670\n",
      "Imputing row 7401/15505 with 0 missing, elapsed time: 968.685\n",
      "Imputing row 7501/15505 with 0 missing, elapsed time: 968.687\n",
      "Imputing row 7601/15505 with 0 missing, elapsed time: 969.515\n",
      "Imputing row 7701/15505 with 0 missing, elapsed time: 969.825\n",
      "Imputing row 7801/15505 with 0 missing, elapsed time: 969.990\n",
      "Imputing row 7901/15505 with 0 missing, elapsed time: 970.218\n",
      "Imputing row 8001/15505 with 0 missing, elapsed time: 970.222\n",
      "Imputing row 8101/15505 with 0 missing, elapsed time: 970.225\n",
      "Imputing row 8201/15505 with 0 missing, elapsed time: 970.226\n",
      "Imputing row 8301/15505 with 0 missing, elapsed time: 970.228\n",
      "Imputing row 8401/15505 with 0 missing, elapsed time: 970.229\n",
      "Imputing row 8501/15505 with 0 missing, elapsed time: 970.230\n",
      "Imputing row 8601/15505 with 0 missing, elapsed time: 970.231\n",
      "Imputing row 8701/15505 with 0 missing, elapsed time: 970.233\n",
      "Imputing row 8801/15505 with 0 missing, elapsed time: 970.237\n",
      "Imputing row 8901/15505 with 0 missing, elapsed time: 970.238\n",
      "Imputing row 9001/15505 with 0 missing, elapsed time: 970.239\n",
      "Imputing row 9101/15505 with 0 missing, elapsed time: 970.240\n",
      "Imputing row 9201/15505 with 0 missing, elapsed time: 970.241\n",
      "Imputing row 9301/15505 with 0 missing, elapsed time: 970.242\n",
      "Imputing row 9401/15505 with 0 missing, elapsed time: 970.243\n",
      "Imputing row 9501/15505 with 0 missing, elapsed time: 970.244\n",
      "Imputing row 9601/15505 with 0 missing, elapsed time: 970.245\n",
      "Imputing row 9701/15505 with 0 missing, elapsed time: 970.247\n",
      "Imputing row 9801/15505 with 0 missing, elapsed time: 970.247\n",
      "Imputing row 9901/15505 with 0 missing, elapsed time: 970.248\n",
      "Imputing row 10001/15505 with 0 missing, elapsed time: 970.249\n",
      "Imputing row 10101/15505 with 0 missing, elapsed time: 970.249\n",
      "Imputing row 10201/15505 with 0 missing, elapsed time: 970.250\n",
      "Imputing row 10301/15505 with 0 missing, elapsed time: 970.251\n",
      "Imputing row 10401/15505 with 0 missing, elapsed time: 970.252\n",
      "Imputing row 10501/15505 with 0 missing, elapsed time: 970.252\n",
      "Imputing row 10601/15505 with 0 missing, elapsed time: 970.253\n",
      "Imputing row 10701/15505 with 0 missing, elapsed time: 970.253\n",
      "Imputing row 10801/15505 with 0 missing, elapsed time: 970.254\n",
      "Imputing row 10901/15505 with 0 missing, elapsed time: 970.325\n",
      "Imputing row 11001/15505 with 0 missing, elapsed time: 970.326\n",
      "Imputing row 11101/15505 with 0 missing, elapsed time: 970.328\n",
      "Imputing row 11201/15505 with 0 missing, elapsed time: 970.330\n",
      "Imputing row 11301/15505 with 0 missing, elapsed time: 970.332\n",
      "Imputing row 11401/15505 with 0 missing, elapsed time: 970.333\n",
      "Imputing row 11501/15505 with 0 missing, elapsed time: 970.334\n",
      "Imputing row 11601/15505 with 0 missing, elapsed time: 970.336\n",
      "Imputing row 11701/15505 with 0 missing, elapsed time: 970.337\n",
      "Imputing row 11801/15505 with 0 missing, elapsed time: 970.338\n",
      "Imputing row 11901/15505 with 0 missing, elapsed time: 970.339\n",
      "Imputing row 12001/15505 with 0 missing, elapsed time: 970.340\n",
      "Imputing row 12101/15505 with 0 missing, elapsed time: 970.342\n",
      "Imputing row 12201/15505 with 0 missing, elapsed time: 970.343\n",
      "Imputing row 12301/15505 with 0 missing, elapsed time: 970.344\n",
      "Imputing row 12401/15505 with 0 missing, elapsed time: 970.345\n",
      "Imputing row 12501/15505 with 0 missing, elapsed time: 970.346\n",
      "Imputing row 12601/15505 with 0 missing, elapsed time: 970.396\n",
      "Imputing row 12701/15505 with 0 missing, elapsed time: 970.397\n",
      "Imputing row 12801/15505 with 0 missing, elapsed time: 970.398\n",
      "Imputing row 12901/15505 with 0 missing, elapsed time: 970.399\n",
      "Imputing row 13001/15505 with 0 missing, elapsed time: 970.401\n",
      "Imputing row 13101/15505 with 0 missing, elapsed time: 970.420\n",
      "Imputing row 13201/15505 with 0 missing, elapsed time: 970.421\n",
      "Imputing row 13301/15505 with 0 missing, elapsed time: 970.422\n",
      "Imputing row 13401/15505 with 0 missing, elapsed time: 970.423\n",
      "Imputing row 13501/15505 with 0 missing, elapsed time: 970.424\n",
      "Imputing row 13601/15505 with 0 missing, elapsed time: 970.612\n",
      "Imputing row 13701/15505 with 0 missing, elapsed time: 970.613\n",
      "Imputing row 13801/15505 with 0 missing, elapsed time: 970.615\n",
      "Imputing row 13901/15505 with 0 missing, elapsed time: 970.616\n",
      "Imputing row 14001/15505 with 0 missing, elapsed time: 970.617\n",
      "Imputing row 14101/15505 with 0 missing, elapsed time: 970.618\n",
      "Imputing row 14201/15505 with 0 missing, elapsed time: 970.619\n",
      "Imputing row 14301/15505 with 0 missing, elapsed time: 970.620\n",
      "Imputing row 14401/15505 with 0 missing, elapsed time: 970.621\n",
      "Imputing row 14501/15505 with 0 missing, elapsed time: 970.622\n",
      "Imputing row 14601/15505 with 0 missing, elapsed time: 970.623\n",
      "Imputing row 14701/15505 with 0 missing, elapsed time: 970.624\n",
      "Imputing row 14801/15505 with 0 missing, elapsed time: 981.465\n",
      "Imputing row 14901/15505 with 0 missing, elapsed time: 981.466\n",
      "Imputing row 15001/15505 with 0 missing, elapsed time: 981.468\n",
      "Imputing row 15101/15505 with 0 missing, elapsed time: 981.470\n",
      "Imputing row 15201/15505 with 0 missing, elapsed time: 981.471\n",
      "Imputing row 15301/15505 with 0 missing, elapsed time: 981.472\n",
      "Imputing row 15401/15505 with 0 missing, elapsed time: 981.473\n",
      "Imputing row 15501/15505 with 0 missing, elapsed time: 981.475\n"
     ]
    }
   ],
   "source": [
    "train_cab = pd.DataFrame( KNN(k=3).fit_transform(train_cab) , columns=train_cab.columns) "
   ]
  },
  {
   "cell_type": "code",
   "execution_count": 328,
   "metadata": {
    "collapsed": true
   },
   "outputs": [
    {
     "data": {
      "text/plain": [
       "fare_amount           6.067637\n",
       "pickup_longitude    -73.986427\n",
       "pickup_latitude      40.722385\n",
       "dropoff_longitude   -73.991516\n",
       "dropoff_latitude     40.735233\n",
       "passenger_count       1.000000\n",
       "Distance              1.491587\n",
       "Name: 700, dtype: float64"
      ]
     },
     "execution_count": 328,
     "metadata": {},
     "output_type": "execute_result"
    }
   ],
   "source": [
    "train_cab.iloc[700]"
   ]
  },
  {
   "cell_type": "code",
   "execution_count": 332,
   "metadata": {},
   "outputs": [],
   "source": [
    "train_cab = df.copy()"
   ]
  },
  {
   "cell_type": "code",
   "execution_count": 335,
   "metadata": {},
   "outputs": [],
   "source": [
    "train_cab = train_cab.drop(columns = \"pickup_datetime\")"
   ]
  },
  {
   "cell_type": "code",
   "execution_count": 76,
   "metadata": {
    "collapsed": true
   },
   "outputs": [
    {
     "name": "stdout",
     "output_type": "stream",
     "text": [
      "Imputing row 1/15505 with 0 missing, elapsed time: 216.899\n",
      "Imputing row 101/15505 with 0 missing, elapsed time: 226.861\n",
      "Imputing row 201/15505 with 0 missing, elapsed time: 228.044\n",
      "Imputing row 301/15505 with 0 missing, elapsed time: 228.209\n",
      "Imputing row 401/15505 with 0 missing, elapsed time: 228.381\n",
      "Imputing row 501/15505 with 0 missing, elapsed time: 228.826\n",
      "Imputing row 601/15505 with 0 missing, elapsed time: 229.233\n",
      "Imputing row 701/15505 with 0 missing, elapsed time: 229.671\n",
      "Imputing row 801/15505 with 0 missing, elapsed time: 229.902\n",
      "Imputing row 901/15505 with 0 missing, elapsed time: 230.064\n",
      "Imputing row 1001/15505 with 0 missing, elapsed time: 230.090\n",
      "Imputing row 1101/15505 with 0 missing, elapsed time: 230.092\n",
      "Imputing row 1201/15505 with 0 missing, elapsed time: 230.096\n",
      "Imputing row 1301/15505 with 0 missing, elapsed time: 230.187\n",
      "Imputing row 1401/15505 with 0 missing, elapsed time: 230.267\n",
      "Imputing row 1501/15505 with 0 missing, elapsed time: 230.268\n",
      "Imputing row 1601/15505 with 0 missing, elapsed time: 230.420\n",
      "Imputing row 1701/15505 with 0 missing, elapsed time: 230.479\n",
      "Imputing row 1801/15505 with 0 missing, elapsed time: 230.554\n",
      "Imputing row 1901/15505 with 1 missing, elapsed time: 230.577\n",
      "Imputing row 2001/15505 with 0 missing, elapsed time: 230.601\n",
      "Imputing row 2101/15505 with 0 missing, elapsed time: 230.680\n",
      "Imputing row 2201/15505 with 0 missing, elapsed time: 230.735\n",
      "Imputing row 2301/15505 with 0 missing, elapsed time: 230.767\n",
      "Imputing row 2401/15505 with 0 missing, elapsed time: 230.881\n",
      "Imputing row 2501/15505 with 0 missing, elapsed time: 230.885\n",
      "Imputing row 2601/15505 with 0 missing, elapsed time: 230.886\n",
      "Imputing row 2701/15505 with 0 missing, elapsed time: 230.888\n",
      "Imputing row 2801/15505 with 0 missing, elapsed time: 230.925\n",
      "Imputing row 2901/15505 with 0 missing, elapsed time: 230.927\n",
      "Imputing row 3001/15505 with 0 missing, elapsed time: 230.929\n",
      "Imputing row 3101/15505 with 0 missing, elapsed time: 230.933\n",
      "Imputing row 3201/15505 with 0 missing, elapsed time: 230.934\n",
      "Imputing row 3301/15505 with 0 missing, elapsed time: 230.935\n",
      "Imputing row 3401/15505 with 0 missing, elapsed time: 230.936\n",
      "Imputing row 3501/15505 with 0 missing, elapsed time: 230.937\n",
      "Imputing row 3601/15505 with 0 missing, elapsed time: 230.937\n",
      "Imputing row 3701/15505 with 0 missing, elapsed time: 230.938\n",
      "Imputing row 3801/15505 with 0 missing, elapsed time: 230.939\n",
      "Imputing row 3901/15505 with 0 missing, elapsed time: 230.940\n",
      "Imputing row 4001/15505 with 0 missing, elapsed time: 230.940\n",
      "Imputing row 4101/15505 with 0 missing, elapsed time: 230.941\n",
      "Imputing row 4201/15505 with 0 missing, elapsed time: 230.942\n",
      "Imputing row 4301/15505 with 0 missing, elapsed time: 230.942\n",
      "Imputing row 4401/15505 with 0 missing, elapsed time: 230.943\n",
      "Imputing row 4501/15505 with 0 missing, elapsed time: 230.978\n",
      "Imputing row 4601/15505 with 0 missing, elapsed time: 230.999\n",
      "Imputing row 4701/15505 with 0 missing, elapsed time: 231.000\n",
      "Imputing row 4801/15505 with 0 missing, elapsed time: 231.001\n",
      "Imputing row 4901/15505 with 0 missing, elapsed time: 231.002\n",
      "Imputing row 5001/15505 with 0 missing, elapsed time: 231.002\n",
      "Imputing row 5101/15505 with 0 missing, elapsed time: 231.003\n",
      "Imputing row 5201/15505 with 0 missing, elapsed time: 231.003\n",
      "Imputing row 5301/15505 with 0 missing, elapsed time: 231.004\n",
      "Imputing row 5401/15505 with 0 missing, elapsed time: 231.004\n",
      "Imputing row 5501/15505 with 0 missing, elapsed time: 231.005\n",
      "Imputing row 5601/15505 with 0 missing, elapsed time: 231.005\n",
      "Imputing row 5701/15505 with 0 missing, elapsed time: 231.006\n",
      "Imputing row 5801/15505 with 0 missing, elapsed time: 231.007\n",
      "Imputing row 5901/15505 with 0 missing, elapsed time: 231.007\n",
      "Imputing row 6001/15505 with 0 missing, elapsed time: 231.008\n",
      "Imputing row 6101/15505 with 0 missing, elapsed time: 231.008\n",
      "Imputing row 6201/15505 with 0 missing, elapsed time: 231.009\n",
      "Imputing row 6301/15505 with 0 missing, elapsed time: 231.009\n",
      "Imputing row 6401/15505 with 0 missing, elapsed time: 231.010\n",
      "Imputing row 6501/15505 with 0 missing, elapsed time: 231.010\n",
      "Imputing row 6601/15505 with 0 missing, elapsed time: 231.011\n",
      "Imputing row 6701/15505 with 0 missing, elapsed time: 231.012\n",
      "Imputing row 6801/15505 with 0 missing, elapsed time: 231.012\n",
      "Imputing row 6901/15505 with 0 missing, elapsed time: 231.013\n",
      "Imputing row 7001/15505 with 0 missing, elapsed time: 231.014\n",
      "Imputing row 7101/15505 with 0 missing, elapsed time: 231.014\n",
      "Imputing row 7201/15505 with 0 missing, elapsed time: 231.015\n",
      "Imputing row 7301/15505 with 0 missing, elapsed time: 231.015\n",
      "Imputing row 7401/15505 with 0 missing, elapsed time: 231.015\n",
      "Imputing row 7501/15505 with 0 missing, elapsed time: 231.016\n",
      "Imputing row 7601/15505 with 0 missing, elapsed time: 231.446\n",
      "Imputing row 7701/15505 with 0 missing, elapsed time: 231.674\n",
      "Imputing row 7801/15505 with 0 missing, elapsed time: 231.786\n",
      "Imputing row 7901/15505 with 0 missing, elapsed time: 231.947\n",
      "Imputing row 8001/15505 with 0 missing, elapsed time: 231.984\n",
      "Imputing row 8101/15505 with 0 missing, elapsed time: 232.013\n",
      "Imputing row 8201/15505 with 0 missing, elapsed time: 232.016\n",
      "Imputing row 8301/15505 with 0 missing, elapsed time: 232.017\n",
      "Imputing row 8401/15505 with 0 missing, elapsed time: 232.018\n",
      "Imputing row 8501/15505 with 0 missing, elapsed time: 232.019\n",
      "Imputing row 8601/15505 with 0 missing, elapsed time: 232.020\n",
      "Imputing row 8701/15505 with 0 missing, elapsed time: 232.021\n",
      "Imputing row 8801/15505 with 0 missing, elapsed time: 232.021\n",
      "Imputing row 8901/15505 with 0 missing, elapsed time: 232.023\n",
      "Imputing row 9001/15505 with 0 missing, elapsed time: 232.026\n",
      "Imputing row 9101/15505 with 0 missing, elapsed time: 232.027\n",
      "Imputing row 9201/15505 with 0 missing, elapsed time: 232.028\n",
      "Imputing row 9301/15505 with 0 missing, elapsed time: 232.028\n",
      "Imputing row 9401/15505 with 0 missing, elapsed time: 232.030\n",
      "Imputing row 9501/15505 with 0 missing, elapsed time: 232.031\n",
      "Imputing row 9601/15505 with 0 missing, elapsed time: 232.032\n",
      "Imputing row 9701/15505 with 0 missing, elapsed time: 232.032\n",
      "Imputing row 9801/15505 with 0 missing, elapsed time: 232.033\n",
      "Imputing row 9901/15505 with 0 missing, elapsed time: 232.034\n",
      "Imputing row 10001/15505 with 0 missing, elapsed time: 232.035\n",
      "Imputing row 10101/15505 with 0 missing, elapsed time: 232.035\n",
      "Imputing row 10201/15505 with 0 missing, elapsed time: 232.035\n",
      "Imputing row 10301/15505 with 0 missing, elapsed time: 232.036\n",
      "Imputing row 10401/15505 with 0 missing, elapsed time: 232.036\n",
      "Imputing row 10501/15505 with 0 missing, elapsed time: 232.037\n",
      "Imputing row 10601/15505 with 0 missing, elapsed time: 232.037\n",
      "Imputing row 10701/15505 with 0 missing, elapsed time: 232.038\n",
      "Imputing row 10801/15505 with 0 missing, elapsed time: 232.038\n",
      "Imputing row 10901/15505 with 0 missing, elapsed time: 232.039\n",
      "Imputing row 11001/15505 with 0 missing, elapsed time: 232.039\n",
      "Imputing row 11101/15505 with 0 missing, elapsed time: 232.040\n",
      "Imputing row 11201/15505 with 0 missing, elapsed time: 232.040\n",
      "Imputing row 11301/15505 with 0 missing, elapsed time: 232.040\n",
      "Imputing row 11401/15505 with 0 missing, elapsed time: 232.041\n",
      "Imputing row 11501/15505 with 0 missing, elapsed time: 232.041\n",
      "Imputing row 11601/15505 with 0 missing, elapsed time: 232.041\n",
      "Imputing row 11701/15505 with 0 missing, elapsed time: 232.042\n",
      "Imputing row 11801/15505 with 0 missing, elapsed time: 232.042\n",
      "Imputing row 11901/15505 with 0 missing, elapsed time: 232.043\n",
      "Imputing row 12001/15505 with 0 missing, elapsed time: 232.043\n",
      "Imputing row 12101/15505 with 0 missing, elapsed time: 232.043\n",
      "Imputing row 12201/15505 with 0 missing, elapsed time: 232.044\n",
      "Imputing row 12301/15505 with 0 missing, elapsed time: 232.044\n",
      "Imputing row 12401/15505 with 0 missing, elapsed time: 232.044\n",
      "Imputing row 12501/15505 with 0 missing, elapsed time: 232.045\n",
      "Imputing row 12601/15505 with 0 missing, elapsed time: 232.045\n",
      "Imputing row 12701/15505 with 0 missing, elapsed time: 232.045\n",
      "Imputing row 12801/15505 with 0 missing, elapsed time: 232.046\n",
      "Imputing row 12901/15505 with 0 missing, elapsed time: 232.046\n",
      "Imputing row 13001/15505 with 0 missing, elapsed time: 232.046\n",
      "Imputing row 13101/15505 with 0 missing, elapsed time: 232.047\n",
      "Imputing row 13201/15505 with 0 missing, elapsed time: 232.047\n",
      "Imputing row 13301/15505 with 0 missing, elapsed time: 232.047\n",
      "Imputing row 13401/15505 with 0 missing, elapsed time: 232.048\n",
      "Imputing row 13501/15505 with 0 missing, elapsed time: 232.048\n",
      "Imputing row 13601/15505 with 0 missing, elapsed time: 232.048\n",
      "Imputing row 13701/15505 with 0 missing, elapsed time: 232.049\n",
      "Imputing row 13801/15505 with 0 missing, elapsed time: 232.049\n",
      "Imputing row 13901/15505 with 0 missing, elapsed time: 232.049\n",
      "Imputing row 14001/15505 with 0 missing, elapsed time: 232.050\n",
      "Imputing row 14101/15505 with 0 missing, elapsed time: 232.050\n",
      "Imputing row 14201/15505 with 0 missing, elapsed time: 232.050\n",
      "Imputing row 14301/15505 with 0 missing, elapsed time: 232.051\n",
      "Imputing row 14401/15505 with 0 missing, elapsed time: 232.051\n",
      "Imputing row 14501/15505 with 0 missing, elapsed time: 232.051\n",
      "Imputing row 14601/15505 with 0 missing, elapsed time: 232.051\n",
      "Imputing row 14701/15505 with 0 missing, elapsed time: 232.052\n",
      "Imputing row 14801/15505 with 0 missing, elapsed time: 232.052\n",
      "Imputing row 14901/15505 with 0 missing, elapsed time: 232.052\n",
      "Imputing row 15001/15505 with 0 missing, elapsed time: 232.053\n",
      "Imputing row 15101/15505 with 0 missing, elapsed time: 232.053\n",
      "Imputing row 15201/15505 with 0 missing, elapsed time: 232.053\n",
      "Imputing row 15301/15505 with 0 missing, elapsed time: 232.054\n",
      "Imputing row 15401/15505 with 0 missing, elapsed time: 232.054\n",
      "Imputing row 15501/15505 with 0 missing, elapsed time: 232.054\n"
     ]
    }
   ],
   "source": [
    "train_cab = pd.DataFrame( KNN(k=3).fit_transform(train_cab) , columns=train_cab.columns) "
   ]
  },
  {
   "cell_type": "markdown",
   "metadata": {
    "collapsed": true
   },
   "source": []
  },
  {
   "cell_type": "code",
   "execution_count": 99,
   "metadata": {
    "collapsed": true
   },
   "outputs": [
    {
     "data": {
      "text/plain": [
       "array([1.        , 2.        , 3.        , 1.59010223, 6.        ,\n",
       "       5.        , 4.        , 1.00000002, 2.75328005, 1.89460222,\n",
       "       2.72377507, 0.99999997, 1.21439233, 0.99999998, 4.20875616,\n",
       "       1.07814476, 1.00000006, 1.2432795 , 0.99999998, 1.76656834,\n",
       "       1.37344156, 1.15785633, 1.13187256, 1.49514309, 2.44071478,\n",
       "       4.01927776, 1.00000005, 4.10127709, 1.4040825 , 0.99999999,\n",
       "       1.19218806, 1.52887782, 1.37135704, 1.16627828, 1.00000001,\n",
       "       2.69661585, 1.00000004, 1.00000001, 1.85893497, 1.67166985,\n",
       "       0.99999996, 1.42028065, 1.66403241, 0.99999997, 1.00000002,\n",
       "       1.26638456, 0.99999994, 1.86220802, 0.99999998, 1.2179593 ,\n",
       "       1.5055257 , 0.99999995, 2.34945612, 0.99999996, 1.00000002,\n",
       "       1.59874399, 1.70740415, 2.25343313, 1.77090421, 3.13806757,\n",
       "       1.3       , 2.17201789])"
      ]
     },
     "execution_count": 99,
     "metadata": {},
     "output_type": "execute_result"
    }
   ],
   "source": [
    "train_cab['passenger_count'].unique()"
   ]
  },
  {
   "cell_type": "markdown",
   "metadata": {},
   "source": [
    "Rounding off the passenger_count off to the next whole number "
   ]
  },
  {
   "cell_type": "code",
   "execution_count": 105,
   "metadata": {},
   "outputs": [],
   "source": [
    "train_cab['passenger_count'] = np.ceil(train_cab['passenger_count'])"
   ]
  },
  {
   "cell_type": "code",
   "execution_count": 107,
   "metadata": {},
   "outputs": [],
   "source": [
    "train_cab['passenger_count'] = train_cab['passenger_count'].astype('int')"
   ]
  },
  {
   "cell_type": "code",
   "execution_count": 108,
   "metadata": {},
   "outputs": [
    {
     "name": "stderr",
     "output_type": "stream",
     "text": [
      "C:\\Users\\Mahesh\\Anaconda3\\lib\\site-packages\\IPython\\core\\interactiveshell.py:3325: FutureWarning: specifying 'categories' or 'ordered' in .astype() is deprecated; pass a CategoricalDtype instead\n",
      "  exec(code_obj, self.user_global_ns, self.user_ns)\n"
     ]
    }
   ],
   "source": [
    "train_cab['passenger_count'] = train_cab['passenger_count'].astype('object').astype('category',ordered = True)"
   ]
  },
  {
   "cell_type": "code",
   "execution_count": 80,
   "metadata": {},
   "outputs": [],
   "source": [
    "datetime['date'] = datetime['pickup_datetime'].dt.date"
   ]
  },
  {
   "cell_type": "code",
   "execution_count": 83,
   "metadata": {},
   "outputs": [],
   "source": [
    "datetime['Month'] = datetime['pickup_datetime'].apply(lambda x : x.month )\n"
   ]
  },
  {
   "cell_type": "code",
   "execution_count": 85,
   "metadata": {},
   "outputs": [],
   "source": [
    "datetime['Year'] = datetime['pickup_datetime'].apply(lambda x : x.year)"
   ]
  },
  {
   "cell_type": "code",
   "execution_count": 87,
   "metadata": {},
   "outputs": [],
   "source": [
    "datetime['Day'] = datetime['pickup_datetime'].apply(lambda x : x.day)"
   ]
  },
  {
   "cell_type": "code",
   "execution_count": 89,
   "metadata": {},
   "outputs": [],
   "source": [
    "datetime['Hour'] = datetime['pickup_datetime'].apply(lambda x : x.hour)"
   ]
  },
  {
   "cell_type": "code",
   "execution_count": 93,
   "metadata": {},
   "outputs": [],
   "source": [
    "datetime['Day of the Week'] = datetime['pickup_datetime'].apply(lambda x : calendar.day_name[x.weekday()] )"
   ]
  },
  {
   "cell_type": "code",
   "execution_count": 166,
   "metadata": {},
   "outputs": [
    {
     "data": {
      "text/plain": [
       "date               object\n",
       "Month               int64\n",
       "Year                int64\n",
       "Day                 int64\n",
       "Hour                int64\n",
       "Day of the Week    object\n",
       "dtype: object"
      ]
     },
     "execution_count": 166,
     "metadata": {},
     "output_type": "execute_result"
    }
   ],
   "source": [
    "datetime.dtypes"
   ]
  },
  {
   "cell_type": "markdown",
   "metadata": {},
   "source": [
    "Merging datetime into train_cab "
   ]
  },
  {
   "cell_type": "code",
   "execution_count": 179,
   "metadata": {},
   "outputs": [],
   "source": [
    "train_cab = pd.merge(datetime,train_cab,right_index=True,left_index=True)"
   ]
  },
  {
   "cell_type": "markdown",
   "metadata": {},
   "source": [
    "Removing latitudes and longitudes as it's not required anymore"
   ]
  },
  {
   "cell_type": "code",
   "execution_count": 191,
   "metadata": {},
   "outputs": [],
   "source": [
    "rain_cab = train_cab.drop(columns = {\"pickup_longitude\",\"pickup_latitude\",\"dropoff_latitude\",\"dropoff_longitude\"})\n",
    "train_cab['date'] = train_cab.drop(columns=\"date\")"
   ]
  },
  {
   "cell_type": "markdown",
   "metadata": {},
   "source": [
    "OUTLIER ANALYSIS"
   ]
  },
  {
   "cell_type": "code",
   "execution_count": 256,
   "metadata": {},
   "outputs": [],
   "source": [
    "df = train_cab.copy()"
   ]
  },
  {
   "cell_type": "code",
   "execution_count": 239,
   "metadata": {},
   "outputs": [
    {
     "data": {
      "image/png": "[encoded data removed]",
      "text/plain": [
       "<Figure size 1440x360 with 1 Axes>"
      ]
     },
     "metadata": {
      "needs_background": "light"
     },
     "output_type": "display_data"
    }
   ],
   "source": [
    "pl.figure(figsize=(20,5))\n",
    "pl.xlim(0,100)\n",
    "s= sns.boxplot(x=train_cab['fare_amount'],y=train_cab['passenger_count'],data=train_cab,orient='h')\n",
    "pl.title('Boxplot of fare_amount w.r.t passenger_count')\n",
    "# plt.savefig('Boxplot of fare_amount w.r.t passenger_count.png')\n",
    "pl.show(s)\n"
   ]
  },
  {
   "cell_type": "markdown",
   "metadata": {},
   "source": [
    "From the above boxplat , it can be seen that the maximum average fare_amount is for passenger_count no 6 which makes sense.\n",
    "Also, maximum number of outliers is for passenger count = 1 "
   ]
  },
  {
   "cell_type": "markdown",
   "metadata": {},
   "source": [
    "Let's get a rough idea of the number of outliers present across the dataframe"
   ]
  },
  {
   "cell_type": "code",
   "execution_count": 252,
   "metadata": {},
   "outputs": [
    {
     "data": {
      "text/plain": [
       "1574"
      ]
     },
     "execution_count": 252,
     "metadata": {},
     "output_type": "execute_result"
    }
   ],
   "source": [
    "len(train_cab[train_cab['fare_amount'] > 20])"
   ]
  },
  {
   "cell_type": "markdown",
   "metadata": {},
   "source": [
    "Its important that we detect these , nullify it and impute it with the help of KNN Imputation as not doing it will otherwise cause deflection in our predictive modelling.\n"
   ]
  },
  {
   "cell_type": "code",
   "execution_count": 262,
   "metadata": {},
   "outputs": [
    {
     "name": "stdout",
     "output_type": "stream",
     "text": [
      "75th percentile is 12.5\n",
      "25th percentile is 6.0\n",
      "Inner quartile range is 6.5\n",
      "Maximum fare_amount should be22.25\n",
      "Minimum fare_amount should be-3.75\n"
     ]
    }
   ],
   "source": [
    "q75 , q25 = np.percentile(train_cab['fare_amount'] , [75,25] )\n",
    "print(\"75th percentile is {}\".format(q75))\n",
    "print(\"25th percentile is {}\".format(q25))\n",
    "iqr = q75 - q25\n",
    "print(\"Inner quartile range is {}\".format(iqr))\n",
    "min , max= q25 - (iqr*1.5) , q75 + (iqr*1.5)\n",
    "print(\"Maximum fare_amount should be{}\".format(max))\n",
    "print(\"Minimum fare_amount should be{}\".format(min))"
   ]
  },
  {
   "cell_type": "markdown",
   "metadata": {},
   "source": [
    "Presence of minimum fare_amount which must've creeped in while performing KNN Imputation"
   ]
  },
  {
   "cell_type": "code",
   "execution_count": 265,
   "metadata": {},
   "outputs": [
    {
     "data": {
      "text/html": [
       "<div>\n",
       "<style scoped>\n",
       "    .dataframe tbody tr th:only-of-type {\n",
       "        vertical-align: middle;\n",
       "    }\n",
       "\n",
       "    .dataframe tbody tr th {\n",
       "        vertical-align: top;\n",
       "    }\n",
       "\n",
       "    .dataframe thead th {\n",
       "        text-align: right;\n",
       "    }\n",
       "</style>\n",
       "<table border=\"1\" class=\"dataframe\">\n",
       "  <thead>\n",
       "    <tr style=\"text-align: right;\">\n",
       "      <th></th>\n",
       "      <th>date</th>\n",
       "      <th>Month</th>\n",
       "      <th>Year</th>\n",
       "      <th>Day</th>\n",
       "      <th>Hour</th>\n",
       "      <th>Day of the Week</th>\n",
       "      <th>fare_amount</th>\n",
       "      <th>passenger_count</th>\n",
       "      <th>Distance</th>\n",
       "    </tr>\n",
       "  </thead>\n",
       "  <tbody>\n",
       "    <tr>\n",
       "      <th>1954</th>\n",
       "      <td>5</td>\n",
       "      <td>5</td>\n",
       "      <td>2011</td>\n",
       "      <td>17</td>\n",
       "      <td>20</td>\n",
       "      <td>Tuesday</td>\n",
       "      <td>-2.9</td>\n",
       "      <td>1</td>\n",
       "      <td>0.184225</td>\n",
       "    </tr>\n",
       "    <tr>\n",
       "      <th>2390</th>\n",
       "      <td>4</td>\n",
       "      <td>4</td>\n",
       "      <td>2010</td>\n",
       "      <td>29</td>\n",
       "      <td>22</td>\n",
       "      <td>Thursday</td>\n",
       "      <td>-2.5</td>\n",
       "      <td>1</td>\n",
       "      <td>0.021244</td>\n",
       "    </tr>\n",
       "    <tr>\n",
       "      <th>12584</th>\n",
       "      <td>4</td>\n",
       "      <td>4</td>\n",
       "      <td>2010</td>\n",
       "      <td>26</td>\n",
       "      <td>12</td>\n",
       "      <td>Monday</td>\n",
       "      <td>-3.0</td>\n",
       "      <td>4</td>\n",
       "      <td>0.096377</td>\n",
       "    </tr>\n",
       "  </tbody>\n",
       "</table>\n",
       "</div>"
      ],
      "text/plain": [
       "      date  Month  Year  Day  Hour Day of the Week  fare_amount  \\\n",
       "1954     5      5  2011   17    20         Tuesday         -2.9   \n",
       "2390     4      4  2010   29    22        Thursday         -2.5   \n",
       "12584    4      4  2010   26    12          Monday         -3.0   \n",
       "\n",
       "      passenger_count  Distance  \n",
       "1954                1  0.184225  \n",
       "2390                1  0.021244  \n",
       "12584               4  0.096377  "
      ]
     },
     "execution_count": 265,
     "metadata": {},
     "output_type": "execute_result"
    }
   ],
   "source": [
    "train_cab[train_cab['fare_amount'] < 0 ]"
   ]
  },
  {
   "cell_type": "code",
   "execution_count": 316,
   "metadata": {},
   "outputs": [],
   "source": [
    "train_cab = df.copy()"
   ]
  },
  {
   "cell_type": "code",
   "execution_count": 318,
   "metadata": {},
   "outputs": [],
   "source": [
    "train_cab.loc[train_cab['fare_amount'] < 0 , 'fare_amount' ] = None\n",
    "train_cab.loc[train_cab['fare_amount'] > max, 'fare_amount'] = None \n",
    "        "
   ]
  },
  {
   "cell_type": "code",
   "execution_count": 319,
   "metadata": {},
   "outputs": [
    {
     "data": {
      "text/plain": [
       "date                  0\n",
       "Month                 0\n",
       "Year                  0\n",
       "Day                   0\n",
       "Hour                  0\n",
       "Day of the Week       0\n",
       "fare_amount        1312\n",
       "passenger_count       0\n",
       "Distance              0\n",
       "dtype: int64"
      ]
     },
     "execution_count": 319,
     "metadata": {},
     "output_type": "execute_result"
    }
   ],
   "source": [
    "train_cab.isnull().sum()"
   ]
  },
  {
   "cell_type": "code",
   "execution_count": 321,
   "metadata": {},
   "outputs": [
    {
     "data": {
      "text/plain": [
       "date                 object\n",
       "Month                 int64\n",
       "Year                  int64\n",
       "Day                   int64\n",
       "Hour                  int64\n",
       "Day of the Week      object\n",
       "fare_amount         float64\n",
       "passenger_count    category\n",
       "Distance            float64\n",
       "dtype: object"
      ]
     },
     "execution_count": 321,
     "metadata": {},
     "output_type": "execute_result"
    }
   ],
   "source": [
    "train_cab.dtypes"
   ]
  },
  {
   "cell_type": "code",
   "execution_count": 323,
   "metadata": {},
   "outputs": [],
   "source": [
    "day =[]"
   ]
  },
  {
   "cell_type": "code",
   "execution_count": 324,
   "metadata": {},
   "outputs": [],
   "source": [
    "for i in range( 0 , len(train_cab)) :\n",
    "    if( train_cab['Day of the Week'].iloc[i] == 'Monday'):\n",
    "        day.append(1)\n",
    "    if( train_cab['Day of the Week'].iloc[i] == 'Tuesday'):\n",
    "        day.append(2)\n",
    "    if( train_cab['Day of the Week'].iloc[i] == 'Wednesday'):\n",
    "        day.append(3)\n",
    "    if( train_cab['Day of the Week'].iloc[i] == 'Thursday'):\n",
    "        day.append(4)\n",
    "    if( train_cab['Day of the Week'].iloc[i] == 'Friday'):\n",
    "        day.append(5)\n",
    "    if( train_cab['Day of the Week'].iloc[i] == 'Saturday'):\n",
    "        day.append(6)\n",
    "    if( train_cab['Day of the Week'].iloc[i] == 'Sunday'):\n",
    "        day.append(7)\n",
    "         "
   ]
  },
  {
   "cell_type": "code",
   "execution_count": 329,
   "metadata": {},
   "outputs": [],
   "source": [
    "train_cab['day of the week'] = day"
   ]
  },
  {
   "cell_type": "code",
   "execution_count": 331,
   "metadata": {},
   "outputs": [],
   "source": [
    "train_cab = train_cab.drop(columns = \"Day of the Week\")"
   ]
  },
  {
   "cell_type": "code",
   "execution_count": 334,
   "metadata": {},
   "outputs": [
    {
     "name": "stdout",
     "output_type": "stream",
     "text": [
      "Imputing row 1/14964 with 0 missing, elapsed time: 169.059\n",
      "Imputing row 101/14964 with 0 missing, elapsed time: 174.173\n",
      "Imputing row 201/14964 with 0 missing, elapsed time: 175.200\n",
      "Imputing row 301/14964 with 0 missing, elapsed time: 176.160\n",
      "Imputing row 401/14964 with 0 missing, elapsed time: 177.794\n",
      "Imputing row 501/14964 with 0 missing, elapsed time: 178.990\n",
      "Imputing row 601/14964 with 0 missing, elapsed time: 179.709\n",
      "Imputing row 701/14964 with 1 missing, elapsed time: 180.221\n",
      "Imputing row 801/14964 with 0 missing, elapsed time: 180.546\n",
      "Imputing row 901/14964 with 0 missing, elapsed time: 180.687\n",
      "Imputing row 1001/14964 with 0 missing, elapsed time: 180.960\n",
      "Imputing row 1101/14964 with 0 missing, elapsed time: 181.135\n",
      "Imputing row 1201/14964 with 0 missing, elapsed time: 181.406\n",
      "Imputing row 1301/14964 with 0 missing, elapsed time: 181.651\n",
      "Imputing row 1401/14964 with 0 missing, elapsed time: 181.970\n",
      "Imputing row 1501/14964 with 0 missing, elapsed time: 182.437\n",
      "Imputing row 1601/14964 with 0 missing, elapsed time: 182.766\n",
      "Imputing row 1701/14964 with 0 missing, elapsed time: 183.124\n",
      "Imputing row 1801/14964 with 0 missing, elapsed time: 183.843\n",
      "Imputing row 1901/14964 with 1 missing, elapsed time: 184.499\n",
      "Imputing row 2001/14964 with 0 missing, elapsed time: 185.144\n",
      "Imputing row 2101/14964 with 0 missing, elapsed time: 185.580\n",
      "Imputing row 2201/14964 with 0 missing, elapsed time: 185.972\n",
      "Imputing row 2301/14964 with 0 missing, elapsed time: 186.350\n",
      "Imputing row 2401/14964 with 0 missing, elapsed time: 186.733\n",
      "Imputing row 2501/14964 with 0 missing, elapsed time: 187.422\n",
      "Imputing row 2601/14964 with 0 missing, elapsed time: 187.736\n",
      "Imputing row 2701/14964 with 0 missing, elapsed time: 187.926\n",
      "Imputing row 2801/14964 with 1 missing, elapsed time: 188.487\n",
      "Imputing row 2901/14964 with 0 missing, elapsed time: 188.827\n",
      "Imputing row 3001/14964 with 0 missing, elapsed time: 189.042\n",
      "Imputing row 3101/14964 with 0 missing, elapsed time: 189.627\n",
      "Imputing row 3201/14964 with 0 missing, elapsed time: 190.899\n",
      "Imputing row 3301/14964 with 0 missing, elapsed time: 192.160\n",
      "Imputing row 3401/14964 with 0 missing, elapsed time: 193.044\n",
      "Imputing row 3501/14964 with 0 missing, elapsed time: 194.075\n",
      "Imputing row 3601/14964 with 0 missing, elapsed time: 194.613\n",
      "Imputing row 3701/14964 with 0 missing, elapsed time: 195.290\n",
      "Imputing row 3801/14964 with 0 missing, elapsed time: 195.668\n",
      "Imputing row 3901/14964 with 0 missing, elapsed time: 196.086\n",
      "Imputing row 4001/14964 with 0 missing, elapsed time: 196.663\n",
      "Imputing row 4101/14964 with 0 missing, elapsed time: 197.810\n",
      "Imputing row 4201/14964 with 0 missing, elapsed time: 199.045\n",
      "Imputing row 4301/14964 with 0 missing, elapsed time: 200.197\n",
      "Imputing row 4401/14964 with 0 missing, elapsed time: 201.383\n",
      "Imputing row 4501/14964 with 0 missing, elapsed time: 202.294\n",
      "Imputing row 4601/14964 with 0 missing, elapsed time: 202.971\n",
      "Imputing row 4701/14964 with 0 missing, elapsed time: 203.544\n",
      "Imputing row 4801/14964 with 1 missing, elapsed time: 204.392\n",
      "Imputing row 4901/14964 with 0 missing, elapsed time: 205.826\n",
      "Imputing row 5001/14964 with 0 missing, elapsed time: 206.566\n",
      "Imputing row 5101/14964 with 0 missing, elapsed time: 207.186\n",
      "Imputing row 5201/14964 with 0 missing, elapsed time: 208.259\n",
      "Imputing row 5301/14964 with 0 missing, elapsed time: 209.222\n",
      "Imputing row 5401/14964 with 0 missing, elapsed time: 210.155\n",
      "Imputing row 5501/14964 with 0 missing, elapsed time: 211.088\n",
      "Imputing row 5601/14964 with 0 missing, elapsed time: 211.730\n",
      "Imputing row 5701/14964 with 0 missing, elapsed time: 212.810\n",
      "Imputing row 5801/14964 with 0 missing, elapsed time: 214.255\n",
      "Imputing row 5901/14964 with 1 missing, elapsed time: 215.468\n",
      "Imputing row 6001/14964 with 0 missing, elapsed time: 216.330\n",
      "Imputing row 6101/14964 with 0 missing, elapsed time: 217.809\n",
      "Imputing row 6201/14964 with 0 missing, elapsed time: 219.580\n",
      "Imputing row 6301/14964 with 0 missing, elapsed time: 220.532\n",
      "Imputing row 6401/14964 with 0 missing, elapsed time: 221.600\n",
      "Imputing row 6501/14964 with 0 missing, elapsed time: 222.125\n",
      "Imputing row 6601/14964 with 0 missing, elapsed time: 222.668\n",
      "Imputing row 6701/14964 with 0 missing, elapsed time: 223.149\n",
      "Imputing row 6801/14964 with 1 missing, elapsed time: 223.598\n",
      "Imputing row 6901/14964 with 0 missing, elapsed time: 223.952\n",
      "Imputing row 7001/14964 with 0 missing, elapsed time: 224.684\n",
      "Imputing row 7101/14964 with 0 missing, elapsed time: 225.715\n",
      "Imputing row 7201/14964 with 0 missing, elapsed time: 226.586\n",
      "Imputing row 7301/14964 with 0 missing, elapsed time: 227.499\n",
      "Imputing row 7401/14964 with 0 missing, elapsed time: 227.763\n",
      "Imputing row 7501/14964 with 0 missing, elapsed time: 228.089\n",
      "Imputing row 7601/14964 with 0 missing, elapsed time: 228.461\n",
      "Imputing row 7701/14964 with 0 missing, elapsed time: 228.817\n",
      "Imputing row 7801/14964 with 0 missing, elapsed time: 229.127\n",
      "Imputing row 7901/14964 with 0 missing, elapsed time: 229.702\n",
      "Imputing row 8001/14964 with 0 missing, elapsed time: 230.062\n",
      "Imputing row 8101/14964 with 0 missing, elapsed time: 230.399\n",
      "Imputing row 8201/14964 with 0 missing, elapsed time: 230.779\n",
      "Imputing row 8301/14964 with 0 missing, elapsed time: 230.952\n",
      "Imputing row 8401/14964 with 0 missing, elapsed time: 231.682\n",
      "Imputing row 8501/14964 with 0 missing, elapsed time: 231.895\n",
      "Imputing row 8601/14964 with 0 missing, elapsed time: 232.131\n",
      "Imputing row 8701/14964 with 0 missing, elapsed time: 232.339\n",
      "Imputing row 8801/14964 with 0 missing, elapsed time: 232.536\n",
      "Imputing row 8901/14964 with 0 missing, elapsed time: 232.738\n",
      "Imputing row 9001/14964 with 0 missing, elapsed time: 232.935\n",
      "Imputing row 9101/14964 with 0 missing, elapsed time: 233.294\n",
      "Imputing row 9201/14964 with 0 missing, elapsed time: 233.618\n",
      "Imputing row 9301/14964 with 1 missing, elapsed time: 234.181\n",
      "Imputing row 9401/14964 with 0 missing, elapsed time: 234.646\n",
      "Imputing row 9501/14964 with 0 missing, elapsed time: 235.161\n",
      "Imputing row 9601/14964 with 0 missing, elapsed time: 235.429\n",
      "Imputing row 9701/14964 with 0 missing, elapsed time: 235.650\n",
      "Imputing row 9801/14964 with 0 missing, elapsed time: 235.970\n",
      "Imputing row 9901/14964 with 0 missing, elapsed time: 235.978\n",
      "Imputing row 10001/14964 with 0 missing, elapsed time: 235.989\n",
      "Imputing row 10101/14964 with 0 missing, elapsed time: 235.995\n",
      "Imputing row 10201/14964 with 0 missing, elapsed time: 235.999\n",
      "Imputing row 10301/14964 with 0 missing, elapsed time: 236.034\n",
      "Imputing row 10401/14964 with 0 missing, elapsed time: 236.042\n",
      "Imputing row 10501/14964 with 0 missing, elapsed time: 236.047\n",
      "Imputing row 10601/14964 with 0 missing, elapsed time: 236.053\n",
      "Imputing row 10701/14964 with 0 missing, elapsed time: 236.054\n",
      "Imputing row 10801/14964 with 0 missing, elapsed time: 236.064\n",
      "Imputing row 10901/14964 with 0 missing, elapsed time: 236.069\n",
      "Imputing row 11001/14964 with 0 missing, elapsed time: 236.078\n",
      "Imputing row 11101/14964 with 0 missing, elapsed time: 236.082\n",
      "Imputing row 11201/14964 with 0 missing, elapsed time: 236.602\n",
      "Imputing row 11301/14964 with 0 missing, elapsed time: 236.730\n",
      "Imputing row 11401/14964 with 0 missing, elapsed time: 236.735\n",
      "Imputing row 11501/14964 with 0 missing, elapsed time: 236.740\n",
      "Imputing row 11601/14964 with 1 missing, elapsed time: 236.746\n",
      "Imputing row 11701/14964 with 0 missing, elapsed time: 236.752\n",
      "Imputing row 11801/14964 with 0 missing, elapsed time: 236.756\n",
      "Imputing row 11901/14964 with 0 missing, elapsed time: 236.761\n",
      "Imputing row 12001/14964 with 0 missing, elapsed time: 236.765\n",
      "Imputing row 12101/14964 with 0 missing, elapsed time: 237.121\n",
      "Imputing row 12201/14964 with 0 missing, elapsed time: 237.129\n",
      "Imputing row 12301/14964 with 0 missing, elapsed time: 237.136\n",
      "Imputing row 12401/14964 with 0 missing, elapsed time: 237.141\n",
      "Imputing row 12501/14964 with 0 missing, elapsed time: 237.145\n",
      "Imputing row 12601/14964 with 0 missing, elapsed time: 237.151\n",
      "Imputing row 12701/14964 with 0 missing, elapsed time: 237.154\n",
      "Imputing row 12801/14964 with 0 missing, elapsed time: 237.812\n",
      "Imputing row 12901/14964 with 0 missing, elapsed time: 238.435\n",
      "Imputing row 13001/14964 with 0 missing, elapsed time: 239.543\n",
      "Imputing row 13101/14964 with 0 missing, elapsed time: 240.267\n",
      "Imputing row 13201/14964 with 0 missing, elapsed time: 241.287\n",
      "Imputing row 13301/14964 with 0 missing, elapsed time: 241.434\n",
      "Imputing row 13401/14964 with 0 missing, elapsed time: 241.502\n",
      "Imputing row 13501/14964 with 1 missing, elapsed time: 241.511\n",
      "Imputing row 13601/14964 with 0 missing, elapsed time: 241.528\n",
      "Imputing row 13701/14964 with 0 missing, elapsed time: 241.532\n",
      "Imputing row 13801/14964 with 0 missing, elapsed time: 241.534\n",
      "Imputing row 13901/14964 with 0 missing, elapsed time: 241.552\n",
      "Imputing row 14001/14964 with 0 missing, elapsed time: 241.556\n",
      "Imputing row 14101/14964 with 0 missing, elapsed time: 241.560\n",
      "Imputing row 14201/14964 with 0 missing, elapsed time: 241.564\n",
      "Imputing row 14301/14964 with 0 missing, elapsed time: 241.568\n",
      "Imputing row 14401/14964 with 0 missing, elapsed time: 241.572\n",
      "Imputing row 14501/14964 with 0 missing, elapsed time: 241.576\n",
      "Imputing row 14601/14964 with 0 missing, elapsed time: 241.576\n",
      "Imputing row 14701/14964 with 0 missing, elapsed time: 241.580\n",
      "Imputing row 14801/14964 with 0 missing, elapsed time: 241.610\n",
      "Imputing row 14901/14964 with 0 missing, elapsed time: 241.614\n"
     ]
    }
   ],
   "source": [
    "train_cab = pd.DataFrame( KNN(k=3).fit_transform(train_cab) , columns=train_cab.columns) "
   ]
  },
  {
   "cell_type": "code",
   "execution_count": 340,
   "metadata": {},
   "outputs": [
    {
     "data": {
      "text/plain": [
       "22.1"
      ]
     },
     "execution_count": 340,
     "metadata": {},
     "output_type": "execute_result"
    }
   ],
   "source": [
    "np.max(train_cab['fare_amount'])"
   ]
  },
  {
   "cell_type": "markdown",
   "metadata": {},
   "source": [
    "Outlier Analysis Completed"
   ]
  },
  {
   "cell_type": "code",
   "execution_count": 341,
   "metadata": {},
   "outputs": [
    {
     "data": {
      "image/png": "[encoded data removed]",
      "text/plain": [
       "<Figure size 432x288 with 1 Axes>"
      ]
     },
     "metadata": {
      "needs_background": "light"
     },
     "output_type": "display_data"
    }
   ],
   "source": [
    "pl.scatter(train_cab['Distance'],train_cab['fare_amount'],)\n",
    "pl.scatter(train_cab['passenger_count'],train_cab['fare_amount'])\n",
    "pl.ylabel(\"Fare Amount\")\n",
    "pl.xlabel(\"Distance and Passenger\")\n",
    "pl.legend((\"Distance vs Fare Amount\" , \"Passenger Count vs Fare Amount \"))\n",
    "pl.show()"
   ]
  },
  {
   "cell_type": "code",
   "execution_count": 243,
   "metadata": {},
   "outputs": [],
   "source": [
    "train_cab.dtypes\n"
   ]
  },
  {
   "cell_type": "code",
   "execution_count": 244,
   "metadata": {},
   "outputs": [
    {
     "name": "stdout",
     "output_type": "stream",
     "text": [
      "date\n",
      "0.37558732082950863\n",
      "Day of the Week\n",
      "0.7156866882327797\n",
      "passenger_count\n",
      "0.1864912930228394\n"
     ]
    }
   ],
   "source": [
    "for i in cat:\n",
    "    print(i)\n",
    "    chi2 , p , dof , ex = chi2_contingency(pd.crosstab(train_cab['fare_amount'],train_cab[i]))\n",
    "    print(p)"
   ]
  },
  {
   "cell_type": "code",
   "execution_count": 354,
   "metadata": {},
   "outputs": [],
   "source": [
    "train_cab['passenger_count'] = train_cab['passenger_count'].astype('int')\n",
    "train_cab['day of the week'] = train_cab['day of the week'].astype('int')\n",
    "train_cab['Year'] = train_cab['Year'].astype('int')"
   ]
  },
  {
   "cell_type": "code",
   "execution_count": 355,
   "metadata": {},
   "outputs": [],
   "source": [
    "train_cab['passenger_count'] = train_cab['passenger_count'].astype('object').astype('category',ordered = True)\n",
    "train_cab['day of the week'] = train_cab['day of the week'].astype('object').astype('category',ordered = True)\n",
    "train_cab['Year'] = train_cab['Year'].astype('object').astype('category',ordered = True)"
   ]
  },
  {
   "cell_type": "code",
   "execution_count": 357,
   "metadata": {},
   "outputs": [],
   "source": [
    "df = train_cab.copy()"
   ]
  },
  {
   "cell_type": "markdown",
   "metadata": {},
   "source": [
    "Chi square test"
   ]
  },
  {
   "cell_type": "code",
   "execution_count": 366,
   "metadata": {},
   "outputs": [],
   "source": [
    "cnumeric = [\"fare_amount\",\"date\",\"Month\",\"Year\",\"Hour\",\"Distance\"]"
   ]
  },
  {
   "cell_type": "code",
   "execution_count": 367,
   "metadata": {},
   "outputs": [],
   "source": [
    "train_cab_corr = train_cab.loc[:,cnumeric]"
   ]
  },
  {
   "cell_type": "code",
   "execution_count": 368,
   "metadata": {},
   "outputs": [],
   "source": [
    "corr = train_cab_corr.corr()"
   ]
  },
  {
   "cell_type": "code",
   "execution_count": 370,
   "metadata": {},
   "outputs": [],
   "source": [
    "cat=[\"day of the week\",\"passenger_count\",\"Year\"]"
   ]
  },
  {
   "cell_type": "code",
   "execution_count": 371,
   "metadata": {},
   "outputs": [
    {
     "name": "stdout",
     "output_type": "stream",
     "text": [
      "day of the week\n",
      "0.597792423660674\n",
      "passenger_count\n",
      "0.03508018393995366\n",
      "Year\n",
      "0.4724249316638036\n"
     ]
    }
   ],
   "source": [
    "for i in cat:\n",
    "    print(i)\n",
    "    chi2 , p , dof , ex = chi2_contingency(pd.crosstab(train_cab['fare_amount'],train_cab[i]))\n",
    "    print(p)"
   ]
  },
  {
   "cell_type": "markdown",
   "metadata": {},
   "source": [
    "We can get rid of the variables - \"day of the week\" and \"Year Count\" as the p value is greater than 0.05\n",
    "Sensibly , p value for  passenger_count is less than 0.05."
   ]
  },
  {
   "cell_type": "code",
   "execution_count": 372,
   "metadata": {},
   "outputs": [],
   "source": [
    "train_cab  = train_cab.drop(columns = {\"day of the week\" , \"Year\"})"
   ]
  },
  {
   "cell_type": "code",
   "execution_count": 374,
   "metadata": {},
   "outputs": [],
   "source": [
    "df = train_cab.copy()"
   ]
  },
  {
   "cell_type": "markdown",
   "metadata": {},
   "source": [
    "Building a model : Since its a regression based problem , we'll use Linear Regression , Decision Tree Regression or Random Forest Regression"
   ]
  },
  {
   "cell_type": "markdown",
   "metadata": {},
   "source": [
    "Linear Regression Model "
   ]
  },
  {
   "cell_type": "code",
   "execution_count": 460,
   "metadata": {},
   "outputs": [],
   "source": [
    "train,test = train_test_split(train_cab, test_size=0.2)"
   ]
  },
  {
   "cell_type": "code",
   "execution_count": 387,
   "metadata": {},
   "outputs": [],
   "source": [
    "import statsmodels.api as sm #Library for Linear Regression"
   ]
  },
  {
   "cell_type": "code",
   "execution_count": 461,
   "metadata": {},
   "outputs": [],
   "source": [
    "fare = train['fare_amount']\n",
    "train = train.drop(columns = \"fare_amount\")\n",
    "train['fare_amount'] = fare\n",
    "#Rearranging the columns\n",
    "fare_2 = test['fare_amount']\n",
    "test = test.drop(columns = \"fare_amount\")\n",
    "test['fare_amount'] =fare_2"
   ]
  },
  {
   "cell_type": "code",
   "execution_count": 539,
   "metadata": {},
   "outputs": [],
   "source": [
    "model = sm.OLS(train.iloc[:,6].astype(float),train.iloc[:,0:6].astype(float)).fit()\n",
    "#type casting the data frames"
   ]
  },
  {
   "cell_type": "code",
   "execution_count": 540,
   "metadata": {},
   "outputs": [
    {
     "data": {
      "text/html": [
       "<table class=\"simpletable\">\n",
       "<caption>OLS Regression Results</caption>\n",
       "<tr>\n",
       "  <th>Dep. Variable:</th>       <td>fare_amount</td>   <th>  R-squared (uncentered):</th>      <td>   0.819</td> \n",
       "</tr>\n",
       "<tr>\n",
       "  <th>Model:</th>                   <td>OLS</td>       <th>  Adj. R-squared (uncentered):</th> <td>   0.819</td> \n",
       "</tr>\n",
       "<tr>\n",
       "  <th>Method:</th>             <td>Least Squares</td>  <th>  F-statistic:       </th>          <td>1.081e+04</td>\n",
       "</tr>\n",
       "<tr>\n",
       "  <th>Date:</th>             <td>Sun, 27 Oct 2019</td> <th>  Prob (F-statistic):</th>           <td>  0.00</td>  \n",
       "</tr>\n",
       "<tr>\n",
       "  <th>Time:</th>                 <td>17:36:18</td>     <th>  Log-Likelihood:    </th>          <td> -34891.</td> \n",
       "</tr>\n",
       "<tr>\n",
       "  <th>No. Observations:</th>      <td> 11971</td>      <th>  AIC:               </th>          <td>6.979e+04</td>\n",
       "</tr>\n",
       "<tr>\n",
       "  <th>Df Residuals:</th>          <td> 11966</td>      <th>  BIC:               </th>          <td>6.983e+04</td>\n",
       "</tr>\n",
       "<tr>\n",
       "  <th>Df Model:</th>              <td>     5</td>      <th>                     </th>              <td> </td>    \n",
       "</tr>\n",
       "<tr>\n",
       "  <th>Covariance Type:</th>      <td>nonrobust</td>    <th>                     </th>              <td> </td>    \n",
       "</tr>\n",
       "</table>\n",
       "<table class=\"simpletable\">\n",
       "<tr>\n",
       "         <td></td>            <th>coef</th>     <th>std err</th>      <th>t</th>      <th>P>|t|</th>  <th>[0.025</th>    <th>0.975]</th>  \n",
       "</tr>\n",
       "<tr>\n",
       "  <th>date</th>            <td>    0.1418</td> <td>    0.005</td> <td>   27.348</td> <td> 0.000</td> <td>    0.132</td> <td>    0.152</td>\n",
       "</tr>\n",
       "<tr>\n",
       "  <th>Month</th>           <td>    0.1418</td> <td>    0.005</td> <td>   27.348</td> <td> 0.000</td> <td>    0.132</td> <td>    0.152</td>\n",
       "</tr>\n",
       "<tr>\n",
       "  <th>Day</th>             <td>    0.1180</td> <td>    0.004</td> <td>   28.603</td> <td> 0.000</td> <td>    0.110</td> <td>    0.126</td>\n",
       "</tr>\n",
       "<tr>\n",
       "  <th>Hour</th>            <td>    0.1780</td> <td>    0.005</td> <td>   34.133</td> <td> 0.000</td> <td>    0.168</td> <td>    0.188</td>\n",
       "</tr>\n",
       "<tr>\n",
       "  <th>passenger_count</th> <td>    0.6081</td> <td>    0.030</td> <td>   20.073</td> <td> 0.000</td> <td>    0.549</td> <td>    0.667</td>\n",
       "</tr>\n",
       "<tr>\n",
       "  <th>Distance</th>        <td>    0.5533</td> <td>    0.009</td> <td>   63.927</td> <td> 0.000</td> <td>    0.536</td> <td>    0.570</td>\n",
       "</tr>\n",
       "</table>\n",
       "<table class=\"simpletable\">\n",
       "<tr>\n",
       "  <th>Omnibus:</th>       <td>5794.100</td> <th>  Durbin-Watson:     </th>  <td>   1.955</td> \n",
       "</tr>\n",
       "<tr>\n",
       "  <th>Prob(Omnibus):</th>  <td> 0.000</td>  <th>  Jarque-Bera (JB):  </th> <td>319626.889</td>\n",
       "</tr>\n",
       "<tr>\n",
       "  <th>Skew:</th>           <td>-1.549</td>  <th>  Prob(JB):          </th>  <td>    0.00</td> \n",
       "</tr>\n",
       "<tr>\n",
       "  <th>Kurtosis:</th>       <td>28.124</td>  <th>  Cond. No.          </th>  <td>1.46e+16</td> \n",
       "</tr>\n",
       "</table><br/><br/>Warnings:<br/>[1] Standard Errors assume that the covariance matrix of the errors is correctly specified.<br/>[2] The smallest eigenvalue is 3.2e-26. This might indicate that there are<br/>strong multicollinearity problems or that the design matrix is singular."
      ],
      "text/plain": [
       "<class 'statsmodels.iolib.summary.Summary'>\n",
       "\"\"\"\n",
       "                                 OLS Regression Results                                \n",
       "=======================================================================================\n",
       "Dep. Variable:            fare_amount   R-squared (uncentered):                   0.819\n",
       "Model:                            OLS   Adj. R-squared (uncentered):              0.819\n",
       "Method:                 Least Squares   F-statistic:                          1.081e+04\n",
       "Date:                Sun, 27 Oct 2019   Prob (F-statistic):                        0.00\n",
       "Time:                        17:36:18   Log-Likelihood:                         -34891.\n",
       "No. Observations:               11971   AIC:                                  6.979e+04\n",
       "Df Residuals:                   11966   BIC:                                  6.983e+04\n",
       "Df Model:                           5                                                  \n",
       "Covariance Type:            nonrobust                                                  \n",
       "===================================================================================\n",
       "                      coef    std err          t      P>|t|      [0.025      0.975]\n",
       "-----------------------------------------------------------------------------------\n",
       "date                0.1418      0.005     27.348      0.000       0.132       0.152\n",
       "Month               0.1418      0.005     27.348      0.000       0.132       0.152\n",
       "Day                 0.1180      0.004     28.603      0.000       0.110       0.126\n",
       "Hour                0.1780      0.005     34.133      0.000       0.168       0.188\n",
       "passenger_count     0.6081      0.030     20.073      0.000       0.549       0.667\n",
       "Distance            0.5533      0.009     63.927      0.000       0.536       0.570\n",
       "==============================================================================\n",
       "Omnibus:                     5794.100   Durbin-Watson:                   1.955\n",
       "Prob(Omnibus):                  0.000   Jarque-Bera (JB):           319626.889\n",
       "Skew:                          -1.549   Prob(JB):                         0.00\n",
       "Kurtosis:                      28.124   Cond. No.                     1.46e+16\n",
       "==============================================================================\n",
       "\n",
       "Warnings:\n",
       "[1] Standard Errors assume that the covariance matrix of the errors is correctly specified.\n",
       "[2] The smallest eigenvalue is 3.2e-26. This might indicate that there are\n",
       "strong multicollinearity problems or that the design matrix is singular.\n",
       "\"\"\""
      ]
     },
     "execution_count": 540,
     "metadata": {},
     "output_type": "execute_result"
    }
   ],
   "source": [
    "model.summary()"
   ]
  },
  {
   "cell_type": "code",
   "execution_count": 543,
   "metadata": {},
   "outputs": [],
   "source": [
    "prediction_LR = model.predict(test.iloc[:,0:6])"
   ]
  },
  {
   "cell_type": "code",
   "execution_count": 545,
   "metadata": {},
   "outputs": [
    {
     "ename": "IndexError",
     "evalue": "single positional indexer is out-of-bounds",
     "output_type": "error",
     "traceback": [
      "\u001b[1;31m---------------------------------------------------------------------------\u001b[0m",
      "\u001b[1;31mIndexError\u001b[0m                                Traceback (most recent call last)",
      "\u001b[1;32m<ipython-input-545-4bac0fb24622>\u001b[0m in \u001b[0;36m<module>\u001b[1;34m\u001b[0m\n\u001b[0;32m      1\u001b[0m \u001b[1;31m#Calculate MAPE\u001b[0m\u001b[1;33m\u001b[0m\u001b[1;33m\u001b[0m\u001b[1;33m\u001b[0m\u001b[0m\n\u001b[1;32m----> 2\u001b[1;33m \u001b[0mMAPE\u001b[0m\u001b[1;33m(\u001b[0m\u001b[0mtest\u001b[0m\u001b[1;33m.\u001b[0m\u001b[0miloc\u001b[0m\u001b[1;33m[\u001b[0m\u001b[1;33m:\u001b[0m\u001b[1;33m,\u001b[0m\u001b[1;36m9\u001b[0m\u001b[1;33m]\u001b[0m \u001b[1;33m,\u001b[0m \u001b[0mprediction_LR\u001b[0m\u001b[1;33m)\u001b[0m\u001b[1;33m\u001b[0m\u001b[1;33m\u001b[0m\u001b[0m\n\u001b[0m",
      "\u001b[1;32m~\\Anaconda3\\lib\\site-packages\\pandas\\core\\indexing.py\u001b[0m in \u001b[0;36m__getitem__\u001b[1;34m(self, key)\u001b[0m\n\u001b[0;32m   1492\u001b[0m             \u001b[1;32mexcept\u001b[0m \u001b[1;33m(\u001b[0m\u001b[0mKeyError\u001b[0m\u001b[1;33m,\u001b[0m \u001b[0mIndexError\u001b[0m\u001b[1;33m,\u001b[0m \u001b[0mAttributeError\u001b[0m\u001b[1;33m)\u001b[0m\u001b[1;33m:\u001b[0m\u001b[1;33m\u001b[0m\u001b[1;33m\u001b[0m\u001b[0m\n\u001b[0;32m   1493\u001b[0m                 \u001b[1;32mpass\u001b[0m\u001b[1;33m\u001b[0m\u001b[1;33m\u001b[0m\u001b[0m\n\u001b[1;32m-> 1494\u001b[1;33m             \u001b[1;32mreturn\u001b[0m \u001b[0mself\u001b[0m\u001b[1;33m.\u001b[0m\u001b[0m_getitem_tuple\u001b[0m\u001b[1;33m(\u001b[0m\u001b[0mkey\u001b[0m\u001b[1;33m)\u001b[0m\u001b[1;33m\u001b[0m\u001b[1;33m\u001b[0m\u001b[0m\n\u001b[0m\u001b[0;32m   1495\u001b[0m         \u001b[1;32melse\u001b[0m\u001b[1;33m:\u001b[0m\u001b[1;33m\u001b[0m\u001b[1;33m\u001b[0m\u001b[0m\n\u001b[0;32m   1496\u001b[0m             \u001b[1;31m# we by definition only have the 0th axis\u001b[0m\u001b[1;33m\u001b[0m\u001b[1;33m\u001b[0m\u001b[1;33m\u001b[0m\u001b[0m\n",
      "\u001b[1;32m~\\Anaconda3\\lib\\site-packages\\pandas\\core\\indexing.py\u001b[0m in \u001b[0;36m_getitem_tuple\u001b[1;34m(self, tup)\u001b[0m\n\u001b[0;32m   2141\u001b[0m     \u001b[1;32mdef\u001b[0m \u001b[0m_getitem_tuple\u001b[0m\u001b[1;33m(\u001b[0m\u001b[0mself\u001b[0m\u001b[1;33m,\u001b[0m \u001b[0mtup\u001b[0m\u001b[1;33m)\u001b[0m\u001b[1;33m:\u001b[0m\u001b[1;33m\u001b[0m\u001b[1;33m\u001b[0m\u001b[0m\n\u001b[0;32m   2142\u001b[0m \u001b[1;33m\u001b[0m\u001b[0m\n\u001b[1;32m-> 2143\u001b[1;33m         \u001b[0mself\u001b[0m\u001b[1;33m.\u001b[0m\u001b[0m_has_valid_tuple\u001b[0m\u001b[1;33m(\u001b[0m\u001b[0mtup\u001b[0m\u001b[1;33m)\u001b[0m\u001b[1;33m\u001b[0m\u001b[1;33m\u001b[0m\u001b[0m\n\u001b[0m\u001b[0;32m   2144\u001b[0m         \u001b[1;32mtry\u001b[0m\u001b[1;33m:\u001b[0m\u001b[1;33m\u001b[0m\u001b[1;33m\u001b[0m\u001b[0m\n\u001b[0;32m   2145\u001b[0m             \u001b[1;32mreturn\u001b[0m \u001b[0mself\u001b[0m\u001b[1;33m.\u001b[0m\u001b[0m_getitem_lowerdim\u001b[0m\u001b[1;33m(\u001b[0m\u001b[0mtup\u001b[0m\u001b[1;33m)\u001b[0m\u001b[1;33m\u001b[0m\u001b[1;33m\u001b[0m\u001b[0m\n",
      "\u001b[1;32m~\\Anaconda3\\lib\\site-packages\\pandas\\core\\indexing.py\u001b[0m in \u001b[0;36m_has_valid_tuple\u001b[1;34m(self, key)\u001b[0m\n\u001b[0;32m    221\u001b[0m                 \u001b[1;32mraise\u001b[0m \u001b[0mIndexingError\u001b[0m\u001b[1;33m(\u001b[0m\u001b[1;34m'Too many indexers'\u001b[0m\u001b[1;33m)\u001b[0m\u001b[1;33m\u001b[0m\u001b[1;33m\u001b[0m\u001b[0m\n\u001b[0;32m    222\u001b[0m             \u001b[1;32mtry\u001b[0m\u001b[1;33m:\u001b[0m\u001b[1;33m\u001b[0m\u001b[1;33m\u001b[0m\u001b[0m\n\u001b[1;32m--> 223\u001b[1;33m                 \u001b[0mself\u001b[0m\u001b[1;33m.\u001b[0m\u001b[0m_validate_key\u001b[0m\u001b[1;33m(\u001b[0m\u001b[0mk\u001b[0m\u001b[1;33m,\u001b[0m \u001b[0mi\u001b[0m\u001b[1;33m)\u001b[0m\u001b[1;33m\u001b[0m\u001b[1;33m\u001b[0m\u001b[0m\n\u001b[0m\u001b[0;32m    224\u001b[0m             \u001b[1;32mexcept\u001b[0m \u001b[0mValueError\u001b[0m\u001b[1;33m:\u001b[0m\u001b[1;33m\u001b[0m\u001b[1;33m\u001b[0m\u001b[0m\n\u001b[0;32m    225\u001b[0m                 raise ValueError(\"Location based indexing can only have \"\n",
      "\u001b[1;32m~\\Anaconda3\\lib\\site-packages\\pandas\\core\\indexing.py\u001b[0m in \u001b[0;36m_validate_key\u001b[1;34m(self, key, axis)\u001b[0m\n\u001b[0;32m   2068\u001b[0m             \u001b[1;32mreturn\u001b[0m\u001b[1;33m\u001b[0m\u001b[1;33m\u001b[0m\u001b[0m\n\u001b[0;32m   2069\u001b[0m         \u001b[1;32melif\u001b[0m \u001b[0mis_integer\u001b[0m\u001b[1;33m(\u001b[0m\u001b[0mkey\u001b[0m\u001b[1;33m)\u001b[0m\u001b[1;33m:\u001b[0m\u001b[1;33m\u001b[0m\u001b[1;33m\u001b[0m\u001b[0m\n\u001b[1;32m-> 2070\u001b[1;33m             \u001b[0mself\u001b[0m\u001b[1;33m.\u001b[0m\u001b[0m_validate_integer\u001b[0m\u001b[1;33m(\u001b[0m\u001b[0mkey\u001b[0m\u001b[1;33m,\u001b[0m \u001b[0maxis\u001b[0m\u001b[1;33m)\u001b[0m\u001b[1;33m\u001b[0m\u001b[1;33m\u001b[0m\u001b[0m\n\u001b[0m\u001b[0;32m   2071\u001b[0m         \u001b[1;32melif\u001b[0m \u001b[0misinstance\u001b[0m\u001b[1;33m(\u001b[0m\u001b[0mkey\u001b[0m\u001b[1;33m,\u001b[0m \u001b[0mtuple\u001b[0m\u001b[1;33m)\u001b[0m\u001b[1;33m:\u001b[0m\u001b[1;33m\u001b[0m\u001b[1;33m\u001b[0m\u001b[0m\n\u001b[0;32m   2072\u001b[0m             \u001b[1;31m# a tuple should already have been caught by this point\u001b[0m\u001b[1;33m\u001b[0m\u001b[1;33m\u001b[0m\u001b[1;33m\u001b[0m\u001b[0m\n",
      "\u001b[1;32m~\\Anaconda3\\lib\\site-packages\\pandas\\core\\indexing.py\u001b[0m in \u001b[0;36m_validate_integer\u001b[1;34m(self, key, axis)\u001b[0m\n\u001b[0;32m   2137\u001b[0m         \u001b[0mlen_axis\u001b[0m \u001b[1;33m=\u001b[0m \u001b[0mlen\u001b[0m\u001b[1;33m(\u001b[0m\u001b[0mself\u001b[0m\u001b[1;33m.\u001b[0m\u001b[0mobj\u001b[0m\u001b[1;33m.\u001b[0m\u001b[0m_get_axis\u001b[0m\u001b[1;33m(\u001b[0m\u001b[0maxis\u001b[0m\u001b[1;33m)\u001b[0m\u001b[1;33m)\u001b[0m\u001b[1;33m\u001b[0m\u001b[1;33m\u001b[0m\u001b[0m\n\u001b[0;32m   2138\u001b[0m         \u001b[1;32mif\u001b[0m \u001b[0mkey\u001b[0m \u001b[1;33m>=\u001b[0m \u001b[0mlen_axis\u001b[0m \u001b[1;32mor\u001b[0m \u001b[0mkey\u001b[0m \u001b[1;33m<\u001b[0m \u001b[1;33m-\u001b[0m\u001b[0mlen_axis\u001b[0m\u001b[1;33m:\u001b[0m\u001b[1;33m\u001b[0m\u001b[1;33m\u001b[0m\u001b[0m\n\u001b[1;32m-> 2139\u001b[1;33m             \u001b[1;32mraise\u001b[0m \u001b[0mIndexError\u001b[0m\u001b[1;33m(\u001b[0m\u001b[1;34m\"single positional indexer is out-of-bounds\"\u001b[0m\u001b[1;33m)\u001b[0m\u001b[1;33m\u001b[0m\u001b[1;33m\u001b[0m\u001b[0m\n\u001b[0m\u001b[0;32m   2140\u001b[0m \u001b[1;33m\u001b[0m\u001b[0m\n\u001b[0;32m   2141\u001b[0m     \u001b[1;32mdef\u001b[0m \u001b[0m_getitem_tuple\u001b[0m\u001b[1;33m(\u001b[0m\u001b[0mself\u001b[0m\u001b[1;33m,\u001b[0m \u001b[0mtup\u001b[0m\u001b[1;33m)\u001b[0m\u001b[1;33m:\u001b[0m\u001b[1;33m\u001b[0m\u001b[1;33m\u001b[0m\u001b[0m\n",
      "\u001b[1;31mIndexError\u001b[0m: single positional indexer is out-of-bounds"
     ]
    }
   ],
   "source": [
    "#Calculate MAPE \n",
    "MAPE(test.iloc[:,9] , prediction_LR)"
   ]
  },
  {
   "cell_type": "markdown",
   "metadata": {},
   "source": [
    "Decision Tree Model "
   ]
  },
  {
   "cell_type": "code",
   "execution_count": 534,
   "metadata": {},
   "outputs": [],
   "source": [
    "fit = DecisionTreeRegressor( max_depth=10).fit(train.iloc[:,0:6] , train.iloc[:,6])"
   ]
  },
  {
   "cell_type": "code",
   "execution_count": 530,
   "metadata": {},
   "outputs": [
    {
     "data": {
      "text/plain": [
       "DecisionTreeRegressor(criterion='mse', max_depth=6, max_features=None,\n",
       "                      max_leaf_nodes=None, min_impurity_decrease=0.0,\n",
       "                      min_impurity_split=None, min_samples_leaf=1,\n",
       "                      min_samples_split=2, min_weight_fraction_leaf=0.0,\n",
       "                      presort=False, random_state=None, splitter='best')"
      ]
     },
     "execution_count": 530,
     "metadata": {},
     "output_type": "execute_result"
    }
   ],
   "source": [
    "fit\n"
   ]
  },
  {
   "cell_type": "code",
   "execution_count": 535,
   "metadata": {},
   "outputs": [],
   "source": [
    "predictions_Dt = fit.predict(test.iloc[:,0:6])\n"
   ]
  },
  {
   "cell_type": "code",
   "execution_count": 532,
   "metadata": {},
   "outputs": [
    {
     "data": {
      "text/plain": [
       "2993"
      ]
     },
     "execution_count": 532,
     "metadata": {},
     "output_type": "execute_result"
    }
   ],
   "source": [
    "len(predictions_Dt)"
   ]
  },
  {
   "cell_type": "code",
   "execution_count": 456,
   "metadata": {
    "collapsed": true
   },
   "outputs": [
    {
     "data": {
      "text/plain": [
       "3742      5.300000\n",
       "5665      9.700000\n",
       "3706      9.700000\n",
       "7328      7.100000\n",
       "4856      6.900000\n",
       "11977     6.100000\n",
       "9197      5.300000\n",
       "14422    11.700000\n",
       "5605     11.500000\n",
       "7510      4.500000\n",
       "3795     15.554186\n",
       "12348     7.000000\n",
       "12975    12.500000\n",
       "1849      6.037450\n",
       "2756     11.000000\n",
       "14349     6.000000\n",
       "8779      9.500000\n",
       "5389      6.100000\n",
       "8871     18.500000\n",
       "10298     7.300000\n",
       "2676      7.500000\n",
       "1218      5.700000\n",
       "4390     13.300000\n",
       "13497     7.300000\n",
       "3235      3.700000\n",
       "4170     21.134335\n",
       "9047     11.500000\n",
       "774       6.600000\n",
       "11564    10.500000\n",
       "4341      9.500000\n",
       "           ...    \n",
       "14957    22.000000\n",
       "14053     8.100000\n",
       "5778      6.500000\n",
       "11930    12.000000\n",
       "13824     6.900000\n",
       "6261      8.000000\n",
       "9825     11.000000\n",
       "11099     6.000000\n",
       "5464     19.700000\n",
       "12757     6.500000\n",
       "10217     6.374758\n",
       "9788      4.100000\n",
       "14619     6.500000\n",
       "11162     4.500000\n",
       "232      12.000000\n",
       "297       9.700000\n",
       "586      14.500000\n",
       "2227     18.100000\n",
       "11785    16.100000\n",
       "1012     10.100000\n",
       "11270     5.700000\n",
       "4286      7.500000\n",
       "8659     18.500000\n",
       "14915     6.500000\n",
       "4263      6.500000\n",
       "11141     7.000000\n",
       "12207     9.500000\n",
       "6782      6.900000\n",
       "2764      3.300000\n",
       "1989      6.900000\n",
       "Name: fare_amount, Length: 5238, dtype: float64"
      ]
     },
     "execution_count": 456,
     "metadata": {},
     "output_type": "execute_result"
    }
   ],
   "source": [
    "test.iloc[:,6]"
   ]
  },
  {
   "cell_type": "code",
   "execution_count": 478,
   "metadata": {},
   "outputs": [],
   "source": [
    "#Calculate Mape\n",
    "def MAPE(y_true,y_pred):\n",
    "    mape = np.mean(np.abs( (y_true - y_pred)/y_true )) *100\n",
    "    return mape"
   ]
  },
  {
   "cell_type": "code",
   "execution_count": 536,
   "metadata": {},
   "outputs": [
    {
     "data": {
      "text/plain": [
       "20.530951192571983"
      ]
     },
     "execution_count": 536,
     "metadata": {},
     "output_type": "execute_result"
    }
   ],
   "source": [
    "MAPE(test.iloc[:,6] , predictions_Dt)"
   ]
  },
  {
   "cell_type": "markdown",
   "metadata": {},
   "source": [
    "The model built by the Decision Tree Regression Model was approximately 77 % accurate with max_depth = 2 \n"
   ]
  },
  {
   "cell_type": "markdown",
   "metadata": {},
   "source": [
    "The model built by the Decision Tree Regression Model was approximately 81 % accurate with max_depth = 6 \n"
   ]
  },
  {
   "cell_type": "markdown",
   "metadata": {},
   "source": [
    "The model built by the Decision Tree Regression Model was approximately 80.5 % accurate with max_depth = 10"
   ]
  },
  {
   "cell_type": "code",
   "execution_count": null,
   "metadata": {},
   "outputs": [],
   "source": []
  },
  {
   "cell_type": "markdown",
   "metadata": {},
   "source": [
    "Random Forest Regression Model"
   ]
  },
  {
   "cell_type": "code",
   "execution_count": 526,
   "metadata": {},
   "outputs": [],
   "source": [
    "fit_RandForest = RandomForestRegressor(n_estimators = 80).fit( train.iloc[:,0:6] , train.iloc[:,6] )"
   ]
  },
  {
   "cell_type": "code",
   "execution_count": 527,
   "metadata": {},
   "outputs": [],
   "source": [
    "predtiction_RF = fit_RandForest.predict(test.iloc[:,0:6])"
   ]
  },
  {
   "cell_type": "code",
   "execution_count": 486,
   "metadata": {},
   "outputs": [
    {
     "data": {
      "text/plain": [
       "21.06002759780191"
      ]
     },
     "execution_count": 486,
     "metadata": {},
     "output_type": "execute_result"
    }
   ],
   "source": [
    "# MAPE(test.iloc[:,6],predtiction_RF) with n_estimators = 10 , the accuracy is 79%"
   ]
  },
  {
   "cell_type": "code",
   "execution_count": 510,
   "metadata": {},
   "outputs": [
    {
     "data": {
      "text/plain": [
       "20.38012303867308"
      ]
     },
     "execution_count": 510,
     "metadata": {},
     "output_type": "execute_result"
    }
   ],
   "source": [
    "MAPE(test.iloc[:,6],predtiction_RF) #wuth n_estimators = 20 , the accuracy shoots up to approximately 81%"
   ]
  },
  {
   "cell_type": "code",
   "execution_count": 516,
   "metadata": {},
   "outputs": [
    {
     "data": {
      "text/plain": [
       "20.33343037069148"
      ]
     },
     "execution_count": 516,
     "metadata": {},
     "output_type": "execute_result"
    }
   ],
   "source": [
    "MAPE(test.iloc[:,6],predtiction_RF) # n=40 , accuracy = 80.67%"
   ]
  },
  {
   "cell_type": "code",
   "execution_count": 519,
   "metadata": {},
   "outputs": [
    {
     "data": {
      "text/plain": [
       "20.237310378906884"
      ]
     },
     "execution_count": 519,
     "metadata": {},
     "output_type": "execute_result"
    }
   ],
   "source": [
    "MAPE(test.iloc[:,6],predtiction_RF) # n=50 , accuracy = 80.67%"
   ]
  },
  {
   "cell_type": "code",
   "execution_count": 522,
   "metadata": {},
   "outputs": [
    {
     "data": {
      "text/plain": [
       "20.139348250697232"
      ]
     },
     "execution_count": 522,
     "metadata": {},
     "output_type": "execute_result"
    }
   ],
   "source": [
    "MAPE(test.iloc[:,6],predtiction_RF) #n=60  "
   ]
  },
  {
   "cell_type": "code",
   "execution_count": 525,
   "metadata": {},
   "outputs": [
    {
     "data": {
      "text/plain": [
       "20.195184565323903"
      ]
     },
     "execution_count": 525,
     "metadata": {},
     "output_type": "execute_result"
    }
   ],
   "source": [
    "MAPE(test.iloc[:,6],predtiction_RF) # n=70"
   ]
  },
  {
   "cell_type": "code",
   "execution_count": 528,
   "metadata": {},
   "outputs": [
    {
     "data": {
      "text/plain": [
       "20.291962944424245"
      ]
     },
     "execution_count": 528,
     "metadata": {},
     "output_type": "execute_result"
    }
   ],
   "source": [
    "MAPE(test.iloc[:,6],predtiction_RF) # n=80"
   ]
  },
  {
   "cell_type": "code",
   "execution_count": null,
   "metadata": {},
   "outputs": [],
   "source": []
  },
  {
   "cell_type": "code",
   "execution_count": null,
   "metadata": {},
   "outputs": [],
   "source": []
  }
 ],
 "metadata": {
  "kernelspec": {
   "display_name": "Python 3",
   "language": "python",
   "name": "python3"
  },
  "language_info": {
   "codemirror_mode": {
    "name": "ipython",
    "version": 3
   },
   "file_extension": ".py",
   "mimetype": "text/x-python",
   "name": "python",
   "nbconvert_exporter": "python",
   "pygments_lexer": "ipython3",
   "version": "3.7.3"
  }
 },
 "nbformat": 4,
 "nbformat_minor": 2
}
